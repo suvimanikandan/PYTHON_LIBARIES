{
 "cells": [
  {
   "cell_type": "code",
   "execution_count": 1,
   "id": "5470b767",
   "metadata": {},
   "outputs": [],
   "source": [
    "import pandas as pd\n",
    "import numpy as np"
   ]
  },
  {
   "cell_type": "code",
   "execution_count": 2,
   "id": "0e8d8850",
   "metadata": {},
   "outputs": [],
   "source": [
    "s=pd.Series([1,2,3,4,5,6,np.nan,8,9,10])"
   ]
  },
  {
   "cell_type": "code",
   "execution_count": 3,
   "id": "f111e52f",
   "metadata": {},
   "outputs": [
    {
     "data": {
      "text/plain": [
       "0     1.0\n",
       "1     2.0\n",
       "2     3.0\n",
       "3     4.0\n",
       "4     5.0\n",
       "5     6.0\n",
       "6     NaN\n",
       "7     8.0\n",
       "8     9.0\n",
       "9    10.0\n",
       "dtype: float64"
      ]
     },
     "execution_count": 3,
     "metadata": {},
     "output_type": "execute_result"
    }
   ],
   "source": [
    "s"
   ]
  },
  {
   "cell_type": "code",
   "execution_count": 4,
   "id": "3b52584b",
   "metadata": {},
   "outputs": [],
   "source": [
    "d = pd.date_range('20200301',periods=10)"
   ]
  },
  {
   "cell_type": "code",
   "execution_count": 5,
   "id": "a0e119cd",
   "metadata": {},
   "outputs": [
    {
     "data": {
      "text/plain": [
       "DatetimeIndex(['2020-03-01', '2020-03-02', '2020-03-03', '2020-03-04',\n",
       "               '2020-03-05', '2020-03-06', '2020-03-07', '2020-03-08',\n",
       "               '2020-03-09', '2020-03-10'],\n",
       "              dtype='datetime64[ns]', freq='D')"
      ]
     },
     "execution_count": 5,
     "metadata": {},
     "output_type": "execute_result"
    }
   ],
   "source": [
    "d"
   ]
  },
  {
   "cell_type": "code",
   "execution_count": 6,
   "id": "9530c241",
   "metadata": {},
   "outputs": [],
   "source": [
    "df=pd.DataFrame(np.random.randn(10,4),index=d,columns=['A','B','C','D'])"
   ]
  },
  {
   "cell_type": "code",
   "execution_count": 7,
   "id": "aa2a8047",
   "metadata": {},
   "outputs": [
    {
     "data": {
      "text/html": [
       "<div>\n",
       "<style scoped>\n",
       "    .dataframe tbody tr th:only-of-type {\n",
       "        vertical-align: middle;\n",
       "    }\n",
       "\n",
       "    .dataframe tbody tr th {\n",
       "        vertical-align: top;\n",
       "    }\n",
       "\n",
       "    .dataframe thead th {\n",
       "        text-align: right;\n",
       "    }\n",
       "</style>\n",
       "<table border=\"1\" class=\"dataframe\">\n",
       "  <thead>\n",
       "    <tr style=\"text-align: right;\">\n",
       "      <th></th>\n",
       "      <th>A</th>\n",
       "      <th>B</th>\n",
       "      <th>C</th>\n",
       "      <th>D</th>\n",
       "    </tr>\n",
       "  </thead>\n",
       "  <tbody>\n",
       "    <tr>\n",
       "      <th>2020-03-01</th>\n",
       "      <td>1.786522</td>\n",
       "      <td>1.938678</td>\n",
       "      <td>-0.118777</td>\n",
       "      <td>1.159943</td>\n",
       "    </tr>\n",
       "    <tr>\n",
       "      <th>2020-03-02</th>\n",
       "      <td>-0.261701</td>\n",
       "      <td>1.205738</td>\n",
       "      <td>0.418711</td>\n",
       "      <td>0.313166</td>\n",
       "    </tr>\n",
       "    <tr>\n",
       "      <th>2020-03-03</th>\n",
       "      <td>0.306638</td>\n",
       "      <td>1.009445</td>\n",
       "      <td>0.675123</td>\n",
       "      <td>-0.528734</td>\n",
       "    </tr>\n",
       "    <tr>\n",
       "      <th>2020-03-04</th>\n",
       "      <td>-0.222401</td>\n",
       "      <td>-0.517406</td>\n",
       "      <td>1.341791</td>\n",
       "      <td>-0.569522</td>\n",
       "    </tr>\n",
       "    <tr>\n",
       "      <th>2020-03-05</th>\n",
       "      <td>0.725612</td>\n",
       "      <td>1.282983</td>\n",
       "      <td>-0.836261</td>\n",
       "      <td>-1.876901</td>\n",
       "    </tr>\n",
       "    <tr>\n",
       "      <th>2020-03-06</th>\n",
       "      <td>-0.488043</td>\n",
       "      <td>-0.395684</td>\n",
       "      <td>-2.015299</td>\n",
       "      <td>1.673068</td>\n",
       "    </tr>\n",
       "    <tr>\n",
       "      <th>2020-03-07</th>\n",
       "      <td>1.856277</td>\n",
       "      <td>-0.627926</td>\n",
       "      <td>-1.021733</td>\n",
       "      <td>-1.301282</td>\n",
       "    </tr>\n",
       "    <tr>\n",
       "      <th>2020-03-08</th>\n",
       "      <td>0.797209</td>\n",
       "      <td>1.502797</td>\n",
       "      <td>-0.278331</td>\n",
       "      <td>-1.240941</td>\n",
       "    </tr>\n",
       "    <tr>\n",
       "      <th>2020-03-09</th>\n",
       "      <td>-0.765331</td>\n",
       "      <td>-0.702870</td>\n",
       "      <td>1.004759</td>\n",
       "      <td>-0.269358</td>\n",
       "    </tr>\n",
       "    <tr>\n",
       "      <th>2020-03-10</th>\n",
       "      <td>-1.337786</td>\n",
       "      <td>0.914700</td>\n",
       "      <td>-0.619939</td>\n",
       "      <td>-0.093503</td>\n",
       "    </tr>\n",
       "  </tbody>\n",
       "</table>\n",
       "</div>"
      ],
      "text/plain": [
       "                   A         B         C         D\n",
       "2020-03-01  1.786522  1.938678 -0.118777  1.159943\n",
       "2020-03-02 -0.261701  1.205738  0.418711  0.313166\n",
       "2020-03-03  0.306638  1.009445  0.675123 -0.528734\n",
       "2020-03-04 -0.222401 -0.517406  1.341791 -0.569522\n",
       "2020-03-05  0.725612  1.282983 -0.836261 -1.876901\n",
       "2020-03-06 -0.488043 -0.395684 -2.015299  1.673068\n",
       "2020-03-07  1.856277 -0.627926 -1.021733 -1.301282\n",
       "2020-03-08  0.797209  1.502797 -0.278331 -1.240941\n",
       "2020-03-09 -0.765331 -0.702870  1.004759 -0.269358\n",
       "2020-03-10 -1.337786  0.914700 -0.619939 -0.093503"
      ]
     },
     "execution_count": 7,
     "metadata": {},
     "output_type": "execute_result"
    }
   ],
   "source": [
    "df"
   ]
  },
  {
   "cell_type": "code",
   "execution_count": 8,
   "id": "539a2bd3",
   "metadata": {},
   "outputs": [],
   "source": [
    "df1=pd.DataFrame({'A':[1,2,3,4],\n",
    "                 'B':pd.Timestamp('20200301'),\n",
    "                 'C':pd.Series(1,index=list(range(4)),dtype='float32'),\n",
    "                 'D':np.array([5]*4,dtype='int32'),\n",
    "                 'E':pd.Categorical(['True','False','True','False']),\n",
    "                 'F':'edureka'})"
   ]
  },
  {
   "cell_type": "code",
   "execution_count": 9,
   "id": "65df4552",
   "metadata": {},
   "outputs": [
    {
     "data": {
      "text/html": [
       "<div>\n",
       "<style scoped>\n",
       "    .dataframe tbody tr th:only-of-type {\n",
       "        vertical-align: middle;\n",
       "    }\n",
       "\n",
       "    .dataframe tbody tr th {\n",
       "        vertical-align: top;\n",
       "    }\n",
       "\n",
       "    .dataframe thead th {\n",
       "        text-align: right;\n",
       "    }\n",
       "</style>\n",
       "<table border=\"1\" class=\"dataframe\">\n",
       "  <thead>\n",
       "    <tr style=\"text-align: right;\">\n",
       "      <th></th>\n",
       "      <th>A</th>\n",
       "      <th>B</th>\n",
       "      <th>C</th>\n",
       "      <th>D</th>\n",
       "      <th>E</th>\n",
       "      <th>F</th>\n",
       "    </tr>\n",
       "  </thead>\n",
       "  <tbody>\n",
       "    <tr>\n",
       "      <th>0</th>\n",
       "      <td>1</td>\n",
       "      <td>2020-03-01</td>\n",
       "      <td>1.0</td>\n",
       "      <td>5</td>\n",
       "      <td>True</td>\n",
       "      <td>edureka</td>\n",
       "    </tr>\n",
       "    <tr>\n",
       "      <th>1</th>\n",
       "      <td>2</td>\n",
       "      <td>2020-03-01</td>\n",
       "      <td>1.0</td>\n",
       "      <td>5</td>\n",
       "      <td>False</td>\n",
       "      <td>edureka</td>\n",
       "    </tr>\n",
       "    <tr>\n",
       "      <th>2</th>\n",
       "      <td>3</td>\n",
       "      <td>2020-03-01</td>\n",
       "      <td>1.0</td>\n",
       "      <td>5</td>\n",
       "      <td>True</td>\n",
       "      <td>edureka</td>\n",
       "    </tr>\n",
       "    <tr>\n",
       "      <th>3</th>\n",
       "      <td>4</td>\n",
       "      <td>2020-03-01</td>\n",
       "      <td>1.0</td>\n",
       "      <td>5</td>\n",
       "      <td>False</td>\n",
       "      <td>edureka</td>\n",
       "    </tr>\n",
       "  </tbody>\n",
       "</table>\n",
       "</div>"
      ],
      "text/plain": [
       "   A          B    C  D      E        F\n",
       "0  1 2020-03-01  1.0  5   True  edureka\n",
       "1  2 2020-03-01  1.0  5  False  edureka\n",
       "2  3 2020-03-01  1.0  5   True  edureka\n",
       "3  4 2020-03-01  1.0  5  False  edureka"
      ]
     },
     "execution_count": 9,
     "metadata": {},
     "output_type": "execute_result"
    }
   ],
   "source": [
    "df1"
   ]
  },
  {
   "cell_type": "code",
   "execution_count": 10,
   "id": "023e391e",
   "metadata": {},
   "outputs": [
    {
     "data": {
      "text/plain": [
       "A             int64\n",
       "B    datetime64[ns]\n",
       "C           float32\n",
       "D             int32\n",
       "E          category\n",
       "F            object\n",
       "dtype: object"
      ]
     },
     "execution_count": 10,
     "metadata": {},
     "output_type": "execute_result"
    }
   ],
   "source": [
    "df1.dtypes"
   ]
  },
  {
   "cell_type": "code",
   "execution_count": 11,
   "id": "57917d0d",
   "metadata": {},
   "outputs": [
    {
     "data": {
      "text/plain": [
       "A    float64\n",
       "B    float64\n",
       "C    float64\n",
       "D    float64\n",
       "dtype: object"
      ]
     },
     "execution_count": 11,
     "metadata": {},
     "output_type": "execute_result"
    }
   ],
   "source": [
    "df.dtypes"
   ]
  },
  {
   "cell_type": "code",
   "execution_count": 12,
   "id": "6af4d1ca",
   "metadata": {},
   "outputs": [],
   "source": [
    "# df1.dtypes"
   ]
  },
  {
   "cell_type": "code",
   "execution_count": 13,
   "id": "8f69a92f",
   "metadata": {},
   "outputs": [
    {
     "data": {
      "text/plain": [
       "A    float64\n",
       "B    float64\n",
       "C    float64\n",
       "D    float64\n",
       "dtype: object"
      ]
     },
     "execution_count": 13,
     "metadata": {},
     "output_type": "execute_result"
    }
   ],
   "source": [
    "df.dtypes"
   ]
  },
  {
   "cell_type": "code",
   "execution_count": 14,
   "id": "5e70a663",
   "metadata": {},
   "outputs": [
    {
     "data": {
      "text/html": [
       "<div>\n",
       "<style scoped>\n",
       "    .dataframe tbody tr th:only-of-type {\n",
       "        vertical-align: middle;\n",
       "    }\n",
       "\n",
       "    .dataframe tbody tr th {\n",
       "        vertical-align: top;\n",
       "    }\n",
       "\n",
       "    .dataframe thead th {\n",
       "        text-align: right;\n",
       "    }\n",
       "</style>\n",
       "<table border=\"1\" class=\"dataframe\">\n",
       "  <thead>\n",
       "    <tr style=\"text-align: right;\">\n",
       "      <th></th>\n",
       "      <th>A</th>\n",
       "      <th>B</th>\n",
       "      <th>C</th>\n",
       "      <th>D</th>\n",
       "    </tr>\n",
       "  </thead>\n",
       "  <tbody>\n",
       "    <tr>\n",
       "      <th>2020-03-01</th>\n",
       "      <td>1.786522</td>\n",
       "      <td>1.938678</td>\n",
       "      <td>-0.118777</td>\n",
       "      <td>1.159943</td>\n",
       "    </tr>\n",
       "    <tr>\n",
       "      <th>2020-03-02</th>\n",
       "      <td>-0.261701</td>\n",
       "      <td>1.205738</td>\n",
       "      <td>0.418711</td>\n",
       "      <td>0.313166</td>\n",
       "    </tr>\n",
       "    <tr>\n",
       "      <th>2020-03-03</th>\n",
       "      <td>0.306638</td>\n",
       "      <td>1.009445</td>\n",
       "      <td>0.675123</td>\n",
       "      <td>-0.528734</td>\n",
       "    </tr>\n",
       "    <tr>\n",
       "      <th>2020-03-04</th>\n",
       "      <td>-0.222401</td>\n",
       "      <td>-0.517406</td>\n",
       "      <td>1.341791</td>\n",
       "      <td>-0.569522</td>\n",
       "    </tr>\n",
       "    <tr>\n",
       "      <th>2020-03-05</th>\n",
       "      <td>0.725612</td>\n",
       "      <td>1.282983</td>\n",
       "      <td>-0.836261</td>\n",
       "      <td>-1.876901</td>\n",
       "    </tr>\n",
       "  </tbody>\n",
       "</table>\n",
       "</div>"
      ],
      "text/plain": [
       "                   A         B         C         D\n",
       "2020-03-01  1.786522  1.938678 -0.118777  1.159943\n",
       "2020-03-02 -0.261701  1.205738  0.418711  0.313166\n",
       "2020-03-03  0.306638  1.009445  0.675123 -0.528734\n",
       "2020-03-04 -0.222401 -0.517406  1.341791 -0.569522\n",
       "2020-03-05  0.725612  1.282983 -0.836261 -1.876901"
      ]
     },
     "execution_count": 14,
     "metadata": {},
     "output_type": "execute_result"
    }
   ],
   "source": [
    "df.head()"
   ]
  },
  {
   "cell_type": "code",
   "execution_count": 15,
   "id": "3c9cf270",
   "metadata": {},
   "outputs": [
    {
     "data": {
      "text/html": [
       "<div>\n",
       "<style scoped>\n",
       "    .dataframe tbody tr th:only-of-type {\n",
       "        vertical-align: middle;\n",
       "    }\n",
       "\n",
       "    .dataframe tbody tr th {\n",
       "        vertical-align: top;\n",
       "    }\n",
       "\n",
       "    .dataframe thead th {\n",
       "        text-align: right;\n",
       "    }\n",
       "</style>\n",
       "<table border=\"1\" class=\"dataframe\">\n",
       "  <thead>\n",
       "    <tr style=\"text-align: right;\">\n",
       "      <th></th>\n",
       "      <th>A</th>\n",
       "      <th>B</th>\n",
       "      <th>C</th>\n",
       "      <th>D</th>\n",
       "    </tr>\n",
       "  </thead>\n",
       "  <tbody>\n",
       "    <tr>\n",
       "      <th>2020-03-06</th>\n",
       "      <td>-0.488043</td>\n",
       "      <td>-0.395684</td>\n",
       "      <td>-2.015299</td>\n",
       "      <td>1.673068</td>\n",
       "    </tr>\n",
       "    <tr>\n",
       "      <th>2020-03-07</th>\n",
       "      <td>1.856277</td>\n",
       "      <td>-0.627926</td>\n",
       "      <td>-1.021733</td>\n",
       "      <td>-1.301282</td>\n",
       "    </tr>\n",
       "    <tr>\n",
       "      <th>2020-03-08</th>\n",
       "      <td>0.797209</td>\n",
       "      <td>1.502797</td>\n",
       "      <td>-0.278331</td>\n",
       "      <td>-1.240941</td>\n",
       "    </tr>\n",
       "    <tr>\n",
       "      <th>2020-03-09</th>\n",
       "      <td>-0.765331</td>\n",
       "      <td>-0.702870</td>\n",
       "      <td>1.004759</td>\n",
       "      <td>-0.269358</td>\n",
       "    </tr>\n",
       "    <tr>\n",
       "      <th>2020-03-10</th>\n",
       "      <td>-1.337786</td>\n",
       "      <td>0.914700</td>\n",
       "      <td>-0.619939</td>\n",
       "      <td>-0.093503</td>\n",
       "    </tr>\n",
       "  </tbody>\n",
       "</table>\n",
       "</div>"
      ],
      "text/plain": [
       "                   A         B         C         D\n",
       "2020-03-06 -0.488043 -0.395684 -2.015299  1.673068\n",
       "2020-03-07  1.856277 -0.627926 -1.021733 -1.301282\n",
       "2020-03-08  0.797209  1.502797 -0.278331 -1.240941\n",
       "2020-03-09 -0.765331 -0.702870  1.004759 -0.269358\n",
       "2020-03-10 -1.337786  0.914700 -0.619939 -0.093503"
      ]
     },
     "execution_count": 15,
     "metadata": {},
     "output_type": "execute_result"
    }
   ],
   "source": [
    "df.tail()"
   ]
  },
  {
   "cell_type": "code",
   "execution_count": 16,
   "id": "3af55171",
   "metadata": {},
   "outputs": [
    {
     "data": {
      "text/plain": [
       "DatetimeIndex(['2020-03-01', '2020-03-02', '2020-03-03', '2020-03-04',\n",
       "               '2020-03-05', '2020-03-06', '2020-03-07', '2020-03-08',\n",
       "               '2020-03-09', '2020-03-10'],\n",
       "              dtype='datetime64[ns]', freq='D')"
      ]
     },
     "execution_count": 16,
     "metadata": {},
     "output_type": "execute_result"
    }
   ],
   "source": [
    "df.index"
   ]
  },
  {
   "cell_type": "code",
   "execution_count": 17,
   "id": "d531ea2f",
   "metadata": {},
   "outputs": [
    {
     "data": {
      "text/plain": [
       "Index(['A', 'B', 'C', 'D'], dtype='object')"
      ]
     },
     "execution_count": 17,
     "metadata": {},
     "output_type": "execute_result"
    }
   ],
   "source": [
    "df.columns"
   ]
  },
  {
   "cell_type": "code",
   "execution_count": 18,
   "id": "a6b11dce",
   "metadata": {},
   "outputs": [
    {
     "data": {
      "text/plain": [
       "array([[ 1.78652175,  1.93867788, -0.11877691,  1.15994301],\n",
       "       [-0.26170123,  1.20573757,  0.4187109 ,  0.31316624],\n",
       "       [ 0.30663805,  1.0094446 ,  0.67512297, -0.52873381],\n",
       "       [-0.22240054, -0.51740593,  1.34179144, -0.56952178],\n",
       "       [ 0.7256122 ,  1.28298261, -0.83626115, -1.87690127],\n",
       "       [-0.48804305, -0.3956835 , -2.01529861,  1.67306758],\n",
       "       [ 1.85627711, -0.62792623, -1.02173343, -1.30128165],\n",
       "       [ 0.79720913,  1.50279662, -0.27833096, -1.24094054],\n",
       "       [-0.76533074, -0.70286973,  1.00475918, -0.26935793],\n",
       "       [-1.33778621,  0.91469966, -0.61993864, -0.09350329]])"
      ]
     },
     "execution_count": 18,
     "metadata": {},
     "output_type": "execute_result"
    }
   ],
   "source": [
    "df.to_numpy()"
   ]
  },
  {
   "cell_type": "code",
   "execution_count": 19,
   "id": "44633dcb",
   "metadata": {},
   "outputs": [
    {
     "data": {
      "text/html": [
       "<div>\n",
       "<style scoped>\n",
       "    .dataframe tbody tr th:only-of-type {\n",
       "        vertical-align: middle;\n",
       "    }\n",
       "\n",
       "    .dataframe tbody tr th {\n",
       "        vertical-align: top;\n",
       "    }\n",
       "\n",
       "    .dataframe thead th {\n",
       "        text-align: right;\n",
       "    }\n",
       "</style>\n",
       "<table border=\"1\" class=\"dataframe\">\n",
       "  <thead>\n",
       "    <tr style=\"text-align: right;\">\n",
       "      <th></th>\n",
       "      <th>A</th>\n",
       "      <th>B</th>\n",
       "      <th>C</th>\n",
       "      <th>D</th>\n",
       "    </tr>\n",
       "  </thead>\n",
       "  <tbody>\n",
       "    <tr>\n",
       "      <th>count</th>\n",
       "      <td>10.000000</td>\n",
       "      <td>10.000000</td>\n",
       "      <td>10.000000</td>\n",
       "      <td>10.000000</td>\n",
       "    </tr>\n",
       "    <tr>\n",
       "      <th>mean</th>\n",
       "      <td>0.239700</td>\n",
       "      <td>0.561045</td>\n",
       "      <td>-0.144996</td>\n",
       "      <td>-0.273406</td>\n",
       "    </tr>\n",
       "    <tr>\n",
       "      <th>std</th>\n",
       "      <td>1.056750</td>\n",
       "      <td>1.007596</td>\n",
       "      <td>1.028020</td>\n",
       "      <td>1.102342</td>\n",
       "    </tr>\n",
       "    <tr>\n",
       "      <th>min</th>\n",
       "      <td>-1.337786</td>\n",
       "      <td>-0.702870</td>\n",
       "      <td>-2.015299</td>\n",
       "      <td>-1.876901</td>\n",
       "    </tr>\n",
       "    <tr>\n",
       "      <th>25%</th>\n",
       "      <td>-0.431458</td>\n",
       "      <td>-0.486975</td>\n",
       "      <td>-0.782181</td>\n",
       "      <td>-1.073086</td>\n",
       "    </tr>\n",
       "    <tr>\n",
       "      <th>50%</th>\n",
       "      <td>0.042119</td>\n",
       "      <td>0.962072</td>\n",
       "      <td>-0.198554</td>\n",
       "      <td>-0.399046</td>\n",
       "    </tr>\n",
       "    <tr>\n",
       "      <th>75%</th>\n",
       "      <td>0.779310</td>\n",
       "      <td>1.263671</td>\n",
       "      <td>0.611020</td>\n",
       "      <td>0.211499</td>\n",
       "    </tr>\n",
       "    <tr>\n",
       "      <th>max</th>\n",
       "      <td>1.856277</td>\n",
       "      <td>1.938678</td>\n",
       "      <td>1.341791</td>\n",
       "      <td>1.673068</td>\n",
       "    </tr>\n",
       "  </tbody>\n",
       "</table>\n",
       "</div>"
      ],
      "text/plain": [
       "               A          B          C          D\n",
       "count  10.000000  10.000000  10.000000  10.000000\n",
       "mean    0.239700   0.561045  -0.144996  -0.273406\n",
       "std     1.056750   1.007596   1.028020   1.102342\n",
       "min    -1.337786  -0.702870  -2.015299  -1.876901\n",
       "25%    -0.431458  -0.486975  -0.782181  -1.073086\n",
       "50%     0.042119   0.962072  -0.198554  -0.399046\n",
       "75%     0.779310   1.263671   0.611020   0.211499\n",
       "max     1.856277   1.938678   1.341791   1.673068"
      ]
     },
     "execution_count": 19,
     "metadata": {},
     "output_type": "execute_result"
    }
   ],
   "source": [
    "df.describe()"
   ]
  },
  {
   "cell_type": "raw",
   "id": "8ea82254",
   "metadata": {},
   "source": [
    "df.sort_values(by='C')"
   ]
  },
  {
   "cell_type": "code",
   "execution_count": 20,
   "id": "b7aeb7aa",
   "metadata": {},
   "outputs": [
    {
     "data": {
      "text/html": [
       "<div>\n",
       "<style scoped>\n",
       "    .dataframe tbody tr th:only-of-type {\n",
       "        vertical-align: middle;\n",
       "    }\n",
       "\n",
       "    .dataframe tbody tr th {\n",
       "        vertical-align: top;\n",
       "    }\n",
       "\n",
       "    .dataframe thead th {\n",
       "        text-align: right;\n",
       "    }\n",
       "</style>\n",
       "<table border=\"1\" class=\"dataframe\">\n",
       "  <thead>\n",
       "    <tr style=\"text-align: right;\">\n",
       "      <th></th>\n",
       "      <th>A</th>\n",
       "      <th>B</th>\n",
       "      <th>C</th>\n",
       "      <th>D</th>\n",
       "    </tr>\n",
       "  </thead>\n",
       "  <tbody>\n",
       "    <tr>\n",
       "      <th>2020-03-01</th>\n",
       "      <td>1.786522</td>\n",
       "      <td>1.938678</td>\n",
       "      <td>-0.118777</td>\n",
       "      <td>1.159943</td>\n",
       "    </tr>\n",
       "    <tr>\n",
       "      <th>2020-03-02</th>\n",
       "      <td>-0.261701</td>\n",
       "      <td>1.205738</td>\n",
       "      <td>0.418711</td>\n",
       "      <td>0.313166</td>\n",
       "    </tr>\n",
       "    <tr>\n",
       "      <th>2020-03-03</th>\n",
       "      <td>0.306638</td>\n",
       "      <td>1.009445</td>\n",
       "      <td>0.675123</td>\n",
       "      <td>-0.528734</td>\n",
       "    </tr>\n",
       "    <tr>\n",
       "      <th>2020-03-04</th>\n",
       "      <td>-0.222401</td>\n",
       "      <td>-0.517406</td>\n",
       "      <td>1.341791</td>\n",
       "      <td>-0.569522</td>\n",
       "    </tr>\n",
       "    <tr>\n",
       "      <th>2020-03-05</th>\n",
       "      <td>0.725612</td>\n",
       "      <td>1.282983</td>\n",
       "      <td>-0.836261</td>\n",
       "      <td>-1.876901</td>\n",
       "    </tr>\n",
       "    <tr>\n",
       "      <th>2020-03-06</th>\n",
       "      <td>-0.488043</td>\n",
       "      <td>-0.395684</td>\n",
       "      <td>-2.015299</td>\n",
       "      <td>1.673068</td>\n",
       "    </tr>\n",
       "    <tr>\n",
       "      <th>2020-03-07</th>\n",
       "      <td>1.856277</td>\n",
       "      <td>-0.627926</td>\n",
       "      <td>-1.021733</td>\n",
       "      <td>-1.301282</td>\n",
       "    </tr>\n",
       "    <tr>\n",
       "      <th>2020-03-08</th>\n",
       "      <td>0.797209</td>\n",
       "      <td>1.502797</td>\n",
       "      <td>-0.278331</td>\n",
       "      <td>-1.240941</td>\n",
       "    </tr>\n",
       "    <tr>\n",
       "      <th>2020-03-09</th>\n",
       "      <td>-0.765331</td>\n",
       "      <td>-0.702870</td>\n",
       "      <td>1.004759</td>\n",
       "      <td>-0.269358</td>\n",
       "    </tr>\n",
       "    <tr>\n",
       "      <th>2020-03-10</th>\n",
       "      <td>-1.337786</td>\n",
       "      <td>0.914700</td>\n",
       "      <td>-0.619939</td>\n",
       "      <td>-0.093503</td>\n",
       "    </tr>\n",
       "  </tbody>\n",
       "</table>\n",
       "</div>"
      ],
      "text/plain": [
       "                   A         B         C         D\n",
       "2020-03-01  1.786522  1.938678 -0.118777  1.159943\n",
       "2020-03-02 -0.261701  1.205738  0.418711  0.313166\n",
       "2020-03-03  0.306638  1.009445  0.675123 -0.528734\n",
       "2020-03-04 -0.222401 -0.517406  1.341791 -0.569522\n",
       "2020-03-05  0.725612  1.282983 -0.836261 -1.876901\n",
       "2020-03-06 -0.488043 -0.395684 -2.015299  1.673068\n",
       "2020-03-07  1.856277 -0.627926 -1.021733 -1.301282\n",
       "2020-03-08  0.797209  1.502797 -0.278331 -1.240941\n",
       "2020-03-09 -0.765331 -0.702870  1.004759 -0.269358\n",
       "2020-03-10 -1.337786  0.914700 -0.619939 -0.093503"
      ]
     },
     "execution_count": 20,
     "metadata": {},
     "output_type": "execute_result"
    }
   ],
   "source": [
    "df"
   ]
  },
  {
   "cell_type": "code",
   "execution_count": 21,
   "id": "e7ad9777",
   "metadata": {},
   "outputs": [
    {
     "data": {
      "text/plain": [
       "2020-03-01   -0.118777\n",
       "2020-03-02    0.418711\n",
       "2020-03-03    0.675123\n",
       "2020-03-04    1.341791\n",
       "2020-03-05   -0.836261\n",
       "2020-03-06   -2.015299\n",
       "2020-03-07   -1.021733\n",
       "2020-03-08   -0.278331\n",
       "2020-03-09    1.004759\n",
       "2020-03-10   -0.619939\n",
       "Freq: D, Name: C, dtype: float64"
      ]
     },
     "execution_count": 21,
     "metadata": {},
     "output_type": "execute_result"
    }
   ],
   "source": [
    "df['C']"
   ]
  },
  {
   "cell_type": "code",
   "execution_count": 22,
   "id": "3c675906",
   "metadata": {},
   "outputs": [
    {
     "data": {
      "text/plain": [
       "A    1.786522\n",
       "B    1.938678\n",
       "C   -0.118777\n",
       "D    1.159943\n",
       "Name: 2020-03-01 00:00:00, dtype: float64"
      ]
     },
     "execution_count": 22,
     "metadata": {},
     "output_type": "execute_result"
    }
   ],
   "source": [
    "df.loc[d[0]]"
   ]
  },
  {
   "cell_type": "code",
   "execution_count": null,
   "id": "465302c2",
   "metadata": {},
   "outputs": [],
   "source": []
  },
  {
   "cell_type": "markdown",
   "id": "d5ad03ef",
   "metadata": {},
   "source": [
    "# PANDAS"
   ]
  },
  {
   "cell_type": "code",
   "execution_count": 23,
   "id": "e44c7100",
   "metadata": {},
   "outputs": [],
   "source": [
    "import pandas as pd\n",
    "import numpy as np"
   ]
  },
  {
   "cell_type": "markdown",
   "id": "1599cae7",
   "metadata": {},
   "source": [
    "# Pandas series"
   ]
  },
  {
   "cell_type": "code",
   "execution_count": 24,
   "id": "3e443587",
   "metadata": {},
   "outputs": [],
   "source": [
    "#In Millions\n",
    "g7_pop=pd.Series([23.56,78.23,45.78,98.56,78.90,45.34])"
   ]
  },
  {
   "cell_type": "code",
   "execution_count": 25,
   "id": "dd039449",
   "metadata": {},
   "outputs": [
    {
     "data": {
      "text/plain": [
       "0    23.56\n",
       "1    78.23\n",
       "2    45.78\n",
       "3    98.56\n",
       "4    78.90\n",
       "5    45.34\n",
       "dtype: float64"
      ]
     },
     "execution_count": 25,
     "metadata": {},
     "output_type": "execute_result"
    }
   ],
   "source": [
    "g7_pop"
   ]
  },
  {
   "cell_type": "code",
   "execution_count": 26,
   "id": "24193e5c",
   "metadata": {},
   "outputs": [],
   "source": [
    "g7_pop.name='G7 population in millions'"
   ]
  },
  {
   "cell_type": "code",
   "execution_count": 27,
   "id": "2ab76a08",
   "metadata": {},
   "outputs": [
    {
     "data": {
      "text/plain": [
       "0    23.56\n",
       "1    78.23\n",
       "2    45.78\n",
       "3    98.56\n",
       "4    78.90\n",
       "5    45.34\n",
       "Name: G7 population in millions, dtype: float64"
      ]
     },
     "execution_count": 27,
     "metadata": {},
     "output_type": "execute_result"
    }
   ],
   "source": [
    "g7_pop"
   ]
  },
  {
   "cell_type": "markdown",
   "id": "6654096e",
   "metadata": {},
   "source": [
    "Series are pretty simliar to numpy arrays:"
   ]
  },
  {
   "cell_type": "code",
   "execution_count": 28,
   "id": "510a27d8",
   "metadata": {},
   "outputs": [
    {
     "data": {
      "text/plain": [
       "dtype('float64')"
      ]
     },
     "execution_count": 28,
     "metadata": {},
     "output_type": "execute_result"
    }
   ],
   "source": [
    "g7_pop.dtype"
   ]
  },
  {
   "cell_type": "code",
   "execution_count": 29,
   "id": "f9a7187a",
   "metadata": {},
   "outputs": [
    {
     "data": {
      "text/plain": [
       "array([23.56, 78.23, 45.78, 98.56, 78.9 , 45.34])"
      ]
     },
     "execution_count": 29,
     "metadata": {},
     "output_type": "execute_result"
    }
   ],
   "source": [
    "g7_pop.values"
   ]
  },
  {
   "cell_type": "markdown",
   "id": "f4fdd154",
   "metadata": {},
   "source": [
    "A series has an index,that's are similar to the automatic index assigned to the python's lists:"
   ]
  },
  {
   "cell_type": "code",
   "execution_count": 30,
   "id": "f2813601",
   "metadata": {},
   "outputs": [
    {
     "data": {
      "text/plain": [
       "numpy.ndarray"
      ]
     },
     "execution_count": 30,
     "metadata": {},
     "output_type": "execute_result"
    }
   ],
   "source": [
    "type(g7_pop.values)"
   ]
  },
  {
   "cell_type": "code",
   "execution_count": 31,
   "id": "3432de87",
   "metadata": {},
   "outputs": [
    {
     "data": {
      "text/plain": [
       "23.56"
      ]
     },
     "execution_count": 31,
     "metadata": {},
     "output_type": "execute_result"
    }
   ],
   "source": [
    "g7_pop[0]"
   ]
  },
  {
   "cell_type": "code",
   "execution_count": 32,
   "id": "7f56ab51",
   "metadata": {},
   "outputs": [
    {
     "data": {
      "text/plain": [
       "78.23"
      ]
     },
     "execution_count": 32,
     "metadata": {},
     "output_type": "execute_result"
    }
   ],
   "source": [
    "g7_pop[1]"
   ]
  },
  {
   "cell_type": "code",
   "execution_count": 33,
   "id": "00795bdf",
   "metadata": {},
   "outputs": [
    {
     "data": {
      "text/plain": [
       "RangeIndex(start=0, stop=6, step=1)"
      ]
     },
     "execution_count": 33,
     "metadata": {},
     "output_type": "execute_result"
    }
   ],
   "source": [
    "g7_pop.index"
   ]
  },
  {
   "cell_type": "code",
   "execution_count": 34,
   "id": "8aec85f5",
   "metadata": {},
   "outputs": [],
   "source": [
    "l=['a','b','c']"
   ]
  },
  {
   "cell_type": "code",
   "execution_count": 35,
   "id": "4d9b7e32",
   "metadata": {},
   "outputs": [
    {
     "data": {
      "text/plain": [
       "['a', 'b', 'c']"
      ]
     },
     "execution_count": 35,
     "metadata": {},
     "output_type": "execute_result"
    }
   ],
   "source": [
    "l"
   ]
  },
  {
   "cell_type": "code",
   "execution_count": 36,
   "id": "cc630938",
   "metadata": {},
   "outputs": [],
   "source": [
    "g7_pop.index=['India','canada','Italy','Europe','Asia','Africa']"
   ]
  },
  {
   "cell_type": "code",
   "execution_count": 37,
   "id": "48e48fe3",
   "metadata": {},
   "outputs": [
    {
     "data": {
      "text/plain": [
       "India     23.56\n",
       "canada    78.23\n",
       "Italy     45.78\n",
       "Europe    98.56\n",
       "Asia      78.90\n",
       "Africa    45.34\n",
       "Name: G7 population in millions, dtype: float64"
      ]
     },
     "execution_count": 37,
     "metadata": {},
     "output_type": "execute_result"
    }
   ],
   "source": [
    "g7_pop"
   ]
  },
  {
   "cell_type": "code",
   "execution_count": 38,
   "id": "b9dee11e",
   "metadata": {},
   "outputs": [
    {
     "data": {
      "text/plain": [
       "India     23.56\n",
       "canada    78.23\n",
       "Italy     45.78\n",
       "Europe    98.56\n",
       "Asia      78.90\n",
       "Africa    45.34\n",
       "dtype: float64"
      ]
     },
     "execution_count": 38,
     "metadata": {},
     "output_type": "execute_result"
    }
   ],
   "source": [
    "pd.Series({\n",
    "    'India': 23.56,\n",
    "    'canada':78.23,\n",
    "     'Italy':45.78,\n",
    "      'Europe':98.56,\n",
    "      'Asia':78.90,\n",
    "     'Africa':45.34,\n",
    "})"
   ]
  },
  {
   "cell_type": "code",
   "execution_count": 39,
   "id": "8378e7fc",
   "metadata": {},
   "outputs": [],
   "source": [
    "pd.Series([23.56,78.23,45.78,98.56,78.90,45.34]),\n",
    "index=['India','canada','Italy','Europe','Asia','Africa'],\n",
    "name='G7 population in millions'"
   ]
  },
  {
   "cell_type": "code",
   "execution_count": 40,
   "id": "8685cb3c",
   "metadata": {},
   "outputs": [
    {
     "data": {
      "text/plain": [
       "pandas.core.series.Series"
      ]
     },
     "execution_count": 40,
     "metadata": {},
     "output_type": "execute_result"
    }
   ],
   "source": [
    "pd.Series"
   ]
  },
  {
   "cell_type": "code",
   "execution_count": 41,
   "id": "071e76c7",
   "metadata": {},
   "outputs": [
    {
     "data": {
      "text/plain": [
       "India     23.56\n",
       "canada    78.23\n",
       "Italy     45.78\n",
       "Europe    98.56\n",
       "Asia      78.90\n",
       "Africa    45.34\n",
       "Name: G7 population in millions, dtype: float64"
      ]
     },
     "execution_count": 41,
     "metadata": {},
     "output_type": "execute_result"
    }
   ],
   "source": [
    "g7_pop"
   ]
  },
  {
   "cell_type": "code",
   "execution_count": 42,
   "id": "f3e22d46",
   "metadata": {},
   "outputs": [
    {
     "data": {
      "text/plain": [
       "India     23.56\n",
       "europe      NaN\n",
       "asia        NaN\n",
       "italy       NaN\n",
       "Name: G7 population in millions, dtype: float64"
      ]
     },
     "execution_count": 42,
     "metadata": {},
     "output_type": "execute_result"
    }
   ],
   "source": [
    "pd.Series(g7_pop,index=['India','europe','asia','italy'])"
   ]
  },
  {
   "cell_type": "markdown",
   "id": "d18b741b",
   "metadata": {},
   "source": [
    "# Indexing"
   ]
  },
  {
   "cell_type": "code",
   "execution_count": 43,
   "id": "fb29b6ec",
   "metadata": {},
   "outputs": [
    {
     "data": {
      "text/plain": [
       "India     23.56\n",
       "canada    78.23\n",
       "Italy     45.78\n",
       "Europe    98.56\n",
       "Asia      78.90\n",
       "Africa    45.34\n",
       "Name: G7 population in millions, dtype: float64"
      ]
     },
     "execution_count": 43,
     "metadata": {},
     "output_type": "execute_result"
    }
   ],
   "source": [
    "g7_pop"
   ]
  },
  {
   "cell_type": "code",
   "execution_count": 44,
   "id": "e56d2820",
   "metadata": {},
   "outputs": [
    {
     "data": {
      "text/plain": [
       "78.9"
      ]
     },
     "execution_count": 44,
     "metadata": {},
     "output_type": "execute_result"
    }
   ],
   "source": [
    "g7_pop['Asia']"
   ]
  },
  {
   "cell_type": "code",
   "execution_count": 45,
   "id": "3f716683",
   "metadata": {},
   "outputs": [
    {
     "data": {
      "text/plain": [
       "45.78"
      ]
     },
     "execution_count": 45,
     "metadata": {},
     "output_type": "execute_result"
    }
   ],
   "source": [
    "g7_pop['Italy']"
   ]
  },
  {
   "cell_type": "markdown",
   "id": "9583c051",
   "metadata": {},
   "source": [
    "Numeric position can also be used iloc attribute"
   ]
  },
  {
   "cell_type": "code",
   "execution_count": 46,
   "id": "d83b7bcf",
   "metadata": {},
   "outputs": [
    {
     "data": {
      "text/plain": [
       "23.56"
      ]
     },
     "execution_count": 46,
     "metadata": {},
     "output_type": "execute_result"
    }
   ],
   "source": [
    "g7_pop.iloc[0]"
   ]
  },
  {
   "cell_type": "code",
   "execution_count": 47,
   "id": "1ced49eb",
   "metadata": {},
   "outputs": [
    {
     "data": {
      "text/plain": [
       "45.34"
      ]
     },
     "execution_count": 47,
     "metadata": {},
     "output_type": "execute_result"
    }
   ],
   "source": [
    "g7_pop.iloc[-1]"
   ]
  },
  {
   "cell_type": "markdown",
   "id": "c4472bea",
   "metadata": {},
   "source": [
    "Selecting multiple element at once"
   ]
  },
  {
   "cell_type": "code",
   "execution_count": 48,
   "id": "c1cd060e",
   "metadata": {},
   "outputs": [
    {
     "data": {
      "text/plain": [
       "Italy    45.78\n",
       "India    23.56\n",
       "Name: G7 population in millions, dtype: float64"
      ]
     },
     "execution_count": 48,
     "metadata": {},
     "output_type": "execute_result"
    }
   ],
   "source": [
    "g7_pop[['Italy','India']]"
   ]
  },
  {
   "cell_type": "code",
   "execution_count": 49,
   "id": "eb1ba6ca",
   "metadata": {},
   "outputs": [
    {
     "data": {
      "text/plain": [
       "India     23.56\n",
       "canada    78.23\n",
       "Name: G7 population in millions, dtype: float64"
      ]
     },
     "execution_count": 49,
     "metadata": {},
     "output_type": "execute_result"
    }
   ],
   "source": [
    "g7_pop.iloc[[0,1]]"
   ]
  },
  {
   "cell_type": "code",
   "execution_count": 50,
   "id": "f51cff6b",
   "metadata": {},
   "outputs": [
    {
     "data": {
      "text/plain": [
       "canada    78.23\n",
       "Italy     45.78\n",
       "Name: G7 population in millions, dtype: float64"
      ]
     },
     "execution_count": 50,
     "metadata": {},
     "output_type": "execute_result"
    }
   ],
   "source": [
    "g7_pop['canada':'Italy']"
   ]
  },
  {
   "cell_type": "code",
   "execution_count": 51,
   "id": "28748b2a",
   "metadata": {},
   "outputs": [
    {
     "data": {
      "text/plain": [
       "India     23.56\n",
       "canada    78.23\n",
       "Italy     45.78\n",
       "Europe    98.56\n",
       "Asia      78.90\n",
       "Africa    45.34\n",
       "Name: G7 population in millions, dtype: float64"
      ]
     },
     "execution_count": 51,
     "metadata": {},
     "output_type": "execute_result"
    }
   ],
   "source": [
    "g7_pop"
   ]
  },
  {
   "cell_type": "code",
   "execution_count": 52,
   "id": "662d23d8",
   "metadata": {},
   "outputs": [
    {
     "data": {
      "text/plain": [
       "India     False\n",
       "canada     True\n",
       "Italy     False\n",
       "Europe     True\n",
       "Asia       True\n",
       "Africa    False\n",
       "Name: G7 population in millions, dtype: bool"
      ]
     },
     "execution_count": 52,
     "metadata": {},
     "output_type": "execute_result"
    }
   ],
   "source": [
    "g7_pop>70"
   ]
  },
  {
   "cell_type": "code",
   "execution_count": 53,
   "id": "e0334c4a",
   "metadata": {},
   "outputs": [
    {
     "data": {
      "text/plain": [
       "canada    78.23\n",
       "Europe    98.56\n",
       "Asia      78.90\n",
       "Name: G7 population in millions, dtype: float64"
      ]
     },
     "execution_count": 53,
     "metadata": {},
     "output_type": "execute_result"
    }
   ],
   "source": [
    "g7_pop[g7_pop>70]"
   ]
  },
  {
   "cell_type": "code",
   "execution_count": 54,
   "id": "50911085",
   "metadata": {},
   "outputs": [
    {
     "data": {
      "text/plain": [
       "<bound method NDFrame._add_numeric_operations.<locals>.mean of India     23.56\n",
       "canada    78.23\n",
       "Italy     45.78\n",
       "Europe    98.56\n",
       "Asia      78.90\n",
       "Africa    45.34\n",
       "Name: G7 population in millions, dtype: float64>"
      ]
     },
     "execution_count": 54,
     "metadata": {},
     "output_type": "execute_result"
    }
   ],
   "source": [
    "g7_pop.mean"
   ]
  },
  {
   "cell_type": "code",
   "execution_count": 55,
   "id": "113fffd5",
   "metadata": {},
   "outputs": [
    {
     "data": {
      "text/plain": [
       "canada    78.23\n",
       "Europe    98.56\n",
       "Asia      78.90\n",
       "Name: G7 population in millions, dtype: float64"
      ]
     },
     "execution_count": 55,
     "metadata": {},
     "output_type": "execute_result"
    }
   ],
   "source": [
    "g7_pop[g7_pop > g7_pop.mean()]"
   ]
  },
  {
   "cell_type": "code",
   "execution_count": 56,
   "id": "3c51a44f",
   "metadata": {},
   "outputs": [
    {
     "data": {
      "text/plain": [
       "27.94097809073023"
      ]
     },
     "execution_count": 56,
     "metadata": {},
     "output_type": "execute_result"
    }
   ],
   "source": [
    "g7_pop.std()"
   ]
  },
  {
   "cell_type": "code",
   "execution_count": 57,
   "id": "bfed83cc",
   "metadata": {},
   "outputs": [
    {
     "data": {
      "text/plain": [
       "canada    78.23\n",
       "Europe    98.56\n",
       "Asia      78.90\n",
       "Name: G7 population in millions, dtype: float64"
      ]
     },
     "execution_count": 57,
     "metadata": {},
     "output_type": "execute_result"
    }
   ],
   "source": [
    "g7_pop[(g7_pop > g7_pop.mean()-g7_pop.std() /2)|(g7_pop > g7_pop.mean()+g7_pop.std()/2)]"
   ]
  },
  {
   "cell_type": "markdown",
   "id": "2979488e",
   "metadata": {},
   "source": [
    "# Operation and methods"
   ]
  },
  {
   "cell_type": "markdown",
   "id": "2e9e3944",
   "metadata": {},
   "source": [
    "series also support vectorized operations and aggregration functions as numpy"
   ]
  },
  {
   "cell_type": "code",
   "execution_count": 58,
   "id": "88764bf2",
   "metadata": {},
   "outputs": [
    {
     "data": {
      "text/plain": [
       "India     23.56\n",
       "canada    78.23\n",
       "Italy     45.78\n",
       "Europe    98.56\n",
       "Asia      78.90\n",
       "Africa    45.34\n",
       "Name: G7 population in millions, dtype: float64"
      ]
     },
     "execution_count": 58,
     "metadata": {},
     "output_type": "execute_result"
    }
   ],
   "source": [
    "g7_pop"
   ]
  },
  {
   "cell_type": "code",
   "execution_count": 59,
   "id": "44bbf72e",
   "metadata": {},
   "outputs": [
    {
     "data": {
      "text/plain": [
       "India     23.56\n",
       "canada    78.23\n",
       "Italy     45.78\n",
       "Europe    98.56\n",
       "Asia      78.90\n",
       "Africa    45.34\n",
       "Name: G7 population in millions, dtype: float64"
      ]
     },
     "execution_count": 59,
     "metadata": {},
     "output_type": "execute_result"
    }
   ],
   "source": [
    "g7_pop"
   ]
  },
  {
   "cell_type": "code",
   "execution_count": 60,
   "id": "c5369fe2",
   "metadata": {},
   "outputs": [
    {
     "data": {
      "text/plain": [
       "India     23560000.0\n",
       "canada    78230000.0\n",
       "Italy     45780000.0\n",
       "Europe    98560000.0\n",
       "Asia      78900000.0\n",
       "Africa    45340000.0\n",
       "Name: G7 population in millions, dtype: float64"
      ]
     },
     "execution_count": 60,
     "metadata": {},
     "output_type": "execute_result"
    }
   ],
   "source": [
    "g7_pop*1000000"
   ]
  },
  {
   "cell_type": "code",
   "execution_count": 61,
   "id": "e0040316",
   "metadata": {},
   "outputs": [
    {
     "data": {
      "text/plain": [
       "61.72833333333333"
      ]
     },
     "execution_count": 61,
     "metadata": {},
     "output_type": "execute_result"
    }
   ],
   "source": [
    "g7_pop.mean()"
   ]
  },
  {
   "cell_type": "code",
   "execution_count": 62,
   "id": "2422b8f5",
   "metadata": {},
   "outputs": [
    {
     "data": {
      "text/plain": [
       "India     3.159550\n",
       "canada    4.359653\n",
       "Italy     3.823847\n",
       "Europe    4.590665\n",
       "Asia      4.368181\n",
       "Africa    3.814190\n",
       "Name: G7 population in millions, dtype: float64"
      ]
     },
     "execution_count": 62,
     "metadata": {},
     "output_type": "execute_result"
    }
   ],
   "source": [
    "np.log(g7_pop)"
   ]
  },
  {
   "cell_type": "markdown",
   "id": "9dd2e2b2",
   "metadata": {},
   "source": [
    "modifyiing series"
   ]
  },
  {
   "cell_type": "code",
   "execution_count": 63,
   "id": "b4f0b508",
   "metadata": {},
   "outputs": [],
   "source": [
    "g7_pop['canada']=56.8"
   ]
  },
  {
   "cell_type": "code",
   "execution_count": 64,
   "id": "5ca013c7",
   "metadata": {},
   "outputs": [
    {
     "data": {
      "text/plain": [
       "India     23.56\n",
       "canada    56.80\n",
       "Italy     45.78\n",
       "Europe    98.56\n",
       "Asia      78.90\n",
       "Africa    45.34\n",
       "Name: G7 population in millions, dtype: float64"
      ]
     },
     "execution_count": 64,
     "metadata": {},
     "output_type": "execute_result"
    }
   ],
   "source": [
    "g7_pop"
   ]
  },
  {
   "cell_type": "code",
   "execution_count": 65,
   "id": "753ced12",
   "metadata": {},
   "outputs": [],
   "source": [
    "g7_pop.iloc[-1]=500"
   ]
  },
  {
   "cell_type": "code",
   "execution_count": 66,
   "id": "51d21bf5",
   "metadata": {},
   "outputs": [
    {
     "data": {
      "text/plain": [
       "India      23.56\n",
       "canada     56.80\n",
       "Italy      45.78\n",
       "Europe     98.56\n",
       "Asia       78.90\n",
       "Africa    500.00\n",
       "Name: G7 population in millions, dtype: float64"
      ]
     },
     "execution_count": 66,
     "metadata": {},
     "output_type": "execute_result"
    }
   ],
   "source": [
    "g7_pop"
   ]
  },
  {
   "cell_type": "code",
   "execution_count": 67,
   "id": "149affee",
   "metadata": {},
   "outputs": [],
   "source": [
    "g7_pop[g7_pop < 70]=99.99\n"
   ]
  },
  {
   "cell_type": "code",
   "execution_count": 68,
   "id": "1cb4cf14",
   "metadata": {},
   "outputs": [
    {
     "data": {
      "text/plain": [
       "India      99.99\n",
       "canada     99.99\n",
       "Italy      99.99\n",
       "Europe     98.56\n",
       "Asia       78.90\n",
       "Africa    500.00\n",
       "Name: G7 population in millions, dtype: float64"
      ]
     },
     "execution_count": 68,
     "metadata": {},
     "output_type": "execute_result"
    }
   ],
   "source": [
    "g7_pop"
   ]
  },
  {
   "cell_type": "markdown",
   "id": "c41b0228",
   "metadata": {},
   "source": [
    "# Pandas DataFrames"
   ]
  },
  {
   "cell_type": "code",
   "execution_count": 69,
   "id": "17b255ba",
   "metadata": {},
   "outputs": [],
   "source": [
    "import numpy as np\n",
    "import pandas as pd"
   ]
  },
  {
   "cell_type": "code",
   "execution_count": 70,
   "id": "955de160",
   "metadata": {},
   "outputs": [],
   "source": [
    "df=pd.DataFrame({\n",
    "    'population':[89.90,67.89,34.76,13.67,90.78,45.87,90.78],\n",
    "    'GDP':[\n",
    "          1224891,\n",
    "          6787080,\n",
    "          5579900,\n",
    "          2335465,\n",
    "          9089787,\n",
    "          5666768,\n",
    "          7986543\n",
    "          ],\n",
    "    'Surface Area':[\n",
    "        5678799,\n",
    "        8900000,\n",
    "        3456568,\n",
    "        9345557,\n",
    "        5890777,\n",
    "        3787899,\n",
    "        9087677,\n",
    "    ],\n",
    "    'HDI':[\n",
    "        0.989,\n",
    "        0.987,\n",
    "        0.921,\n",
    "        0.455,\n",
    "        0.786,\n",
    "        0.566,\n",
    "        0.897,\n",
    "    ],\n",
    "    'continent':[\n",
    "        'America',\n",
    "                'Europe',\n",
    "                'Canada',\n",
    "                 'America',\n",
    "                'Asia',\n",
    "                'Europe',\n",
    "                'America',\n",
    "        'japan'\n",
    "    ]\n",
    "},columns=['population','GDP','Surface Area','HDI','Continent'])\n"
   ]
  },
  {
   "cell_type": "code",
   "execution_count": 71,
   "id": "249ad136",
   "metadata": {},
   "outputs": [
    {
     "data": {
      "text/html": [
       "<div>\n",
       "<style scoped>\n",
       "    .dataframe tbody tr th:only-of-type {\n",
       "        vertical-align: middle;\n",
       "    }\n",
       "\n",
       "    .dataframe tbody tr th {\n",
       "        vertical-align: top;\n",
       "    }\n",
       "\n",
       "    .dataframe thead th {\n",
       "        text-align: right;\n",
       "    }\n",
       "</style>\n",
       "<table border=\"1\" class=\"dataframe\">\n",
       "  <thead>\n",
       "    <tr style=\"text-align: right;\">\n",
       "      <th></th>\n",
       "      <th>population</th>\n",
       "      <th>GDP</th>\n",
       "      <th>Surface Area</th>\n",
       "      <th>HDI</th>\n",
       "      <th>Continent</th>\n",
       "    </tr>\n",
       "  </thead>\n",
       "  <tbody>\n",
       "    <tr>\n",
       "      <th>0</th>\n",
       "      <td>89.90</td>\n",
       "      <td>1224891</td>\n",
       "      <td>5678799</td>\n",
       "      <td>0.989</td>\n",
       "      <td>NaN</td>\n",
       "    </tr>\n",
       "    <tr>\n",
       "      <th>1</th>\n",
       "      <td>67.89</td>\n",
       "      <td>6787080</td>\n",
       "      <td>8900000</td>\n",
       "      <td>0.987</td>\n",
       "      <td>NaN</td>\n",
       "    </tr>\n",
       "    <tr>\n",
       "      <th>2</th>\n",
       "      <td>34.76</td>\n",
       "      <td>5579900</td>\n",
       "      <td>3456568</td>\n",
       "      <td>0.921</td>\n",
       "      <td>NaN</td>\n",
       "    </tr>\n",
       "    <tr>\n",
       "      <th>3</th>\n",
       "      <td>13.67</td>\n",
       "      <td>2335465</td>\n",
       "      <td>9345557</td>\n",
       "      <td>0.455</td>\n",
       "      <td>NaN</td>\n",
       "    </tr>\n",
       "    <tr>\n",
       "      <th>4</th>\n",
       "      <td>90.78</td>\n",
       "      <td>9089787</td>\n",
       "      <td>5890777</td>\n",
       "      <td>0.786</td>\n",
       "      <td>NaN</td>\n",
       "    </tr>\n",
       "    <tr>\n",
       "      <th>5</th>\n",
       "      <td>45.87</td>\n",
       "      <td>5666768</td>\n",
       "      <td>3787899</td>\n",
       "      <td>0.566</td>\n",
       "      <td>NaN</td>\n",
       "    </tr>\n",
       "    <tr>\n",
       "      <th>6</th>\n",
       "      <td>90.78</td>\n",
       "      <td>7986543</td>\n",
       "      <td>9087677</td>\n",
       "      <td>0.897</td>\n",
       "      <td>NaN</td>\n",
       "    </tr>\n",
       "  </tbody>\n",
       "</table>\n",
       "</div>"
      ],
      "text/plain": [
       "   population      GDP  Surface Area    HDI Continent\n",
       "0       89.90  1224891       5678799  0.989       NaN\n",
       "1       67.89  6787080       8900000  0.987       NaN\n",
       "2       34.76  5579900       3456568  0.921       NaN\n",
       "3       13.67  2335465       9345557  0.455       NaN\n",
       "4       90.78  9089787       5890777  0.786       NaN\n",
       "5       45.87  5666768       3787899  0.566       NaN\n",
       "6       90.78  7986543       9087677  0.897       NaN"
      ]
     },
     "execution_count": 71,
     "metadata": {},
     "output_type": "execute_result"
    }
   ],
   "source": [
    "df"
   ]
  },
  {
   "cell_type": "code",
   "execution_count": 72,
   "id": "2121de4d",
   "metadata": {},
   "outputs": [
    {
     "ename": "ValueError",
     "evalue": "Length mismatch: Expected axis has 7 elements, new values have 1 elements",
     "output_type": "error",
     "traceback": [
      "\u001b[1;31m---------------------------------------------------------------------------\u001b[0m",
      "\u001b[1;31mValueError\u001b[0m                                Traceback (most recent call last)",
      "\u001b[1;32m<ipython-input-72-534f2cad45a7>\u001b[0m in \u001b[0;36m<module>\u001b[1;34m\u001b[0m\n\u001b[1;32m----> 1\u001b[1;33m df.index=[\n\u001b[0m\u001b[0;32m      2\u001b[0m     \u001b[1;34m'canada'\u001b[0m\u001b[1;33m\u001b[0m\u001b[1;33m\u001b[0m\u001b[0m\n\u001b[0;32m      3\u001b[0m     \u001b[1;34m'France'\u001b[0m\u001b[1;33m\u001b[0m\u001b[1;33m\u001b[0m\u001b[0m\n\u001b[0;32m      4\u001b[0m     \u001b[1;34m'italy'\u001b[0m\u001b[1;33m\u001b[0m\u001b[1;33m\u001b[0m\u001b[0m\n\u001b[0;32m      5\u001b[0m     \u001b[1;34m'europe'\u001b[0m\u001b[1;33m\u001b[0m\u001b[1;33m\u001b[0m\u001b[0m\n",
      "\u001b[1;32m~\\anaconda3\\lib\\site-packages\\pandas\\core\\generic.py\u001b[0m in \u001b[0;36m__setattr__\u001b[1;34m(self, name, value)\u001b[0m\n\u001b[0;32m   5476\u001b[0m         \u001b[1;32mtry\u001b[0m\u001b[1;33m:\u001b[0m\u001b[1;33m\u001b[0m\u001b[1;33m\u001b[0m\u001b[0m\n\u001b[0;32m   5477\u001b[0m             \u001b[0mobject\u001b[0m\u001b[1;33m.\u001b[0m\u001b[0m__getattribute__\u001b[0m\u001b[1;33m(\u001b[0m\u001b[0mself\u001b[0m\u001b[1;33m,\u001b[0m \u001b[0mname\u001b[0m\u001b[1;33m)\u001b[0m\u001b[1;33m\u001b[0m\u001b[1;33m\u001b[0m\u001b[0m\n\u001b[1;32m-> 5478\u001b[1;33m             \u001b[1;32mreturn\u001b[0m \u001b[0mobject\u001b[0m\u001b[1;33m.\u001b[0m\u001b[0m__setattr__\u001b[0m\u001b[1;33m(\u001b[0m\u001b[0mself\u001b[0m\u001b[1;33m,\u001b[0m \u001b[0mname\u001b[0m\u001b[1;33m,\u001b[0m \u001b[0mvalue\u001b[0m\u001b[1;33m)\u001b[0m\u001b[1;33m\u001b[0m\u001b[1;33m\u001b[0m\u001b[0m\n\u001b[0m\u001b[0;32m   5479\u001b[0m         \u001b[1;32mexcept\u001b[0m \u001b[0mAttributeError\u001b[0m\u001b[1;33m:\u001b[0m\u001b[1;33m\u001b[0m\u001b[1;33m\u001b[0m\u001b[0m\n\u001b[0;32m   5480\u001b[0m             \u001b[1;32mpass\u001b[0m\u001b[1;33m\u001b[0m\u001b[1;33m\u001b[0m\u001b[0m\n",
      "\u001b[1;32mpandas\\_libs\\properties.pyx\u001b[0m in \u001b[0;36mpandas._libs.properties.AxisProperty.__set__\u001b[1;34m()\u001b[0m\n",
      "\u001b[1;32m~\\anaconda3\\lib\\site-packages\\pandas\\core\\generic.py\u001b[0m in \u001b[0;36m_set_axis\u001b[1;34m(self, axis, labels)\u001b[0m\n\u001b[0;32m    668\u001b[0m     \u001b[1;32mdef\u001b[0m \u001b[0m_set_axis\u001b[0m\u001b[1;33m(\u001b[0m\u001b[0mself\u001b[0m\u001b[1;33m,\u001b[0m \u001b[0maxis\u001b[0m\u001b[1;33m:\u001b[0m \u001b[0mint\u001b[0m\u001b[1;33m,\u001b[0m \u001b[0mlabels\u001b[0m\u001b[1;33m:\u001b[0m \u001b[0mIndex\u001b[0m\u001b[1;33m)\u001b[0m \u001b[1;33m->\u001b[0m \u001b[1;32mNone\u001b[0m\u001b[1;33m:\u001b[0m\u001b[1;33m\u001b[0m\u001b[1;33m\u001b[0m\u001b[0m\n\u001b[0;32m    669\u001b[0m         \u001b[0mlabels\u001b[0m \u001b[1;33m=\u001b[0m \u001b[0mensure_index\u001b[0m\u001b[1;33m(\u001b[0m\u001b[0mlabels\u001b[0m\u001b[1;33m)\u001b[0m\u001b[1;33m\u001b[0m\u001b[1;33m\u001b[0m\u001b[0m\n\u001b[1;32m--> 670\u001b[1;33m         \u001b[0mself\u001b[0m\u001b[1;33m.\u001b[0m\u001b[0m_mgr\u001b[0m\u001b[1;33m.\u001b[0m\u001b[0mset_axis\u001b[0m\u001b[1;33m(\u001b[0m\u001b[0maxis\u001b[0m\u001b[1;33m,\u001b[0m \u001b[0mlabels\u001b[0m\u001b[1;33m)\u001b[0m\u001b[1;33m\u001b[0m\u001b[1;33m\u001b[0m\u001b[0m\n\u001b[0m\u001b[0;32m    671\u001b[0m         \u001b[0mself\u001b[0m\u001b[1;33m.\u001b[0m\u001b[0m_clear_item_cache\u001b[0m\u001b[1;33m(\u001b[0m\u001b[1;33m)\u001b[0m\u001b[1;33m\u001b[0m\u001b[1;33m\u001b[0m\u001b[0m\n\u001b[0;32m    672\u001b[0m \u001b[1;33m\u001b[0m\u001b[0m\n",
      "\u001b[1;32m~\\anaconda3\\lib\\site-packages\\pandas\\core\\internals\\managers.py\u001b[0m in \u001b[0;36mset_axis\u001b[1;34m(self, axis, new_labels)\u001b[0m\n\u001b[0;32m    218\u001b[0m \u001b[1;33m\u001b[0m\u001b[0m\n\u001b[0;32m    219\u001b[0m         \u001b[1;32mif\u001b[0m \u001b[0mnew_len\u001b[0m \u001b[1;33m!=\u001b[0m \u001b[0mold_len\u001b[0m\u001b[1;33m:\u001b[0m\u001b[1;33m\u001b[0m\u001b[1;33m\u001b[0m\u001b[0m\n\u001b[1;32m--> 220\u001b[1;33m             raise ValueError(\n\u001b[0m\u001b[0;32m    221\u001b[0m                 \u001b[1;34mf\"Length mismatch: Expected axis has {old_len} elements, new \"\u001b[0m\u001b[1;33m\u001b[0m\u001b[1;33m\u001b[0m\u001b[0m\n\u001b[0;32m    222\u001b[0m                 \u001b[1;34mf\"values have {new_len} elements\"\u001b[0m\u001b[1;33m\u001b[0m\u001b[1;33m\u001b[0m\u001b[0m\n",
      "\u001b[1;31mValueError\u001b[0m: Length mismatch: Expected axis has 7 elements, new values have 1 elements"
     ]
    }
   ],
   "source": [
    "df.index=[\n",
    "    'canada'\n",
    "    'France'\n",
    "    'italy'\n",
    "    'europe'\n",
    "    'europe'\n",
    "]"
   ]
  },
  {
   "cell_type": "code",
   "execution_count": null,
   "id": "6cede0f2",
   "metadata": {},
   "outputs": [],
   "source": [
    "df.columns"
   ]
  },
  {
   "cell_type": "code",
   "execution_count": null,
   "id": "5ddd3983",
   "metadata": {},
   "outputs": [],
   "source": [
    "df.index"
   ]
  },
  {
   "cell_type": "code",
   "execution_count": null,
   "id": "ce478a9d",
   "metadata": {},
   "outputs": [],
   "source": [
    "df.info()"
   ]
  },
  {
   "cell_type": "code",
   "execution_count": null,
   "id": "2bfe8f3c",
   "metadata": {},
   "outputs": [],
   "source": [
    "df.size"
   ]
  },
  {
   "cell_type": "code",
   "execution_count": null,
   "id": "799c6349",
   "metadata": {},
   "outputs": [],
   "source": [
    "df.shape"
   ]
  },
  {
   "cell_type": "code",
   "execution_count": null,
   "id": "b845ff92",
   "metadata": {},
   "outputs": [],
   "source": [
    "df.describe()"
   ]
  },
  {
   "cell_type": "code",
   "execution_count": null,
   "id": "e9508b4b",
   "metadata": {},
   "outputs": [],
   "source": [
    "df.dtypes"
   ]
  },
  {
   "cell_type": "code",
   "execution_count": null,
   "id": "961e0fd8",
   "metadata": {},
   "outputs": [],
   "source": [
    "df.dtypes.value_counts()"
   ]
  },
  {
   "cell_type": "markdown",
   "id": "a901808b",
   "metadata": {},
   "source": [
    "# Indexing selection and slicing"
   ]
  },
  {
   "cell_type": "code",
   "execution_count": null,
   "id": "b055c06b",
   "metadata": {},
   "outputs": [],
   "source": [
    "df['population']"
   ]
  },
  {
   "cell_type": "code",
   "execution_count": null,
   "id": "da4479bd",
   "metadata": {},
   "outputs": [],
   "source": [
    "df['population'].to_frame()"
   ]
  },
  {
   "cell_type": "code",
   "execution_count": null,
   "id": "cfce0a52",
   "metadata": {},
   "outputs": [],
   "source": [
    "df[['population','GDP']]"
   ]
  },
  {
   "cell_type": "code",
   "execution_count": null,
   "id": "81dc7947",
   "metadata": {},
   "outputs": [],
   "source": [
    "df[1:3]"
   ]
  },
  {
   "cell_type": "code",
   "execution_count": null,
   "id": "97a682fa",
   "metadata": {},
   "outputs": [],
   "source": [
    "df.loc['Europe']"
   ]
  },
  {
   "cell_type": "code",
   "execution_count": null,
   "id": "cbdc043f",
   "metadata": {},
   "outputs": [],
   "source": [
    "df"
   ]
  },
  {
   "cell_type": "code",
   "execution_count": null,
   "id": "c9dd8ef1",
   "metadata": {},
   "outputs": [],
   "source": [
    "df.iloc[0]"
   ]
  },
  {
   "cell_type": "code",
   "execution_count": null,
   "id": "7e70d8eb",
   "metadata": {},
   "outputs": [],
   "source": [
    "df.iloc[-1]"
   ]
  },
  {
   "cell_type": "code",
   "execution_count": null,
   "id": "1b3a98db",
   "metadata": {},
   "outputs": [],
   "source": [
    "df.iloc[[0,1,-1]]"
   ]
  },
  {
   "cell_type": "markdown",
   "id": "f3f71d93",
   "metadata": {},
   "source": [
    "Dropping stuff"
   ]
  },
  {
   "cell_type": "code",
   "execution_count": null,
   "id": "be5c5f76",
   "metadata": {},
   "outputs": [],
   "source": [
    "df.drop('canada')"
   ]
  },
  {
   "cell_type": "code",
   "execution_count": null,
   "id": "43edfaa3",
   "metadata": {},
   "outputs": [],
   "source": [
    "df"
   ]
  },
  {
   "cell_type": "code",
   "execution_count": null,
   "id": "9506b359",
   "metadata": {},
   "outputs": [],
   "source": [
    "df.drop(columns=['population','HDI'])"
   ]
  },
  {
   "cell_type": "code",
   "execution_count": null,
   "id": "3f14d263",
   "metadata": {},
   "outputs": [],
   "source": [
    "df.drop(['population','HDI'],axis=1)"
   ]
  },
  {
   "cell_type": "code",
   "execution_count": null,
   "id": "b813c170",
   "metadata": {},
   "outputs": [],
   "source": [
    "df.drop(['population','HDI'],axis='columns')"
   ]
  },
  {
   "cell_type": "code",
   "execution_count": null,
   "id": "03b463c1",
   "metadata": {},
   "outputs": [],
   "source": [
    "df.drop(['population','HDI'],axis='rows')"
   ]
  },
  {
   "cell_type": "markdown",
   "id": "494a4506",
   "metadata": {},
   "source": [
    "# Operations"
   ]
  },
  {
   "cell_type": "code",
   "execution_count": null,
   "id": "9427e72a",
   "metadata": {},
   "outputs": [],
   "source": [
    "df[['population','GDP']]"
   ]
  },
  {
   "cell_type": "code",
   "execution_count": null,
   "id": "d5ece0b8",
   "metadata": {},
   "outputs": [],
   "source": [
    "df[['population','GDP']]/100"
   ]
  },
  {
   "cell_type": "markdown",
   "id": "f51e12c1",
   "metadata": {},
   "source": [
    "operation with series work at column level,broadcasting down the rows(which can be the counter inutive"
   ]
  },
  {
   "cell_type": "code",
   "execution_count": null,
   "id": "17e51c02",
   "metadata": {},
   "outputs": [],
   "source": [
    "crisis=pd.Series([-10000000,-0.3],index['GDP','HDI'])\n",
    "crisis"
   ]
  },
  {
   "cell_type": "markdown",
   "id": "4cde7bc9",
   "metadata": {},
   "source": [
    "# Moving DataFrames"
   ]
  },
  {
   "cell_type": "markdown",
   "id": "a91f4dc2",
   "metadata": {},
   "source": [
    "Adding a new column"
   ]
  },
  {
   "cell_type": "code",
   "execution_count": null,
   "id": "dc894e1b",
   "metadata": {},
   "outputs": [],
   "source": [
    "langs=pd.Series(['French','German','Italian'],\n",
    "               index=['France','Germany','Italy'],\n",
    "               name='Language'\n",
    "               )"
   ]
  },
  {
   "cell_type": "code",
   "execution_count": null,
   "id": "facc3600",
   "metadata": {},
   "outputs": [],
   "source": [
    "langs"
   ]
  },
  {
   "cell_type": "code",
   "execution_count": null,
   "id": "dc7f6e01",
   "metadata": {},
   "outputs": [],
   "source": [
    "df['Language']=langs"
   ]
  },
  {
   "cell_type": "code",
   "execution_count": null,
   "id": "15a7147f",
   "metadata": {},
   "outputs": [],
   "source": [
    "df"
   ]
  },
  {
   "cell_type": "markdown",
   "id": "db1e890d",
   "metadata": {},
   "source": [
    "replacing values per column"
   ]
  },
  {
   "cell_type": "code",
   "execution_count": null,
   "id": "95030f59",
   "metadata": {},
   "outputs": [],
   "source": [
    "df['Language']='English'"
   ]
  },
  {
   "cell_type": "code",
   "execution_count": null,
   "id": "ff5fd72b",
   "metadata": {},
   "outputs": [],
   "source": [
    "df"
   ]
  },
  {
   "cell_type": "markdown",
   "id": "f9086b47",
   "metadata": {},
   "source": [
    "creating columns from other columns"
   ]
  },
  {
   "cell_type": "code",
   "execution_count": null,
   "id": "2222f7ef",
   "metadata": {},
   "outputs": [],
   "source": [
    "df[['population','GDP']]"
   ]
  },
  {
   "cell_type": "code",
   "execution_count": null,
   "id": "2465f8f9",
   "metadata": {},
   "outputs": [],
   "source": [
    "df['GDP']/df['population']"
   ]
  },
  {
   "cell_type": "code",
   "execution_count": null,
   "id": "754547a0",
   "metadata": {},
   "outputs": [],
   "source": [
    "df['GDP']/df['population']"
   ]
  },
  {
   "cell_type": "code",
   "execution_count": null,
   "id": "a3836515",
   "metadata": {},
   "outputs": [],
   "source": [
    "df['GDP per capita']=df['GDP']/df['population']"
   ]
  },
  {
   "cell_type": "code",
   "execution_count": null,
   "id": "61b765ad",
   "metadata": {},
   "outputs": [],
   "source": [
    "df"
   ]
  },
  {
   "cell_type": "code",
   "execution_count": null,
   "id": "a987a33c",
   "metadata": {},
   "outputs": [],
   "source": [
    "import numpy as np\n",
    "import pandas as pd"
   ]
  },
  {
   "cell_type": "code",
   "execution_count": null,
   "id": "3f144c3e",
   "metadata": {},
   "outputs": [],
   "source": [
    "#help(pd.Series)"
   ]
  },
  {
   "cell_type": "code",
   "execution_count": null,
   "id": "df8425ee",
   "metadata": {},
   "outputs": [],
   "source": [
    "myindex=['USA','canada','Mexico']"
   ]
  },
  {
   "cell_type": "code",
   "execution_count": null,
   "id": "3767c2a7",
   "metadata": {},
   "outputs": [],
   "source": [
    "mydata=[1776,1867,1821]"
   ]
  },
  {
   "cell_type": "code",
   "execution_count": null,
   "id": "68dfb8e5",
   "metadata": {},
   "outputs": [],
   "source": [
    "myser=pd.Series(data=mydata)"
   ]
  },
  {
   "cell_type": "code",
   "execution_count": null,
   "id": "bcd3c6a8",
   "metadata": {},
   "outputs": [],
   "source": [
    "myser"
   ]
  },
  {
   "cell_type": "code",
   "execution_count": null,
   "id": "6df0b294",
   "metadata": {},
   "outputs": [],
   "source": [
    "type(myser)"
   ]
  },
  {
   "cell_type": "code",
   "execution_count": null,
   "id": "a0dbbde5",
   "metadata": {},
   "outputs": [],
   "source": [
    "myser"
   ]
  },
  {
   "cell_type": "code",
   "execution_count": null,
   "id": "dc588069",
   "metadata": {},
   "outputs": [],
   "source": [
    "myser[0]"
   ]
  },
  {
   "cell_type": "code",
   "execution_count": null,
   "id": "b381e0cb",
   "metadata": {},
   "outputs": [],
   "source": [
    "ages={'sam':5,'Frank':10,'spike':7}"
   ]
  },
  {
   "cell_type": "code",
   "execution_count": null,
   "id": "fbdeea9d",
   "metadata": {},
   "outputs": [],
   "source": [
    "pd.Series(ages)"
   ]
  },
  {
   "cell_type": "code",
   "execution_count": null,
   "id": "8892d523",
   "metadata": {},
   "outputs": [],
   "source": [
    "#Imaginary sales data for 1st and 2nd quarters for global company\n",
    "q1={'Japan':80,'china':450,'India':200,'USA':250}\n",
    "q2={'Brazil':100,'china':500,'India':210,'USA':260}"
   ]
  },
  {
   "cell_type": "code",
   "execution_count": null,
   "id": "6bd377f0",
   "metadata": {},
   "outputs": [],
   "source": [
    "sales_q1=pd.Series(q1)"
   ]
  },
  {
   "cell_type": "code",
   "execution_count": null,
   "id": "33c87201",
   "metadata": {},
   "outputs": [],
   "source": [
    "sales_q2=pd.Series(q2)"
   ]
  },
  {
   "cell_type": "code",
   "execution_count": null,
   "id": "c286b4da",
   "metadata": {},
   "outputs": [],
   "source": [
    "sales_q2"
   ]
  },
  {
   "cell_type": "code",
   "execution_count": null,
   "id": "9228bafa",
   "metadata": {},
   "outputs": [],
   "source": [
    "sales_q1"
   ]
  },
  {
   "cell_type": "code",
   "execution_count": null,
   "id": "4b7a5d48",
   "metadata": {},
   "outputs": [],
   "source": [
    "sales_q1['Japan']"
   ]
  },
  {
   "cell_type": "code",
   "execution_count": null,
   "id": "5ed220f5",
   "metadata": {},
   "outputs": [],
   "source": [
    "sales_q1[0]"
   ]
  },
  {
   "cell_type": "code",
   "execution_count": null,
   "id": "134309f7",
   "metadata": {},
   "outputs": [],
   "source": [
    "sales_q1.keys()"
   ]
  },
  {
   "cell_type": "code",
   "execution_count": null,
   "id": "856f2481",
   "metadata": {},
   "outputs": [],
   "source": [
    "np.array([1,2]) * 2"
   ]
  },
  {
   "cell_type": "code",
   "execution_count": null,
   "id": "c55a29f1",
   "metadata": {},
   "outputs": [],
   "source": [
    "sales_q1*2"
   ]
  },
  {
   "cell_type": "code",
   "execution_count": null,
   "id": "d1458801",
   "metadata": {},
   "outputs": [],
   "source": [
    "sales_q1/100"
   ]
  },
  {
   "cell_type": "code",
   "execution_count": null,
   "id": "d6024fa4",
   "metadata": {},
   "outputs": [],
   "source": [
    "sales_q1"
   ]
  },
  {
   "cell_type": "code",
   "execution_count": null,
   "id": "6d108805",
   "metadata": {},
   "outputs": [],
   "source": [
    "sales_q2"
   ]
  },
  {
   "cell_type": "code",
   "execution_count": null,
   "id": "2ec7b93c",
   "metadata": {},
   "outputs": [],
   "source": [
    "sales_q1+sales_q2"
   ]
  },
  {
   "cell_type": "code",
   "execution_count": null,
   "id": "2ea2f204",
   "metadata": {},
   "outputs": [],
   "source": [
    " first_half =sales_q1.add(sales_q2,fill_value=0)"
   ]
  },
  {
   "cell_type": "code",
   "execution_count": null,
   "id": "6febb9c7",
   "metadata": {},
   "outputs": [],
   "source": [
    "sales_q1.dtype"
   ]
  },
  {
   "cell_type": "code",
   "execution_count": null,
   "id": "f6dc0943",
   "metadata": {},
   "outputs": [],
   "source": [
    "first_half.dtype"
   ]
  },
  {
   "cell_type": "code",
   "execution_count": null,
   "id": "02d58e64",
   "metadata": {},
   "outputs": [],
   "source": [
    "first_half"
   ]
  },
  {
   "cell_type": "code",
   "execution_count": null,
   "id": "2abba432",
   "metadata": {},
   "outputs": [],
   "source": [
    "pd.Series"
   ]
  },
  {
   "cell_type": "markdown",
   "id": "af3db505",
   "metadata": {},
   "source": [
    "Creating a data frames"
   ]
  },
  {
   "cell_type": "code",
   "execution_count": null,
   "id": "62d1e701",
   "metadata": {},
   "outputs": [],
   "source": [
    "import numpy as np\n",
    "import pandas as pd"
   ]
  },
  {
   "cell_type": "code",
   "execution_count": null,
   "id": "6d4cb60d",
   "metadata": {},
   "outputs": [],
   "source": [
    "np.random.seed(101)\n",
    "mydata=np.random.randint(0,101,(4,3))"
   ]
  },
  {
   "cell_type": "code",
   "execution_count": null,
   "id": "72876313",
   "metadata": {},
   "outputs": [],
   "source": [
    "mydata"
   ]
  },
  {
   "cell_type": "code",
   "execution_count": null,
   "id": "76f26f75",
   "metadata": {},
   "outputs": [],
   "source": [
    "myindex=['CA','NY','AZ','TX']"
   ]
  },
  {
   "cell_type": "code",
   "execution_count": null,
   "id": "7e95af0b",
   "metadata": {},
   "outputs": [],
   "source": [
    "mycolumns=['Jan','Feb','Mar']"
   ]
  },
  {
   "cell_type": "code",
   "execution_count": null,
   "id": "7ddcd39c",
   "metadata": {},
   "outputs": [],
   "source": [
    "df=pd.DataFrame(data=mydata,index=myindex,columns=mycolumns)"
   ]
  },
  {
   "cell_type": "code",
   "execution_count": null,
   "id": "e66c0fb5",
   "metadata": {},
   "outputs": [],
   "source": [
    "df"
   ]
  },
  {
   "cell_type": "code",
   "execution_count": null,
   "id": "2b4e755f",
   "metadata": {},
   "outputs": [],
   "source": [
    "df.info()"
   ]
  },
  {
   "cell_type": "code",
   "execution_count": null,
   "id": "270d2572",
   "metadata": {},
   "outputs": [],
   "source": [
    "#where is my python code is located"
   ]
  },
  {
   "cell_type": "code",
   "execution_count": null,
   "id": "eb211368",
   "metadata": {},
   "outputs": [],
   "source": [
    "pwd"
   ]
  },
  {
   "cell_type": "code",
   "execution_count": null,
   "id": "cfe5c3de",
   "metadata": {},
   "outputs": [],
   "source": [
    "ls"
   ]
  },
  {
   "cell_type": "code",
   "execution_count": null,
   "id": "c5a03c7f",
   "metadata": {},
   "outputs": [],
   "source": [
    "df=pd.read_csv('C:\\\\Users\\\\DELL\\\\Desktop\\\\UNZIP_ME_FOR_NOTEBOOKS\\\\03-Pandas\\\\tips.csv')"
   ]
  },
  {
   "cell_type": "code",
   "execution_count": null,
   "id": "f0555611",
   "metadata": {},
   "outputs": [],
   "source": [
    "df"
   ]
  },
  {
   "cell_type": "code",
   "execution_count": null,
   "id": "5f8630e8",
   "metadata": {},
   "outputs": [],
   "source": [
    "df.columns"
   ]
  },
  {
   "cell_type": "code",
   "execution_count": null,
   "id": "566bdaa8",
   "metadata": {},
   "outputs": [],
   "source": [
    "df.index"
   ]
  },
  {
   "cell_type": "code",
   "execution_count": null,
   "id": "24e70713",
   "metadata": {},
   "outputs": [],
   "source": [
    "df.head()"
   ]
  },
  {
   "cell_type": "code",
   "execution_count": null,
   "id": "1e09b54e",
   "metadata": {},
   "outputs": [],
   "source": [
    "df.tail()"
   ]
  },
  {
   "cell_type": "code",
   "execution_count": null,
   "id": "19c20b1e",
   "metadata": {},
   "outputs": [],
   "source": [
    "df.head(10)"
   ]
  },
  {
   "cell_type": "code",
   "execution_count": null,
   "id": "ee8ad866",
   "metadata": {},
   "outputs": [],
   "source": [
    "df.info()"
   ]
  },
  {
   "cell_type": "code",
   "execution_count": null,
   "id": "3ad47dd3",
   "metadata": {},
   "outputs": [],
   "source": [
    "df.describe()"
   ]
  },
  {
   "cell_type": "code",
   "execution_count": null,
   "id": "45ba85b9",
   "metadata": {},
   "outputs": [],
   "source": [
    "df.describe().transpose()"
   ]
  },
  {
   "cell_type": "code",
   "execution_count": null,
   "id": "ab66c0ac",
   "metadata": {},
   "outputs": [],
   "source": [
    "#working with columns\n",
    "df['total_bill']"
   ]
  },
  {
   "cell_type": "code",
   "execution_count": null,
   "id": "d8a47a18",
   "metadata": {},
   "outputs": [],
   "source": [
    "type(df['total_bill'])"
   ]
  },
  {
   "cell_type": "code",
   "execution_count": null,
   "id": "65d4f5c5",
   "metadata": {},
   "outputs": [],
   "source": [
    "mycols=['total_bill','tip']\n",
    "df[mycols]"
   ]
  },
  {
   "cell_type": "code",
   "execution_count": null,
   "id": "1ca28285",
   "metadata": {},
   "outputs": [],
   "source": [
    "df[['total_bill','tip']]"
   ]
  },
  {
   "cell_type": "code",
   "execution_count": null,
   "id": "8c836106",
   "metadata": {},
   "outputs": [],
   "source": [
    "type(df['total_bill'])"
   ]
  },
  {
   "cell_type": "code",
   "execution_count": null,
   "id": "d0ee1ea9",
   "metadata": {},
   "outputs": [],
   "source": [
    "df['tip'] + df['total_bill']"
   ]
  },
  {
   "cell_type": "code",
   "execution_count": null,
   "id": "67fded37",
   "metadata": {},
   "outputs": [],
   "source": [
    "100 * df['tip']/df['total_bill']"
   ]
  },
  {
   "cell_type": "code",
   "execution_count": null,
   "id": "95096167",
   "metadata": {},
   "outputs": [],
   "source": [
    "df['tip_percentage']= 100 * df['tip']/df['total_bill']"
   ]
  },
  {
   "cell_type": "code",
   "execution_count": null,
   "id": "ea58be97",
   "metadata": {},
   "outputs": [],
   "source": [
    "df.head()"
   ]
  },
  {
   "cell_type": "code",
   "execution_count": null,
   "id": "e6aaf1b2",
   "metadata": {},
   "outputs": [],
   "source": [
    "df['price_per_person']=df['total_bill']/df['size']"
   ]
  },
  {
   "cell_type": "code",
   "execution_count": null,
   "id": "d8379085",
   "metadata": {},
   "outputs": [],
   "source": [
    "df"
   ]
  },
  {
   "cell_type": "code",
   "execution_count": null,
   "id": "bee64e36",
   "metadata": {},
   "outputs": [],
   "source": [
    "df['price_per_person']=df['total_bill']/df['size']"
   ]
  },
  {
   "cell_type": "code",
   "execution_count": null,
   "id": "88f3a83b",
   "metadata": {},
   "outputs": [],
   "source": [
    "np.round"
   ]
  },
  {
   "cell_type": "code",
   "execution_count": null,
   "id": "18cb4dcd",
   "metadata": {},
   "outputs": [],
   "source": [
    "df['price_per_person']=np.round(df['total_bill']/df['size'],2)"
   ]
  },
  {
   "cell_type": "code",
   "execution_count": null,
   "id": "d3b9a555",
   "metadata": {},
   "outputs": [],
   "source": [
    "df.head()"
   ]
  },
  {
   "cell_type": "code",
   "execution_count": null,
   "id": "7db9e3eb",
   "metadata": {},
   "outputs": [],
   "source": [
    "df.drop('tip_percentage',axis=1)"
   ]
  },
  {
   "cell_type": "code",
   "execution_count": null,
   "id": "d9dbb064",
   "metadata": {},
   "outputs": [],
   "source": [
    "df=df.drop('tip_percentage',axis=1)"
   ]
  },
  {
   "cell_type": "code",
   "execution_count": null,
   "id": "ae1b4718",
   "metadata": {},
   "outputs": [],
   "source": [
    "df.shape"
   ]
  },
  {
   "cell_type": "code",
   "execution_count": null,
   "id": "9c857325",
   "metadata": {},
   "outputs": [],
   "source": [
    "df.shape[1]"
   ]
  },
  {
   "cell_type": "markdown",
   "id": "d9a55b24",
   "metadata": {},
   "source": [
    "#working with rows"
   ]
  },
  {
   "cell_type": "code",
   "execution_count": null,
   "id": "40fce2a9",
   "metadata": {},
   "outputs": [],
   "source": [
    "df.head()"
   ]
  },
  {
   "cell_type": "code",
   "execution_count": null,
   "id": "e4d697c3",
   "metadata": {},
   "outputs": [],
   "source": [
    "df.index"
   ]
  },
  {
   "cell_type": "code",
   "execution_count": null,
   "id": "527e36fb",
   "metadata": {},
   "outputs": [],
   "source": [
    "df=df.set_index(\"Payment ID\")"
   ]
  },
  {
   "cell_type": "code",
   "execution_count": null,
   "id": "6bf37718",
   "metadata": {},
   "outputs": [],
   "source": [
    "df=df.reset_index()"
   ]
  },
  {
   "cell_type": "code",
   "execution_count": null,
   "id": "1b34aac1",
   "metadata": {},
   "outputs": [],
   "source": [
    "df.head"
   ]
  },
  {
   "cell_type": "code",
   "execution_count": null,
   "id": "590d1b81",
   "metadata": {},
   "outputs": [],
   "source": [
    "df.head()"
   ]
  },
  {
   "cell_type": "code",
   "execution_count": null,
   "id": "a9f2c686",
   "metadata": {},
   "outputs": [],
   "source": [
    "df.iloc[0]"
   ]
  },
  {
   "cell_type": "code",
   "execution_count": null,
   "id": "d75151e0",
   "metadata": {},
   "outputs": [],
   "source": [
    "df.loc['Sun2959']"
   ]
  },
  {
   "cell_type": "code",
   "execution_count": null,
   "id": "0128da92",
   "metadata": {},
   "outputs": [],
   "source": [
    "df.iloc[0:4]"
   ]
  },
  {
   "cell_type": "code",
   "execution_count": null,
   "id": "a3f0fff6",
   "metadata": {},
   "outputs": [],
   "source": [
    "\n",
    "df.loc['Sun2959']"
   ]
  },
  {
   "cell_type": "code",
   "execution_count": null,
   "id": "ceaef06b",
   "metadata": {},
   "outputs": [],
   "source": [
    "df.loc['Sun2959']"
   ]
  },
  {
   "cell_type": "code",
   "execution_count": null,
   "id": "ed5d0055",
   "metadata": {},
   "outputs": [],
   "source": [
    "df.loc[['Sun2959','Sun5260']]"
   ]
  },
  {
   "cell_type": "code",
   "execution_count": null,
   "id": "0a706a10",
   "metadata": {},
   "outputs": [],
   "source": [
    "df.drop('sun2959',axis=0)"
   ]
  },
  {
   "cell_type": "code",
   "execution_count": null,
   "id": "cfeab5b6",
   "metadata": {},
   "outputs": [],
   "source": [
    "df=df.iloc[:1]"
   ]
  },
  {
   "cell_type": "code",
   "execution_count": null,
   "id": "c308f89e",
   "metadata": {},
   "outputs": [],
   "source": [
    "df"
   ]
  },
  {
   "cell_type": "code",
   "execution_count": null,
   "id": "21034475",
   "metadata": {},
   "outputs": [],
   "source": [
    "one_row=df.iloc[0]"
   ]
  },
  {
   "cell_type": "code",
   "execution_count": null,
   "id": "00bdad64",
   "metadata": {},
   "outputs": [],
   "source": [
    "one_row"
   ]
  },
  {
   "cell_type": "code",
   "execution_count": null,
   "id": "2736ec47",
   "metadata": {},
   "outputs": [],
   "source": [
    "df"
   ]
  },
  {
   "cell_type": "markdown",
   "id": "e87e322a",
   "metadata": {},
   "source": [
    "# Pandas connditional filtering"
   ]
  },
  {
   "cell_type": "code",
   "execution_count": null,
   "id": "65bebaf0",
   "metadata": {},
   "outputs": [],
   "source": [
    "df['total_bill']>40"
   ]
  },
  {
   "cell_type": "code",
   "execution_count": null,
   "id": "c028b33a",
   "metadata": {},
   "outputs": [],
   "source": [
    "df=pd.read_csv('C:\\\\Users\\\\DELL\\\\Desktop\\\\UNZIP_ME_FOR_NOTEBOOKS\\\\03-Pandas\\\\tips.csv')"
   ]
  },
  {
   "cell_type": "code",
   "execution_count": null,
   "id": "e734c264",
   "metadata": {},
   "outputs": [],
   "source": [
    "df"
   ]
  },
  {
   "cell_type": "code",
   "execution_count": null,
   "id": "66e05321",
   "metadata": {},
   "outputs": [],
   "source": [
    "df['total_bill']>40"
   ]
  },
  {
   "cell_type": "code",
   "execution_count": null,
   "id": "0b912d12",
   "metadata": {},
   "outputs": [],
   "source": [
    "bool_series=df['total_bill']>40"
   ]
  },
  {
   "cell_type": "code",
   "execution_count": null,
   "id": "d2f76631",
   "metadata": {},
   "outputs": [],
   "source": [
    "bool_series"
   ]
  },
  {
   "cell_type": "code",
   "execution_count": null,
   "id": "57b6754e",
   "metadata": {},
   "outputs": [],
   "source": [
    "df[bool_series]"
   ]
  },
  {
   "cell_type": "code",
   "execution_count": null,
   "id": "b2e07b43",
   "metadata": {},
   "outputs": [],
   "source": [
    "df[df['total_bill']>40]"
   ]
  },
  {
   "cell_type": "code",
   "execution_count": null,
   "id": "20f245ee",
   "metadata": {},
   "outputs": [],
   "source": [
    "df[df['sex']==\"Male\"]"
   ]
  },
  {
   "cell_type": "code",
   "execution_count": null,
   "id": "09804fba",
   "metadata": {},
   "outputs": [],
   "source": [
    "df[df['size']>3]"
   ]
  },
  {
   "cell_type": "code",
   "execution_count": null,
   "id": "91d1e580",
   "metadata": {},
   "outputs": [],
   "source": [
    "#AND &--Both condition needed to be true"
   ]
  },
  {
   "cell_type": "code",
   "execution_count": null,
   "id": "a869777a",
   "metadata": {},
   "outputs": [],
   "source": [
    "#OR |--Either condition is true"
   ]
  },
  {
   "cell_type": "code",
   "execution_count": null,
   "id": "c312f253",
   "metadata": {},
   "outputs": [],
   "source": [
    "df[(df['total_bill']>30)| (df['sex']==\"Male\")]"
   ]
  },
  {
   "cell_type": "code",
   "execution_count": null,
   "id": "7f1760d6",
   "metadata": {},
   "outputs": [],
   "source": [
    "df[(df['day']=='sun')|(df['day']=='sat')|(df['day']=='Fri')]"
   ]
  },
  {
   "cell_type": "code",
   "execution_count": null,
   "id": "55ce1fcc",
   "metadata": {},
   "outputs": [],
   "source": [
    "options=['sat','sun']"
   ]
  },
  {
   "cell_type": "code",
   "execution_count": null,
   "id": "2f818d96",
   "metadata": {},
   "outputs": [],
   "source": [
    "df['day'].isin(options)"
   ]
  },
  {
   "cell_type": "code",
   "execution_count": null,
   "id": "c52a3d20",
   "metadata": {},
   "outputs": [],
   "source": [
    "options=df[df['day'].isin(['sat','sun'])]"
   ]
  },
  {
   "cell_type": "code",
   "execution_count": null,
   "id": "b4b160e7",
   "metadata": {},
   "outputs": [],
   "source": [
    "options"
   ]
  },
  {
   "cell_type": "code",
   "execution_count": null,
   "id": "229c988d",
   "metadata": {},
   "outputs": [],
   "source": [
    "#useful methods Apply on single columns"
   ]
  },
  {
   "cell_type": "code",
   "execution_count": null,
   "id": "c82632ad",
   "metadata": {},
   "outputs": [],
   "source": [
    "str(242872897592)[-4:]"
   ]
  },
  {
   "cell_type": "code",
   "execution_count": null,
   "id": "cafe23dd",
   "metadata": {},
   "outputs": [],
   "source": [
    "def last_four(num):\n",
    "    return str(num)[-4:]"
   ]
  },
  {
   "cell_type": "code",
   "execution_count": null,
   "id": "250e3325",
   "metadata": {},
   "outputs": [],
   "source": [
    "last_four(82897998429809)"
   ]
  },
  {
   "cell_type": "code",
   "execution_count": null,
   "id": "148fc6ec",
   "metadata": {},
   "outputs": [],
   "source": [
    "df['CC Number'].apply(last_four)"
   ]
  },
  {
   "cell_type": "code",
   "execution_count": null,
   "id": "6fca8b56",
   "metadata": {},
   "outputs": [],
   "source": [
    "df['last_four']=df['CC Number'].apply(last_four)"
   ]
  },
  {
   "cell_type": "code",
   "execution_count": null,
   "id": "557a27cc",
   "metadata": {},
   "outputs": [],
   "source": [
    "df['total_bill']"
   ]
  },
  {
   "cell_type": "code",
   "execution_count": null,
   "id": "475536af",
   "metadata": {},
   "outputs": [],
   "source": [
    "df['total_bill'].mean()"
   ]
  },
  {
   "cell_type": "code",
   "execution_count": null,
   "id": "e4c4614c",
   "metadata": {},
   "outputs": [],
   "source": [
    "def yelp(price):\n",
    "    if price<10:\n",
    "        return  '$' \n",
    "    elif price>=10 and price <30:\n",
    "        return '$$'\n",
    "    else:\n",
    "        return '$$$'"
   ]
  },
  {
   "cell_type": "code",
   "execution_count": null,
   "id": "1c4d515a",
   "metadata": {},
   "outputs": [],
   "source": [
    "df['yelp']=df['total_bill'].apply(yelp)"
   ]
  },
  {
   "cell_type": "code",
   "execution_count": null,
   "id": "8082ab0a",
   "metadata": {},
   "outputs": [],
   "source": [
    "df['yelp']"
   ]
  },
  {
   "cell_type": "code",
   "execution_count": null,
   "id": "b066850d",
   "metadata": {},
   "outputs": [],
   "source": [
    "df"
   ]
  },
  {
   "cell_type": "code",
   "execution_count": null,
   "id": "b2d43afc",
   "metadata": {},
   "outputs": [],
   "source": [
    "df['yelp']=df['total_bill'].apply(yelp)"
   ]
  },
  {
   "cell_type": "code",
   "execution_count": null,
   "id": "e136a85a",
   "metadata": {},
   "outputs": [],
   "source": [
    "df"
   ]
  },
  {
   "cell_type": "code",
   "execution_count": null,
   "id": "7f26a9ca",
   "metadata": {},
   "outputs": [],
   "source": [
    "#useful methods on apply on multiple columns"
   ]
  },
  {
   "cell_type": "code",
   "execution_count": null,
   "id": "c28e8653",
   "metadata": {},
   "outputs": [],
   "source": [
    "def simple(num):\n",
    "    return num*2"
   ]
  },
  {
   "cell_type": "code",
   "execution_count": null,
   "id": "9ce7b57e",
   "metadata": {},
   "outputs": [],
   "source": [
    "simple(2)"
   ]
  },
  {
   "cell_type": "code",
   "execution_count": null,
   "id": "ebe056e6",
   "metadata": {},
   "outputs": [],
   "source": [
    "lambda num: num*2"
   ]
  },
  {
   "cell_type": "code",
   "execution_count": null,
   "id": "7c40866b",
   "metadata": {},
   "outputs": [],
   "source": [
    "simple(2)"
   ]
  },
  {
   "cell_type": "code",
   "execution_count": null,
   "id": "05e93cff",
   "metadata": {},
   "outputs": [],
   "source": [
    "df['total_bill'].apply(lambda num: num*2)"
   ]
  },
  {
   "cell_type": "code",
   "execution_count": null,
   "id": "07e0952b",
   "metadata": {},
   "outputs": [],
   "source": [
    "def quality(total_bill,tip):\n",
    "    if tip/total_bill >0.25:\n",
    "        return \"Generous\"\n",
    "    else:\n",
    "        return \"Other\""
   ]
  },
  {
   "cell_type": "code",
   "execution_count": null,
   "id": "270ca09f",
   "metadata": {},
   "outputs": [],
   "source": [
    "quality(16.99,1.01)"
   ]
  },
  {
   "cell_type": "code",
   "execution_count": null,
   "id": "912302c0",
   "metadata": {},
   "outputs": [],
   "source": [
    "df['quality']=np.vectorize(quality)(df['total_bill'],df['tip'])"
   ]
  },
  {
   "cell_type": "code",
   "execution_count": null,
   "id": "8f811bc4",
   "metadata": {},
   "outputs": [],
   "source": [
    "df.head()"
   ]
  },
  {
   "cell_type": "code",
   "execution_count": null,
   "id": "9330bce5",
   "metadata": {},
   "outputs": [],
   "source": [
    "import timeit"
   ]
  },
  {
   "cell_type": "code",
   "execution_count": null,
   "id": "6a9fe4b9",
   "metadata": {},
   "outputs": [],
   "source": [
    "#useful method describing and sorting"
   ]
  },
  {
   "cell_type": "code",
   "execution_count": null,
   "id": "43db93a3",
   "metadata": {},
   "outputs": [],
   "source": [
    "df=pd.read_csv('C:\\\\Users\\\\DELL\\\\Desktop\\\\UNZIP_ME_FOR_NOTEBOOKS\\\\03-Pandas\\\\tips.csv')"
   ]
  },
  {
   "cell_type": "code",
   "execution_count": null,
   "id": "a953581d",
   "metadata": {},
   "outputs": [],
   "source": [
    "df.describe()"
   ]
  },
  {
   "cell_type": "code",
   "execution_count": null,
   "id": "a1689660",
   "metadata": {},
   "outputs": [],
   "source": [
    "df.describe().transpose()"
   ]
  },
  {
   "cell_type": "code",
   "execution_count": null,
   "id": "dcdd0b98",
   "metadata": {},
   "outputs": [],
   "source": [
    "df.sort_values('tip')"
   ]
  },
  {
   "cell_type": "code",
   "execution_count": null,
   "id": "0f4ad870",
   "metadata": {},
   "outputs": [],
   "source": [
    "df.sort_values('tip',ascending=False)"
   ]
  },
  {
   "cell_type": "code",
   "execution_count": null,
   "id": "c8795906",
   "metadata": {},
   "outputs": [],
   "source": [
    "df.sort_values(['tip','size'])"
   ]
  },
  {
   "cell_type": "code",
   "execution_count": null,
   "id": "9ff7d1a3",
   "metadata": {},
   "outputs": [],
   "source": [
    "df['total_bill']"
   ]
  },
  {
   "cell_type": "code",
   "execution_count": null,
   "id": "444cc652",
   "metadata": {},
   "outputs": [],
   "source": [
    "df['total_bill'].max()"
   ]
  },
  {
   "cell_type": "code",
   "execution_count": null,
   "id": "7bf72450",
   "metadata": {},
   "outputs": [],
   "source": [
    "df['total_bill'].idxmax()"
   ]
  },
  {
   "cell_type": "code",
   "execution_count": null,
   "id": "25d7b6ec",
   "metadata": {},
   "outputs": [],
   "source": [
    "df.iloc[170]"
   ]
  },
  {
   "cell_type": "code",
   "execution_count": null,
   "id": "674a8ea3",
   "metadata": {},
   "outputs": [],
   "source": [
    "df['total_bill'].min()"
   ]
  },
  {
   "cell_type": "code",
   "execution_count": null,
   "id": "fd25450a",
   "metadata": {},
   "outputs": [],
   "source": [
    "df.iloc[df['total_bill'].idxmin()]"
   ]
  },
  {
   "cell_type": "code",
   "execution_count": null,
   "id": "ac375441",
   "metadata": {},
   "outputs": [],
   "source": [
    "df.corr()"
   ]
  },
  {
   "cell_type": "code",
   "execution_count": null,
   "id": "6b0bea42",
   "metadata": {},
   "outputs": [],
   "source": [
    "df.head()"
   ]
  },
  {
   "cell_type": "code",
   "execution_count": null,
   "id": "b08504c4",
   "metadata": {},
   "outputs": [],
   "source": [
    "df['sex'].value_counts()"
   ]
  },
  {
   "cell_type": "code",
   "execution_count": null,
   "id": "6c417e7c",
   "metadata": {},
   "outputs": [],
   "source": [
    "df['day'].unique()"
   ]
  },
  {
   "cell_type": "code",
   "execution_count": null,
   "id": "74f64f43",
   "metadata": {},
   "outputs": [],
   "source": [
    "df['day'].value_counts()"
   ]
  },
  {
   "cell_type": "code",
   "execution_count": null,
   "id": "38c1adf5",
   "metadata": {},
   "outputs": [],
   "source": [
    "df.head()"
   ]
  },
  {
   "cell_type": "code",
   "execution_count": null,
   "id": "462dba62",
   "metadata": {},
   "outputs": [],
   "source": [
    "df['sex'].replace('Female','F')"
   ]
  },
  {
   "cell_type": "code",
   "execution_count": null,
   "id": "50a75b15",
   "metadata": {},
   "outputs": [],
   "source": [
    "df['sex'].replace(['Female','Male'],['F','M'])"
   ]
  },
  {
   "cell_type": "code",
   "execution_count": null,
   "id": "9b55284c",
   "metadata": {},
   "outputs": [],
   "source": [
    "mymap={'Female':'F','Male':'M'}"
   ]
  },
  {
   "cell_type": "code",
   "execution_count": null,
   "id": "881ca5bb",
   "metadata": {},
   "outputs": [],
   "source": [
    "mymap"
   ]
  },
  {
   "cell_type": "code",
   "execution_count": null,
   "id": "97eb851f",
   "metadata": {},
   "outputs": [],
   "source": [
    "df['sex'].map(mymap)"
   ]
  },
  {
   "cell_type": "code",
   "execution_count": null,
   "id": "2619b874",
   "metadata": {},
   "outputs": [],
   "source": [
    "df.duplicated()"
   ]
  },
  {
   "cell_type": "code",
   "execution_count": null,
   "id": "72bfabb6",
   "metadata": {},
   "outputs": [],
   "source": [
    "simple_df=pd.DataFrame([1,2,2],['a','b','c'])"
   ]
  },
  {
   "cell_type": "code",
   "execution_count": null,
   "id": "0de33859",
   "metadata": {},
   "outputs": [],
   "source": [
    "simple_df"
   ]
  },
  {
   "cell_type": "code",
   "execution_count": null,
   "id": "5a2214ea",
   "metadata": {},
   "outputs": [],
   "source": [
    "simple_df.duplicated()"
   ]
  },
  {
   "cell_type": "code",
   "execution_count": null,
   "id": "c9dcd9f7",
   "metadata": {},
   "outputs": [],
   "source": [
    "simple_df.drop_duplicates()"
   ]
  },
  {
   "cell_type": "code",
   "execution_count": null,
   "id": "55d2778d",
   "metadata": {},
   "outputs": [],
   "source": [
    "df['total_bill']"
   ]
  },
  {
   "cell_type": "code",
   "execution_count": null,
   "id": "c1379946",
   "metadata": {},
   "outputs": [],
   "source": [
    "df['total_bill'].between(10,20,inclusive=True)"
   ]
  },
  {
   "cell_type": "code",
   "execution_count": null,
   "id": "8ab16e3b",
   "metadata": {},
   "outputs": [],
   "source": [
    "df.nlargest(10,'tip')"
   ]
  },
  {
   "cell_type": "code",
   "execution_count": null,
   "id": "3c1cab1c",
   "metadata": {},
   "outputs": [],
   "source": [
    "df.nlargest(2,'tip')"
   ]
  },
  {
   "cell_type": "code",
   "execution_count": null,
   "id": "29f32e20",
   "metadata": {},
   "outputs": [],
   "source": [
    "df.sort_values('tip',ascending=False).iloc[0:2]"
   ]
  },
  {
   "cell_type": "code",
   "execution_count": null,
   "id": "a1590d5c",
   "metadata": {},
   "outputs": [],
   "source": [
    "df.sort_values('tip',ascending=True).iloc[0:2]"
   ]
  },
  {
   "cell_type": "code",
   "execution_count": null,
   "id": "14fd3598",
   "metadata": {},
   "outputs": [],
   "source": [
    "df.sample()"
   ]
  },
  {
   "cell_type": "code",
   "execution_count": null,
   "id": "2bbd305c",
   "metadata": {},
   "outputs": [],
   "source": [
    "df.sample(5)"
   ]
  },
  {
   "cell_type": "code",
   "execution_count": null,
   "id": "43e16549",
   "metadata": {},
   "outputs": [],
   "source": [
    "df.sample(frac=0.1)"
   ]
  },
  {
   "cell_type": "code",
   "execution_count": null,
   "id": "c095a7cc",
   "metadata": {},
   "outputs": [],
   "source": [
    "#missing data"
   ]
  },
  {
   "cell_type": "code",
   "execution_count": null,
   "id": "acbb9bc8",
   "metadata": {},
   "outputs": [],
   "source": [
    "import numpy as np\n",
    "import pandas as pd"
   ]
  },
  {
   "cell_type": "code",
   "execution_count": null,
   "id": "bf2c4ec3",
   "metadata": {},
   "outputs": [],
   "source": [
    "np.nan"
   ]
  },
  {
   "cell_type": "code",
   "execution_count": null,
   "id": "e9f3327b",
   "metadata": {},
   "outputs": [],
   "source": [
    "pd.NA"
   ]
  },
  {
   "cell_type": "code",
   "execution_count": null,
   "id": "20b588a5",
   "metadata": {},
   "outputs": [],
   "source": [
    "pd.NaT"
   ]
  },
  {
   "cell_type": "code",
   "execution_count": null,
   "id": "640437b6",
   "metadata": {},
   "outputs": [],
   "source": [
    "np.nan==np.nan"
   ]
  },
  {
   "cell_type": "code",
   "execution_count": null,
   "id": "35941f73",
   "metadata": {},
   "outputs": [],
   "source": [
    "np.nan is np.nan"
   ]
  },
  {
   "cell_type": "code",
   "execution_count": null,
   "id": "ec9041a0",
   "metadata": {},
   "outputs": [],
   "source": [
    "myvar=np.nan"
   ]
  },
  {
   "cell_type": "code",
   "execution_count": null,
   "id": "44134830",
   "metadata": {},
   "outputs": [],
   "source": [
    "myvar is np.nan"
   ]
  },
  {
   "cell_type": "code",
   "execution_count": null,
   "id": "debf97cb",
   "metadata": {},
   "outputs": [],
   "source": [
    "df=pd.read_csv('C:\\\\Users\\\\DELL\\\\Desktop\\\\UNZIP_ME_FOR_NOTEBOOKS\\\\03-Pandas\\\\movie_scores.csv')"
   ]
  },
  {
   "cell_type": "code",
   "execution_count": null,
   "id": "c7d0080b",
   "metadata": {},
   "outputs": [],
   "source": [
    "df"
   ]
  },
  {
   "cell_type": "code",
   "execution_count": null,
   "id": "1cf83219",
   "metadata": {},
   "outputs": [],
   "source": [
    "df.isnull()"
   ]
  },
  {
   "cell_type": "code",
   "execution_count": null,
   "id": "ffc5deb4",
   "metadata": {},
   "outputs": [],
   "source": [
    "df.notnull()"
   ]
  },
  {
   "cell_type": "code",
   "execution_count": null,
   "id": "d435dbb2",
   "metadata": {},
   "outputs": [],
   "source": [
    "df['pre_movie_score'].notnull()"
   ]
  },
  {
   "cell_type": "code",
   "execution_count": null,
   "id": "505ff3b2",
   "metadata": {},
   "outputs": [],
   "source": [
    "df[df['pre_movie_score'].notnull()]"
   ]
  },
  {
   "cell_type": "code",
   "execution_count": null,
   "id": "2bf62020",
   "metadata": {},
   "outputs": [],
   "source": [
    "df[df['pre_movie_score'].isnull()]"
   ]
  },
  {
   "cell_type": "code",
   "execution_count": null,
   "id": "ddb64cc7",
   "metadata": {},
   "outputs": [],
   "source": [
    "df[(df['pre_movie_score'].isnull()) &(df['first_name'].notnull())]"
   ]
  },
  {
   "cell_type": "code",
   "execution_count": null,
   "id": "c265a39c",
   "metadata": {},
   "outputs": [],
   "source": [
    "#keep data\n",
    "#drop data\n",
    "#fill data"
   ]
  },
  {
   "cell_type": "code",
   "execution_count": null,
   "id": "64e93e46",
   "metadata": {},
   "outputs": [],
   "source": [
    "df"
   ]
  },
  {
   "cell_type": "code",
   "execution_count": null,
   "id": "1f951163",
   "metadata": {},
   "outputs": [],
   "source": [
    "df=pd.read_csv('C:\\\\Users\\\\DELL\\\\Desktop\\\\UNZIP_ME_FOR_NOTEBOOKS\\\\03-Pandas\\\\movie_scores.csv')"
   ]
  },
  {
   "cell_type": "code",
   "execution_count": null,
   "id": "d6c0e2ce",
   "metadata": {},
   "outputs": [],
   "source": [
    "df"
   ]
  },
  {
   "cell_type": "code",
   "execution_count": null,
   "id": "82f900b5",
   "metadata": {},
   "outputs": [],
   "source": [
    "help(df.dropna)"
   ]
  },
  {
   "cell_type": "code",
   "execution_count": null,
   "id": "e5be59dd",
   "metadata": {},
   "outputs": [],
   "source": [
    "df.dropna()"
   ]
  },
  {
   "cell_type": "code",
   "execution_count": null,
   "id": "6dd40dac",
   "metadata": {},
   "outputs": [],
   "source": [
    "df.dropna(thresh=1)"
   ]
  },
  {
   "cell_type": "code",
   "execution_count": null,
   "id": "ffecfaa6",
   "metadata": {},
   "outputs": [],
   "source": [
    "df.dropna(thresh=5)"
   ]
  },
  {
   "cell_type": "code",
   "execution_count": null,
   "id": "a62dcd70",
   "metadata": {},
   "outputs": [],
   "source": [
    "df.dropna(axis=1)"
   ]
  },
  {
   "cell_type": "code",
   "execution_count": null,
   "id": "83d22dfa",
   "metadata": {},
   "outputs": [],
   "source": [
    "df"
   ]
  },
  {
   "cell_type": "code",
   "execution_count": null,
   "id": "b1648a19",
   "metadata": {},
   "outputs": [],
   "source": [
    "df.dropna(subset=['last_name'])"
   ]
  },
  {
   "cell_type": "code",
   "execution_count": null,
   "id": "decd91a7",
   "metadata": {},
   "outputs": [],
   "source": [
    "df.fillna('NEW VALUE!')"
   ]
  },
  {
   "cell_type": "code",
   "execution_count": null,
   "id": "f310e265",
   "metadata": {},
   "outputs": [],
   "source": [
    "df['pre_movie_score'].fillna[0]"
   ]
  },
  {
   "cell_type": "code",
   "execution_count": null,
   "id": "7d02f3f1",
   "metadata": {},
   "outputs": [],
   "source": [
    "df['pre_movie_score'].mean()"
   ]
  },
  {
   "cell_type": "code",
   "execution_count": null,
   "id": "c15a3931",
   "metadata": {},
   "outputs": [],
   "source": [
    "df['pre_movie_score'].fillna(df['pre_movie_score'].mean())"
   ]
  },
  {
   "cell_type": "code",
   "execution_count": null,
   "id": "1c895f64",
   "metadata": {},
   "outputs": [],
   "source": [
    "df.fillna(df.mean())"
   ]
  },
  {
   "cell_type": "code",
   "execution_count": null,
   "id": "2e7df337",
   "metadata": {},
   "outputs": [],
   "source": [
    "airline_tix={'first':100,'buiseness':np.nan,'economy-plus':50,'economy':30}"
   ]
  },
  {
   "cell_type": "code",
   "execution_count": null,
   "id": "feb1b80f",
   "metadata": {},
   "outputs": [],
   "source": [
    "ser=pd.Series(airline_tix)"
   ]
  },
  {
   "cell_type": "code",
   "execution_count": null,
   "id": "f951c534",
   "metadata": {},
   "outputs": [],
   "source": [
    "ser"
   ]
  },
  {
   "cell_type": "code",
   "execution_count": null,
   "id": "7d3301b7",
   "metadata": {},
   "outputs": [],
   "source": [
    "ser.interpolate()"
   ]
  },
  {
   "cell_type": "markdown",
   "id": "6de77b21",
   "metadata": {},
   "source": [
    "Groupby operation"
   ]
  },
  {
   "cell_type": "code",
   "execution_count": null,
   "id": "2521c735",
   "metadata": {},
   "outputs": [],
   "source": [
    "import numpy as np\n",
    "import pandas as pd"
   ]
  },
  {
   "cell_type": "code",
   "execution_count": null,
   "id": "bab49d5d",
   "metadata": {},
   "outputs": [],
   "source": [
    "df=pd.read_csv('C:\\\\Users\\\\DELL\\\\Desktop\\\\UNZIP_ME_FOR_NOTEBOOKS\\\\03-Pandas\\\\mpg.csv')"
   ]
  },
  {
   "cell_type": "code",
   "execution_count": null,
   "id": "0a7ba8e2",
   "metadata": {},
   "outputs": [],
   "source": [
    "df"
   ]
  },
  {
   "cell_type": "code",
   "execution_count": null,
   "id": "2c8fa89f",
   "metadata": {},
   "outputs": [],
   "source": [
    "df['model_year']  #unique"
   ]
  },
  {
   "cell_type": "code",
   "execution_count": null,
   "id": "43a5db5a",
   "metadata": {},
   "outputs": [],
   "source": [
    "df['model_year'].value_counts()"
   ]
  },
  {
   "cell_type": "code",
   "execution_count": null,
   "id": "b70f8162",
   "metadata": {},
   "outputs": [],
   "source": [
    "df.groupby('model_year')"
   ]
  },
  {
   "cell_type": "code",
   "execution_count": null,
   "id": "766322e8",
   "metadata": {},
   "outputs": [],
   "source": [
    "df.groupby('model_year').mean()"
   ]
  },
  {
   "cell_type": "code",
   "execution_count": null,
   "id": "4df46bc4",
   "metadata": {},
   "outputs": [],
   "source": [
    "df"
   ]
  },
  {
   "cell_type": "code",
   "execution_count": null,
   "id": "618b2c88",
   "metadata": {},
   "outputs": [],
   "source": [
    "df.groupby('model_year').mean()['mpg']"
   ]
  },
  {
   "cell_type": "code",
   "execution_count": null,
   "id": "d343ae35",
   "metadata": {},
   "outputs": [],
   "source": [
    "df.groupby(['model_year','cylinders']).mean()"
   ]
  },
  {
   "cell_type": "code",
   "execution_count": null,
   "id": "e9edb9c0",
   "metadata": {},
   "outputs": [],
   "source": [
    "df.groupby(['model_year','cylinders']).mean().columns"
   ]
  },
  {
   "cell_type": "code",
   "execution_count": null,
   "id": "195a01f3",
   "metadata": {},
   "outputs": [],
   "source": [
    "df.groupby(['model_year','cylinders']).mean().index"
   ]
  },
  {
   "cell_type": "code",
   "execution_count": null,
   "id": "37f7e008",
   "metadata": {},
   "outputs": [],
   "source": [
    "df.groupby(['model_year','cylinders']).mean()['mpg']"
   ]
  },
  {
   "cell_type": "code",
   "execution_count": null,
   "id": "b864db89",
   "metadata": {},
   "outputs": [],
   "source": [
    "df.groupby('model_year').describe()"
   ]
  },
  {
   "cell_type": "code",
   "execution_count": null,
   "id": "1074d428",
   "metadata": {},
   "outputs": [],
   "source": [
    "df.groupby('model_year').describe().transpose()"
   ]
  },
  {
   "cell_type": "code",
   "execution_count": null,
   "id": "10424a31",
   "metadata": {},
   "outputs": [],
   "source": [
    "#df.groupby('model_year').describe().transpose()"
   ]
  },
  {
   "cell_type": "code",
   "execution_count": null,
   "id": "34fc35b0",
   "metadata": {},
   "outputs": [],
   "source": [
    "year_cyl=df.groupby(['model_year','cylinders']).mean()"
   ]
  },
  {
   "cell_type": "code",
   "execution_count": null,
   "id": "b6748086",
   "metadata": {},
   "outputs": [],
   "source": [
    "year_cyl"
   ]
  },
  {
   "cell_type": "code",
   "execution_count": null,
   "id": "0eb93079",
   "metadata": {},
   "outputs": [],
   "source": [
    "year_cyl.index.names"
   ]
  },
  {
   "cell_type": "code",
   "execution_count": null,
   "id": "3f9a4e11",
   "metadata": {},
   "outputs": [],
   "source": [
    "year_cyl.index.levels"
   ]
  },
  {
   "cell_type": "code",
   "execution_count": null,
   "id": "bab507e0",
   "metadata": {},
   "outputs": [],
   "source": [
    "year_cyl.loc[70]"
   ]
  },
  {
   "cell_type": "code",
   "execution_count": null,
   "id": "82f517bb",
   "metadata": {},
   "outputs": [],
   "source": [
    "year_cyl.loc[[70,82]]"
   ]
  },
  {
   "cell_type": "code",
   "execution_count": null,
   "id": "e7c08d8c",
   "metadata": {},
   "outputs": [],
   "source": [
    "year_cyl.loc[(70,4)]"
   ]
  },
  {
   "cell_type": "markdown",
   "id": "f7fe2751",
   "metadata": {},
   "source": [
    "Groupby operations in multi-index"
   ]
  },
  {
   "cell_type": "code",
   "execution_count": null,
   "id": "6490971b",
   "metadata": {},
   "outputs": [],
   "source": [
    "year_cyl.index"
   ]
  },
  {
   "cell_type": "code",
   "execution_count": null,
   "id": "9a83edfa",
   "metadata": {},
   "outputs": [],
   "source": [
    "year_cyl.xs(key=70,level='model_year')"
   ]
  },
  {
   "cell_type": "code",
   "execution_count": null,
   "id": "d891f3c9",
   "metadata": {},
   "outputs": [],
   "source": [
    "year_cyl.loc[[70,80]]"
   ]
  },
  {
   "cell_type": "code",
   "execution_count": null,
   "id": "c429c70f",
   "metadata": {},
   "outputs": [],
   "source": [
    "year_cyl.xs(key=4,level='cylinders')"
   ]
  },
  {
   "cell_type": "code",
   "execution_count": null,
   "id": "c0baf918",
   "metadata": {},
   "outputs": [],
   "source": [
    "four_cyl=year_cyl.xs(key=4,level='cylinders')"
   ]
  },
  {
   "cell_type": "code",
   "execution_count": null,
   "id": "b4481892",
   "metadata": {},
   "outputs": [],
   "source": [
    "four_cyl"
   ]
  },
  {
   "cell_type": "code",
   "execution_count": null,
   "id": "7bec95ba",
   "metadata": {},
   "outputs": [],
   "source": [
    "df[df['cylinders'].isin([6,8])]"
   ]
  },
  {
   "cell_type": "code",
   "execution_count": null,
   "id": "f0327bac",
   "metadata": {},
   "outputs": [],
   "source": [
    "df[df['cylinders'].isin([6,8])].groupby(['model_year','cylinders']).mean()"
   ]
  },
  {
   "cell_type": "code",
   "execution_count": null,
   "id": "1fd01e23",
   "metadata": {},
   "outputs": [],
   "source": [
    "year_cyl"
   ]
  },
  {
   "cell_type": "code",
   "execution_count": null,
   "id": "49ea20cf",
   "metadata": {},
   "outputs": [],
   "source": [
    "year_cyl.swaplevel()"
   ]
  },
  {
   "cell_type": "code",
   "execution_count": null,
   "id": "66b67e6b",
   "metadata": {},
   "outputs": [],
   "source": [
    "year_cyl.sort_index(level='model_year',ascending=False)"
   ]
  },
  {
   "cell_type": "code",
   "execution_count": null,
   "id": "cab0d90c",
   "metadata": {},
   "outputs": [],
   "source": [
    "df"
   ]
  },
  {
   "cell_type": "code",
   "execution_count": null,
   "id": "5b714969",
   "metadata": {},
   "outputs": [],
   "source": [
    "df.agg(['std','mean'])"
   ]
  },
  {
   "cell_type": "code",
   "execution_count": null,
   "id": "2cb8fc2b",
   "metadata": {},
   "outputs": [],
   "source": [
    "df.agg(['std','mean'])['mpg']"
   ]
  },
  {
   "cell_type": "code",
   "execution_count": null,
   "id": "59d16fb5",
   "metadata": {},
   "outputs": [],
   "source": [
    "df.agg({'mpg':['max','mean'],'weight':['mean','std']})\n"
   ]
  },
  {
   "cell_type": "markdown",
   "id": "ada792f8",
   "metadata": {},
   "source": [
    "combining dataframes -concatenation"
   ]
  },
  {
   "cell_type": "code",
   "execution_count": null,
   "id": "de893d0e",
   "metadata": {},
   "outputs": [],
   "source": [
    "import numpy as np\n",
    "import pandas as pd"
   ]
  },
  {
   "cell_type": "code",
   "execution_count": null,
   "id": "3b0db6af",
   "metadata": {},
   "outputs": [],
   "source": [
    "data_one={'A':['A0','A1','A2','A3'],'B':['B0','B1','B2','B3']}"
   ]
  },
  {
   "cell_type": "code",
   "execution_count": null,
   "id": "3c95f497",
   "metadata": {},
   "outputs": [],
   "source": [
    "data_two={'C':['C0','C1','C2','C3'],'D':['D0','D1','D2','D3']}"
   ]
  },
  {
   "cell_type": "code",
   "execution_count": null,
   "id": "4b70f3a2",
   "metadata": {},
   "outputs": [],
   "source": [
    "one=pd.DataFrame(data_one)"
   ]
  },
  {
   "cell_type": "code",
   "execution_count": null,
   "id": "a103f1d8",
   "metadata": {},
   "outputs": [],
   "source": [
    "two=pd.DataFrame(data_two)"
   ]
  },
  {
   "cell_type": "code",
   "execution_count": null,
   "id": "9bbd860d",
   "metadata": {},
   "outputs": [],
   "source": [
    "one"
   ]
  },
  {
   "cell_type": "code",
   "execution_count": null,
   "id": "8163763c",
   "metadata": {},
   "outputs": [],
   "source": [
    "two"
   ]
  },
  {
   "cell_type": "code",
   "execution_count": null,
   "id": "210ec863",
   "metadata": {},
   "outputs": [],
   "source": [
    "pd.concat([one,two],axis=1)"
   ]
  },
  {
   "cell_type": "code",
   "execution_count": null,
   "id": "914d4a77",
   "metadata": {},
   "outputs": [],
   "source": [
    "one"
   ]
  },
  {
   "cell_type": "code",
   "execution_count": null,
   "id": "dbb7ee2e",
   "metadata": {},
   "outputs": [],
   "source": [
    "two"
   ]
  },
  {
   "cell_type": "code",
   "execution_count": null,
   "id": "7d584983",
   "metadata": {},
   "outputs": [],
   "source": [
    "pd.concat([one,two],axis=0)"
   ]
  },
  {
   "cell_type": "code",
   "execution_count": null,
   "id": "8c9eb879",
   "metadata": {},
   "outputs": [],
   "source": [
    "one"
   ]
  },
  {
   "cell_type": "code",
   "execution_count": null,
   "id": "53adb494",
   "metadata": {},
   "outputs": [],
   "source": [
    "two.columns=one.columns"
   ]
  },
  {
   "cell_type": "code",
   "execution_count": null,
   "id": "40aeb677",
   "metadata": {},
   "outputs": [],
   "source": [
    "one"
   ]
  },
  {
   "cell_type": "code",
   "execution_count": null,
   "id": "a22f194c",
   "metadata": {},
   "outputs": [],
   "source": [
    "two"
   ]
  },
  {
   "cell_type": "code",
   "execution_count": null,
   "id": "d3aa15a4",
   "metadata": {},
   "outputs": [],
   "source": [
    "pd.concat([one,two],axis=0)"
   ]
  },
  {
   "cell_type": "code",
   "execution_count": null,
   "id": "a9ebeb82",
   "metadata": {},
   "outputs": [],
   "source": [
    "mydf=pd.concat([one,two],axis=0)"
   ]
  },
  {
   "cell_type": "code",
   "execution_count": null,
   "id": "889a9bb8",
   "metadata": {},
   "outputs": [],
   "source": [
    "mydf.index=range(len(mydf))"
   ]
  },
  {
   "cell_type": "code",
   "execution_count": null,
   "id": "cfd85528",
   "metadata": {},
   "outputs": [],
   "source": [
    "mydf"
   ]
  },
  {
   "cell_type": "markdown",
   "id": "a10f4ec2",
   "metadata": {},
   "source": [
    "combining Dataframe - Inner Merge"
   ]
  },
  {
   "cell_type": "code",
   "execution_count": null,
   "id": "a9bdfa88",
   "metadata": {},
   "outputs": [],
   "source": [
    "registrations = pd.DataFrame({'reg_id':[1,2,3,4],'name':['Andrew','Bobo','Claire','David']})\n",
    "logins = pd.DataFrame({'log_id':[1,2,3,4],'name':['Xavier','Andrew','Yolanda','Bobo']})"
   ]
  },
  {
   "cell_type": "code",
   "execution_count": null,
   "id": "96bce7ba",
   "metadata": {},
   "outputs": [],
   "source": [
    "registrations"
   ]
  },
  {
   "cell_type": "code",
   "execution_count": null,
   "id": "636d230d",
   "metadata": {},
   "outputs": [],
   "source": [
    "logins"
   ]
  },
  {
   "cell_type": "code",
   "execution_count": null,
   "id": "22d05d52",
   "metadata": {},
   "outputs": [],
   "source": [
    "help(pd.merge)"
   ]
  },
  {
   "cell_type": "code",
   "execution_count": null,
   "id": "12c6a16b",
   "metadata": {},
   "outputs": [],
   "source": [
    "pd.merge(registrations,logins,how='inner',on='name')"
   ]
  },
  {
   "cell_type": "code",
   "execution_count": null,
   "id": "c8b470d0",
   "metadata": {},
   "outputs": [],
   "source": [
    "pd.merge(logins,registrations,how='inner',on='name')"
   ]
  },
  {
   "cell_type": "markdown",
   "id": "e46e5207",
   "metadata": {},
   "source": [
    "combining DataFrames \"left-right\" Merge"
   ]
  },
  {
   "cell_type": "code",
   "execution_count": null,
   "id": "f7b28482",
   "metadata": {},
   "outputs": [],
   "source": [
    "pd.merge(left=registrations,right=logins,how='left',on='name')"
   ]
  },
  {
   "cell_type": "code",
   "execution_count": null,
   "id": "0af78e2b",
   "metadata": {},
   "outputs": [],
   "source": [
    "pd.merge(left=registrations,right=logins,how='right',on='name')"
   ]
  },
  {
   "cell_type": "code",
   "execution_count": null,
   "id": "551763f7",
   "metadata": {},
   "outputs": [],
   "source": [
    "pd.merge(left=logins,right=registrations,how='left',on='name')"
   ]
  },
  {
   "cell_type": "code",
   "execution_count": null,
   "id": "f598f210",
   "metadata": {},
   "outputs": [],
   "source": [
    "pd.merge(left=logins,right=registrations,how='right',on='name')"
   ]
  },
  {
   "cell_type": "code",
   "execution_count": null,
   "id": "85f4518a",
   "metadata": {},
   "outputs": [],
   "source": [
    "pd.merge(registrations,logins,how='outer',on='name')"
   ]
  },
  {
   "cell_type": "code",
   "execution_count": null,
   "id": "0da32e9c",
   "metadata": {},
   "outputs": [],
   "source": [
    "registrations=registrations.set_index('name')"
   ]
  },
  {
   "cell_type": "code",
   "execution_count": null,
   "id": "889d0ad6",
   "metadata": {},
   "outputs": [],
   "source": [
    "registrations"
   ]
  },
  {
   "cell_type": "code",
   "execution_count": null,
   "id": "e8a25fcd",
   "metadata": {},
   "outputs": [],
   "source": [
    "logins"
   ]
  },
  {
   "cell_type": "code",
   "execution_count": null,
   "id": "5f3384da",
   "metadata": {},
   "outputs": [],
   "source": [
    "pd.merge(registrations,logins,left_index=True,right_on='name',how='inner')"
   ]
  },
  {
   "cell_type": "code",
   "execution_count": null,
   "id": "9c93e98a",
   "metadata": {},
   "outputs": [],
   "source": [
    "registrations=registrations.reset_index()"
   ]
  },
  {
   "cell_type": "code",
   "execution_count": null,
   "id": "3aa23315",
   "metadata": {},
   "outputs": [],
   "source": [
    "registrations"
   ]
  },
  {
   "cell_type": "code",
   "execution_count": null,
   "id": "3141e94e",
   "metadata": {},
   "outputs": [],
   "source": [
    "registrations.columns=['reg_name','reg_id']"
   ]
  },
  {
   "cell_type": "code",
   "execution_count": null,
   "id": "8645e5e7",
   "metadata": {},
   "outputs": [],
   "source": [
    "pd.merge(registrations,logins,left_on='reg_name',right_on='name').drop('reg_name',axis=1)"
   ]
  },
  {
   "cell_type": "code",
   "execution_count": null,
   "id": "2c0ac9cd",
   "metadata": {},
   "outputs": [],
   "source": [
    "registrations.columns = ['name','id']"
   ]
  },
  {
   "cell_type": "code",
   "execution_count": null,
   "id": "0cf8e1a8",
   "metadata": {},
   "outputs": [],
   "source": [
    "logins.columns = ['id','name']"
   ]
  },
  {
   "cell_type": "code",
   "execution_count": null,
   "id": "e4127752",
   "metadata": {},
   "outputs": [],
   "source": [
    "registrations"
   ]
  },
  {
   "cell_type": "code",
   "execution_count": null,
   "id": "4a66aac3",
   "metadata": {},
   "outputs": [],
   "source": [
    "logins"
   ]
  },
  {
   "cell_type": "code",
   "execution_count": null,
   "id": "7a7a6fb0",
   "metadata": {},
   "outputs": [],
   "source": [
    "# _x is for left\n",
    "# _y is for right\n",
    "pd.merge(registrations,logins,on='name')"
   ]
  },
  {
   "cell_type": "code",
   "execution_count": null,
   "id": "f2239cdf",
   "metadata": {},
   "outputs": [],
   "source": [
    "pd.merge(registrations,logins,on='name',suffixes=('_reg','_log'))"
   ]
  },
  {
   "cell_type": "markdown",
   "id": "62bbe29d",
   "metadata": {},
   "source": [
    "# Text method for string data"
   ]
  },
  {
   "cell_type": "code",
   "execution_count": null,
   "id": "ee1daf42",
   "metadata": {},
   "outputs": [],
   "source": [
    "import numpy as np\n",
    "import pandas as pd"
   ]
  },
  {
   "cell_type": "code",
   "execution_count": null,
   "id": "81380255",
   "metadata": {},
   "outputs": [],
   "source": [
    "email='jose@email.com'"
   ]
  },
  {
   "cell_type": "code",
   "execution_count": null,
   "id": "6db86a9e",
   "metadata": {},
   "outputs": [],
   "source": [
    "email.split('@')"
   ]
  },
  {
   "cell_type": "code",
   "execution_count": null,
   "id": "c3db0ae6",
   "metadata": {},
   "outputs": [],
   "source": [
    "names=pd.Series(['andrew','bobo','claire','david','5'])"
   ]
  },
  {
   "cell_type": "code",
   "execution_count": null,
   "id": "58396191",
   "metadata": {},
   "outputs": [],
   "source": [
    "names"
   ]
  },
  {
   "cell_type": "code",
   "execution_count": null,
   "id": "81825df7",
   "metadata": {},
   "outputs": [],
   "source": [
    "names.str.upper()"
   ]
  },
  {
   "cell_type": "code",
   "execution_count": null,
   "id": "319120d2",
   "metadata": {},
   "outputs": [],
   "source": [
    "names"
   ]
  },
  {
   "cell_type": "code",
   "execution_count": null,
   "id": "eb9d730b",
   "metadata": {},
   "outputs": [],
   "source": [
    "names.str.lower()"
   ]
  },
  {
   "cell_type": "code",
   "execution_count": null,
   "id": "f9176fd2",
   "metadata": {},
   "outputs": [],
   "source": [
    "email='Swethathangamani@email.com'"
   ]
  },
  {
   "cell_type": "code",
   "execution_count": null,
   "id": "0d33bd41",
   "metadata": {},
   "outputs": [],
   "source": [
    "email.isdigit()"
   ]
  },
  {
   "cell_type": "code",
   "execution_count": null,
   "id": "226544f5",
   "metadata": {},
   "outputs": [],
   "source": [
    "email='Swethathangamani22@email.com'"
   ]
  },
  {
   "cell_type": "code",
   "execution_count": null,
   "id": "9665f5d9",
   "metadata": {},
   "outputs": [],
   "source": [
    "email.isdigit()"
   ]
  },
  {
   "cell_type": "code",
   "execution_count": null,
   "id": "98e3edce",
   "metadata": {},
   "outputs": [],
   "source": [
    "email='482589020259'"
   ]
  },
  {
   "cell_type": "code",
   "execution_count": null,
   "id": "0842fb4f",
   "metadata": {},
   "outputs": [],
   "source": [
    "email.isdigit()"
   ]
  },
  {
   "cell_type": "code",
   "execution_count": null,
   "id": "10052f97",
   "metadata": {},
   "outputs": [],
   "source": [
    "'5'.isdigit()"
   ]
  },
  {
   "cell_type": "code",
   "execution_count": null,
   "id": "3336f368",
   "metadata": {},
   "outputs": [],
   "source": [
    "names.str.isdigit()"
   ]
  },
  {
   "cell_type": "code",
   "execution_count": null,
   "id": "05b61174",
   "metadata": {},
   "outputs": [],
   "source": [
    "tech_finance=['GOOG,APPL,AMZN','JPM,BAC,JS',]"
   ]
  },
  {
   "cell_type": "code",
   "execution_count": null,
   "id": "4cf2ae3e",
   "metadata": {},
   "outputs": [],
   "source": [
    "len(tech_finance)"
   ]
  },
  {
   "cell_type": "code",
   "execution_count": null,
   "id": "88289b83",
   "metadata": {},
   "outputs": [],
   "source": [
    "tickers=pd.Series(tech_finance)"
   ]
  },
  {
   "cell_type": "code",
   "execution_count": null,
   "id": "a29d5efa",
   "metadata": {},
   "outputs": [],
   "source": [
    "tickers"
   ]
  },
  {
   "cell_type": "code",
   "execution_count": null,
   "id": "66995328",
   "metadata": {},
   "outputs": [],
   "source": [
    "tickers.str.split(',',expand=True)"
   ]
  },
  {
   "cell_type": "code",
   "execution_count": null,
   "id": "238162cb",
   "metadata": {},
   "outputs": [],
   "source": [
    "tech='GOOG,APPL,AMZN'"
   ]
  },
  {
   "cell_type": "code",
   "execution_count": null,
   "id": "655783e0",
   "metadata": {},
   "outputs": [],
   "source": [
    "tech.split(',')"
   ]
  },
  {
   "cell_type": "code",
   "execution_count": null,
   "id": "43275cbf",
   "metadata": {},
   "outputs": [],
   "source": [
    "tech.split(',')[0]"
   ]
  },
  {
   "cell_type": "code",
   "execution_count": null,
   "id": "d7b97fcf",
   "metadata": {},
   "outputs": [],
   "source": [
    "messy_names=pd.Series(['andrew  ',\"bo;bo\",\"  claire  \"])"
   ]
  },
  {
   "cell_type": "code",
   "execution_count": null,
   "id": "bb66f755",
   "metadata": {},
   "outputs": [],
   "source": [
    "messy_names[0]"
   ]
  },
  {
   "cell_type": "code",
   "execution_count": null,
   "id": "0c36e201",
   "metadata": {},
   "outputs": [],
   "source": [
    "messy_names"
   ]
  },
  {
   "cell_type": "code",
   "execution_count": null,
   "id": "012db296",
   "metadata": {},
   "outputs": [],
   "source": [
    "messy_names.str.replace(';','').str.strip()[0]"
   ]
  },
  {
   "cell_type": "code",
   "execution_count": null,
   "id": "dc451fb5",
   "metadata": {},
   "outputs": [],
   "source": [
    "messy_names.str.replace(';','').str.strip().str.capitalize()"
   ]
  },
  {
   "cell_type": "code",
   "execution_count": null,
   "id": "49ec318c",
   "metadata": {},
   "outputs": [],
   "source": [
    "def cleanup(name):\n",
    "    name=name.replace(\";\",\"\")\n",
    "    name=name.strip()\n",
    "    name=name.capitalize()\n",
    "    return name"
   ]
  },
  {
   "cell_type": "code",
   "execution_count": null,
   "id": "cb741913",
   "metadata": {},
   "outputs": [],
   "source": [
    "messy_names.apply(cleanup)"
   ]
  },
  {
   "cell_type": "markdown",
   "id": "bbc1a0c7",
   "metadata": {},
   "source": [
    "Pandas-Time methods for Date and Time Data"
   ]
  },
  {
   "cell_type": "code",
   "execution_count": null,
   "id": "20a0d2b4",
   "metadata": {},
   "outputs": [],
   "source": [
    "import numpy as np\n",
    "import pandas as pd\n",
    "\n",
    "from datetime import datetime"
   ]
  },
  {
   "cell_type": "code",
   "execution_count": null,
   "id": "73215231",
   "metadata": {},
   "outputs": [],
   "source": [
    "myyear=2015\n",
    "mymonth=1\n",
    "myday=1\n",
    "myhour=2\n",
    "mymin=30\n",
    "mysec=15"
   ]
  },
  {
   "cell_type": "code",
   "execution_count": null,
   "id": "63e8b43e",
   "metadata": {},
   "outputs": [],
   "source": [
    "mydate=datetime(myyear,mymonth,myday)"
   ]
  },
  {
   "cell_type": "code",
   "execution_count": null,
   "id": "2cf3820f",
   "metadata": {},
   "outputs": [],
   "source": [
    "mydate"
   ]
  },
  {
   "cell_type": "code",
   "execution_count": null,
   "id": "8fe5b1c4",
   "metadata": {},
   "outputs": [],
   "source": [
    "mydatetime=datetime(myyear,mymonth,myday,myhour,mymin,mysec)"
   ]
  },
  {
   "cell_type": "code",
   "execution_count": null,
   "id": "e5ddd5e1",
   "metadata": {},
   "outputs": [],
   "source": [
    "mydatetime"
   ]
  },
  {
   "cell_type": "code",
   "execution_count": null,
   "id": "994ae6b9",
   "metadata": {},
   "outputs": [],
   "source": [
    "mydatetime.year"
   ]
  },
  {
   "cell_type": "code",
   "execution_count": null,
   "id": "30606453",
   "metadata": {},
   "outputs": [],
   "source": [
    "myser=pd.Series(['Nov 3,1990','2000-01-01',None])"
   ]
  },
  {
   "cell_type": "code",
   "execution_count": null,
   "id": "e3052c0d",
   "metadata": {},
   "outputs": [],
   "source": [
    "myser"
   ]
  },
  {
   "cell_type": "code",
   "execution_count": null,
   "id": "0ff9adc2",
   "metadata": {},
   "outputs": [],
   "source": [
    "myser[0]"
   ]
  },
  {
   "cell_type": "code",
   "execution_count": null,
   "id": "318b1566",
   "metadata": {},
   "outputs": [],
   "source": [
    "myser[0].year"
   ]
  },
  {
   "cell_type": "code",
   "execution_count": null,
   "id": "eff1a390",
   "metadata": {},
   "outputs": [],
   "source": [
    "pd.to_datetime(myser)"
   ]
  },
  {
   "cell_type": "code",
   "execution_count": null,
   "id": "55ae87d1",
   "metadata": {},
   "outputs": [],
   "source": [
    "time_ser=pd.to_datetime(myser)"
   ]
  },
  {
   "cell_type": "code",
   "execution_count": null,
   "id": "e8716359",
   "metadata": {},
   "outputs": [],
   "source": [
    "time_ser[0]"
   ]
  },
  {
   "cell_type": "code",
   "execution_count": null,
   "id": "c9b4b06c",
   "metadata": {},
   "outputs": [],
   "source": [
    "time_ser[0].year"
   ]
  },
  {
   "cell_type": "code",
   "execution_count": null,
   "id": "1db7fd37",
   "metadata": {},
   "outputs": [],
   "source": [
    "obvi_euro_date='31-12-2000'"
   ]
  },
  {
   "cell_type": "code",
   "execution_count": null,
   "id": "1952d324",
   "metadata": {},
   "outputs": [],
   "source": [
    "pd.to_datetime(obvi_euro_date)"
   ]
  },
  {
   "cell_type": "code",
   "execution_count": null,
   "id": "ebf237d3",
   "metadata": {},
   "outputs": [],
   "source": [
    "euro_date='10-12-2000'"
   ]
  },
  {
   "cell_type": "code",
   "execution_count": null,
   "id": "6a491541",
   "metadata": {},
   "outputs": [],
   "source": [
    "pd.to_datetime(euro_date)"
   ]
  },
  {
   "cell_type": "code",
   "execution_count": null,
   "id": "281e47e0",
   "metadata": {},
   "outputs": [],
   "source": [
    "pd.to_datetime(euro_date,dayfirst=True)"
   ]
  },
  {
   "cell_type": "code",
   "execution_count": null,
   "id": "ef695364",
   "metadata": {},
   "outputs": [],
   "source": []
  },
  {
   "cell_type": "code",
   "execution_count": null,
   "id": "a7969ec5",
   "metadata": {},
   "outputs": [],
   "source": [
    "style_date='12--dec--2000'"
   ]
  },
  {
   "cell_type": "code",
   "execution_count": null,
   "id": "7c54944a",
   "metadata": {},
   "outputs": [],
   "source": [
    "pd.to_datetime(style_date,format='%d--%b--%Y')"
   ]
  },
  {
   "cell_type": "code",
   "execution_count": null,
   "id": "3c81021c",
   "metadata": {},
   "outputs": [],
   "source": [
    "custom_date=\"12th of dec 2000\""
   ]
  },
  {
   "cell_type": "code",
   "execution_count": null,
   "id": "c77eb4f7",
   "metadata": {},
   "outputs": [],
   "source": [
    "pd.to_datetime(custom_date)"
   ]
  },
  {
   "cell_type": "code",
   "execution_count": null,
   "id": "344f82e5",
   "metadata": {},
   "outputs": [],
   "source": [
    "sales=pd.read_csv('C:\\\\Users\\\\DELL\\\\Desktop\\\\UNZIP_ME_FOR_NOTEBOOKS\\\\03-Pandas\\\\RetailSales_BeerWineLiquor.csv')"
   ]
  },
  {
   "cell_type": "code",
   "execution_count": null,
   "id": "18c736c6",
   "metadata": {},
   "outputs": [],
   "source": [
    "df"
   ]
  },
  {
   "cell_type": "code",
   "execution_count": null,
   "id": "538251d1",
   "metadata": {},
   "outputs": [],
   "source": [
    "import numpy as  np"
   ]
  },
  {
   "cell_type": "code",
   "execution_count": null,
   "id": "485c6b77",
   "metadata": {},
   "outputs": [],
   "source": [
    "import pandas as pd"
   ]
  },
  {
   "cell_type": "code",
   "execution_count": null,
   "id": "d0fd69b7",
   "metadata": {},
   "outputs": [],
   "source": [
    "sales=pd.read_csv('C:\\\\Users\\\\DELL\\\\Desktop\\\\UNZIP_ME_FOR_NOTEBOOKS\\\\03-Pandas\\\\RetailSales_BeerWineLiquor.csv')"
   ]
  },
  {
   "cell_type": "code",
   "execution_count": null,
   "id": "e3c0ab98",
   "metadata": {},
   "outputs": [],
   "source": [
    "sales"
   ]
  },
  {
   "cell_type": "code",
   "execution_count": null,
   "id": "f0ebe28f",
   "metadata": {},
   "outputs": [],
   "source": [
    "sales['DATE']=pd.to_datetime(sales[\"DATE\"])"
   ]
  },
  {
   "cell_type": "code",
   "execution_count": null,
   "id": "d821fbc2",
   "metadata": {},
   "outputs": [],
   "source": [
    "sales['DATE'][0]"
   ]
  },
  {
   "cell_type": "code",
   "execution_count": null,
   "id": "41e73e6e",
   "metadata": {},
   "outputs": [],
   "source": [
    "sales['DATE'][0].year"
   ]
  },
  {
   "cell_type": "code",
   "execution_count": null,
   "id": "6431c739",
   "metadata": {},
   "outputs": [],
   "source": [
    "sales=pd.read_csv('C:\\\\Users\\\\DELL\\\\Desktop\\\\UNZIP_ME_FOR_NOTEBOOKS\\\\03-Pandas\\\\RetailSales_BeerWineLiquor.csv',parse_dates=[0])"
   ]
  },
  {
   "cell_type": "code",
   "execution_count": null,
   "id": "7aeef741",
   "metadata": {},
   "outputs": [],
   "source": [
    "sales"
   ]
  },
  {
   "cell_type": "code",
   "execution_count": null,
   "id": "6c7e7a2e",
   "metadata": {},
   "outputs": [],
   "source": [
    "sales.head()"
   ]
  },
  {
   "cell_type": "code",
   "execution_count": null,
   "id": "e55e025d",
   "metadata": {},
   "outputs": [],
   "source": [
    "sales=sales.set_index(\"DATE\")"
   ]
  },
  {
   "cell_type": "code",
   "execution_count": null,
   "id": "b02857d5",
   "metadata": {},
   "outputs": [],
   "source": [
    "sales.resample(rule='A').mean()"
   ]
  },
  {
   "cell_type": "code",
   "execution_count": null,
   "id": "05c132a0",
   "metadata": {},
   "outputs": [],
   "source": [
    "sales.info()"
   ]
  },
  {
   "cell_type": "code",
   "execution_count": null,
   "id": "d8ac8298",
   "metadata": {},
   "outputs": [],
   "source": [
    "sales=pd.read_csv('C:\\\\Users\\\\DELL\\\\Desktop\\\\UNZIP_ME_FOR_NOTEBOOKS\\\\03-Pandas\\\\RetailSales_BeerWineLiquor.csv',parse_dates=[0])"
   ]
  },
  {
   "cell_type": "code",
   "execution_count": null,
   "id": "466e5b10",
   "metadata": {},
   "outputs": [],
   "source": [
    "sales['DATE'].dt.month"
   ]
  },
  {
   "cell_type": "code",
   "execution_count": null,
   "id": "81e35e87",
   "metadata": {},
   "outputs": [],
   "source": [
    "import numpy as np\n",
    "import pandas as pd"
   ]
  },
  {
   "cell_type": "code",
   "execution_count": null,
   "id": "d939f034",
   "metadata": {},
   "outputs": [],
   "source": [
    "pwd"
   ]
  },
  {
   "cell_type": "code",
   "execution_count": null,
   "id": "50d0c64c",
   "metadata": {},
   "outputs": [],
   "source": [
    "ls"
   ]
  },
  {
   "cell_type": "code",
   "execution_count": null,
   "id": "980c7ceb",
   "metadata": {},
   "outputs": [],
   "source": [
    "import os\n"
   ]
  },
  {
   "cell_type": "code",
   "execution_count": null,
   "id": "652479e9",
   "metadata": {},
   "outputs": [],
   "source": [
    "os.getcwd()"
   ]
  },
  {
   "cell_type": "code",
   "execution_count": null,
   "id": "7a4783f1",
   "metadata": {},
   "outputs": [],
   "source": [
    "df=pd.read_csv('C:\\\\Users\\\\DELL\\\\Desktop\\\\UNZIP_ME_FOR_NOTEBOOKS\\\\03-Pandas\\\\example.csv')"
   ]
  },
  {
   "cell_type": "code",
   "execution_count": null,
   "id": "75463df5",
   "metadata": {},
   "outputs": [],
   "source": [
    "df"
   ]
  },
  {
   "cell_type": "code",
   "execution_count": null,
   "id": "788ef74d",
   "metadata": {},
   "outputs": [],
   "source": [
    "('C:\\\\Users\\\\DELL\\\\Desktop\\\\UNZIP_ME_FOR_NOTEBOOKS\\\\03-Pandas\\\\example.csv',header=None)"
   ]
  },
  {
   "cell_type": "code",
   "execution_count": null,
   "id": "d90a795c",
   "metadata": {},
   "outputs": [],
   "source": [
    "df=pd.read_csv('C:\\\\Users\\\\DELL\\\\Desktop\\\\UNZIP_ME_FOR_NOTEBOOKS\\\\03-Pandas\\\\example.csv',header=None)"
   ]
  },
  {
   "cell_type": "code",
   "execution_count": null,
   "id": "8f3f7d8f",
   "metadata": {},
   "outputs": [],
   "source": [
    "df"
   ]
  },
  {
   "cell_type": "code",
   "execution_count": null,
   "id": "6d8aeb71",
   "metadata": {},
   "outputs": [],
   "source": [
    "df=pd.read_csv('C:\\\\Users\\\\DELL\\\\Desktop\\\\UNZIP_ME_FOR_NOTEBOOKS\\\\03-Pandas\\\\example.csv')"
   ]
  },
  {
   "cell_type": "code",
   "execution_count": null,
   "id": "4678e3b3",
   "metadata": {},
   "outputs": [],
   "source": [
    "df"
   ]
  },
  {
   "cell_type": "code",
   "execution_count": null,
   "id": "0abd3d89",
   "metadata": {},
   "outputs": [],
   "source": [
    "df=pd.read_csv('C:\\\\Users\\\\DELL\\\\Desktop\\\\UNZIP_ME_FOR_NOTEBOOKS\\\\03-Pandas\\\\example.csv',index_col=0)"
   ]
  },
  {
   "cell_type": "code",
   "execution_count": null,
   "id": "a3b3990e",
   "metadata": {},
   "outputs": [],
   "source": [
    "df"
   ]
  },
  {
   "cell_type": "code",
   "execution_count": 73,
   "id": "714d9917",
   "metadata": {},
   "outputs": [],
   "source": [
    "df=pd.read_csv('C:\\\\Users\\\\DELL\\\\Desktop\\\\UNZIP_ME_FOR_NOTEBOOKS\\\\03-Pandas\\\\newfile.csv')"
   ]
  },
  {
   "cell_type": "code",
   "execution_count": 74,
   "id": "db79bc42",
   "metadata": {},
   "outputs": [
    {
     "data": {
      "text/html": [
       "<div>\n",
       "<style scoped>\n",
       "    .dataframe tbody tr th:only-of-type {\n",
       "        vertical-align: middle;\n",
       "    }\n",
       "\n",
       "    .dataframe tbody tr th {\n",
       "        vertical-align: top;\n",
       "    }\n",
       "\n",
       "    .dataframe thead th {\n",
       "        text-align: right;\n",
       "    }\n",
       "</style>\n",
       "<table border=\"1\" class=\"dataframe\">\n",
       "  <thead>\n",
       "    <tr style=\"text-align: right;\">\n",
       "      <th></th>\n",
       "      <th>a</th>\n",
       "      <th>b</th>\n",
       "      <th>c</th>\n",
       "      <th>d</th>\n",
       "    </tr>\n",
       "  </thead>\n",
       "  <tbody>\n",
       "    <tr>\n",
       "      <th>0</th>\n",
       "      <td>0</td>\n",
       "      <td>1</td>\n",
       "      <td>2</td>\n",
       "      <td>3</td>\n",
       "    </tr>\n",
       "    <tr>\n",
       "      <th>1</th>\n",
       "      <td>4</td>\n",
       "      <td>5</td>\n",
       "      <td>6</td>\n",
       "      <td>7</td>\n",
       "    </tr>\n",
       "    <tr>\n",
       "      <th>2</th>\n",
       "      <td>8</td>\n",
       "      <td>9</td>\n",
       "      <td>10</td>\n",
       "      <td>11</td>\n",
       "    </tr>\n",
       "    <tr>\n",
       "      <th>3</th>\n",
       "      <td>12</td>\n",
       "      <td>13</td>\n",
       "      <td>14</td>\n",
       "      <td>15</td>\n",
       "    </tr>\n",
       "  </tbody>\n",
       "</table>\n",
       "</div>"
      ],
      "text/plain": [
       "    a   b   c   d\n",
       "0   0   1   2   3\n",
       "1   4   5   6   7\n",
       "2   8   9  10  11\n",
       "3  12  13  14  15"
      ]
     },
     "execution_count": 74,
     "metadata": {},
     "output_type": "execute_result"
    }
   ],
   "source": [
    "df"
   ]
  },
  {
   "cell_type": "code",
   "execution_count": 75,
   "id": "ac22865e",
   "metadata": {},
   "outputs": [],
   "source": [
    "df.to_csv('C:\\\\Users\\\\DELL\\\\Desktop\\\\UNZIP_ME_FOR_NOTEBOOKS\\\\03-Pandas\\\\newfile.csv',index=False)"
   ]
  },
  {
   "cell_type": "code",
   "execution_count": 76,
   "id": "9f0f48b9",
   "metadata": {},
   "outputs": [],
   "source": [
    "new=pd.read_csv(\"C:\\\\Users\\\\DELL\\\\Desktop\\\\UNZIP_ME_FOR_NOTEBOOKS\\\\03-Pandas\\\\newfile.csv\")"
   ]
  },
  {
   "cell_type": "code",
   "execution_count": 77,
   "id": "8b46dffc",
   "metadata": {},
   "outputs": [
    {
     "data": {
      "text/html": [
       "<div>\n",
       "<style scoped>\n",
       "    .dataframe tbody tr th:only-of-type {\n",
       "        vertical-align: middle;\n",
       "    }\n",
       "\n",
       "    .dataframe tbody tr th {\n",
       "        vertical-align: top;\n",
       "    }\n",
       "\n",
       "    .dataframe thead th {\n",
       "        text-align: right;\n",
       "    }\n",
       "</style>\n",
       "<table border=\"1\" class=\"dataframe\">\n",
       "  <thead>\n",
       "    <tr style=\"text-align: right;\">\n",
       "      <th></th>\n",
       "      <th>a</th>\n",
       "      <th>b</th>\n",
       "      <th>c</th>\n",
       "      <th>d</th>\n",
       "    </tr>\n",
       "  </thead>\n",
       "  <tbody>\n",
       "    <tr>\n",
       "      <th>0</th>\n",
       "      <td>0</td>\n",
       "      <td>1</td>\n",
       "      <td>2</td>\n",
       "      <td>3</td>\n",
       "    </tr>\n",
       "    <tr>\n",
       "      <th>1</th>\n",
       "      <td>4</td>\n",
       "      <td>5</td>\n",
       "      <td>6</td>\n",
       "      <td>7</td>\n",
       "    </tr>\n",
       "    <tr>\n",
       "      <th>2</th>\n",
       "      <td>8</td>\n",
       "      <td>9</td>\n",
       "      <td>10</td>\n",
       "      <td>11</td>\n",
       "    </tr>\n",
       "    <tr>\n",
       "      <th>3</th>\n",
       "      <td>12</td>\n",
       "      <td>13</td>\n",
       "      <td>14</td>\n",
       "      <td>15</td>\n",
       "    </tr>\n",
       "  </tbody>\n",
       "</table>\n",
       "</div>"
      ],
      "text/plain": [
       "    a   b   c   d\n",
       "0   0   1   2   3\n",
       "1   4   5   6   7\n",
       "2   8   9  10  11\n",
       "3  12  13  14  15"
      ]
     },
     "execution_count": 77,
     "metadata": {},
     "output_type": "execute_result"
    }
   ],
   "source": [
    "new"
   ]
  },
  {
   "cell_type": "markdown",
   "id": "9775259a",
   "metadata": {},
   "source": [
    "pandas input and output of the HTML Tables"
   ]
  },
  {
   "cell_type": "code",
   "execution_count": 78,
   "id": "0825718f",
   "metadata": {},
   "outputs": [],
   "source": [
    "import pandas as pd"
   ]
  },
  {
   "cell_type": "code",
   "execution_count": 79,
   "id": "b57e0537",
   "metadata": {},
   "outputs": [],
   "source": [
    "url=\"https://en.wikipedia.org/wiki/World_population\""
   ]
  },
  {
   "cell_type": "code",
   "execution_count": 80,
   "id": "4b48659d",
   "metadata": {},
   "outputs": [],
   "source": [
    "tables=pd.read_html(url)"
   ]
  },
  {
   "cell_type": "code",
   "execution_count": 81,
   "id": "89a8e6ab",
   "metadata": {},
   "outputs": [
    {
     "data": {
      "text/plain": [
       "27"
      ]
     },
     "execution_count": 81,
     "metadata": {},
     "output_type": "execute_result"
    }
   ],
   "source": [
    "len(tables)"
   ]
  },
  {
   "cell_type": "code",
   "execution_count": 82,
   "id": "447211a0",
   "metadata": {},
   "outputs": [
    {
     "data": {
      "text/html": [
       "<div>\n",
       "<style scoped>\n",
       "    .dataframe tbody tr th:only-of-type {\n",
       "        vertical-align: middle;\n",
       "    }\n",
       "\n",
       "    .dataframe tbody tr th {\n",
       "        vertical-align: top;\n",
       "    }\n",
       "\n",
       "    .dataframe thead tr th {\n",
       "        text-align: left;\n",
       "    }\n",
       "</style>\n",
       "<table border=\"1\" class=\"dataframe\">\n",
       "  <thead>\n",
       "    <tr>\n",
       "      <th></th>\n",
       "      <th colspan=\"5\" halign=\"left\">World population (millions, UN estimates)[15]</th>\n",
       "    </tr>\n",
       "    <tr>\n",
       "      <th></th>\n",
       "      <th>#</th>\n",
       "      <th>Top ten most populous countries</th>\n",
       "      <th>2000</th>\n",
       "      <th>2015</th>\n",
       "      <th>2030[A]</th>\n",
       "    </tr>\n",
       "  </thead>\n",
       "  <tbody>\n",
       "    <tr>\n",
       "      <th>0</th>\n",
       "      <td>1</td>\n",
       "      <td>China[B]</td>\n",
       "      <td>1270</td>\n",
       "      <td>1376</td>\n",
       "      <td>1416</td>\n",
       "    </tr>\n",
       "    <tr>\n",
       "      <th>1</th>\n",
       "      <td>2</td>\n",
       "      <td>India</td>\n",
       "      <td>1053</td>\n",
       "      <td>1311</td>\n",
       "      <td>1528</td>\n",
       "    </tr>\n",
       "    <tr>\n",
       "      <th>2</th>\n",
       "      <td>3</td>\n",
       "      <td>United States</td>\n",
       "      <td>283</td>\n",
       "      <td>322</td>\n",
       "      <td>356</td>\n",
       "    </tr>\n",
       "    <tr>\n",
       "      <th>3</th>\n",
       "      <td>4</td>\n",
       "      <td>Indonesia</td>\n",
       "      <td>212</td>\n",
       "      <td>258</td>\n",
       "      <td>295</td>\n",
       "    </tr>\n",
       "    <tr>\n",
       "      <th>4</th>\n",
       "      <td>5</td>\n",
       "      <td>Pakistan</td>\n",
       "      <td>136</td>\n",
       "      <td>208</td>\n",
       "      <td>245</td>\n",
       "    </tr>\n",
       "    <tr>\n",
       "      <th>5</th>\n",
       "      <td>6</td>\n",
       "      <td>Brazil</td>\n",
       "      <td>176</td>\n",
       "      <td>206</td>\n",
       "      <td>228</td>\n",
       "    </tr>\n",
       "    <tr>\n",
       "      <th>6</th>\n",
       "      <td>7</td>\n",
       "      <td>Nigeria</td>\n",
       "      <td>123</td>\n",
       "      <td>182</td>\n",
       "      <td>263</td>\n",
       "    </tr>\n",
       "    <tr>\n",
       "      <th>7</th>\n",
       "      <td>8</td>\n",
       "      <td>Bangladesh</td>\n",
       "      <td>131</td>\n",
       "      <td>161</td>\n",
       "      <td>186</td>\n",
       "    </tr>\n",
       "    <tr>\n",
       "      <th>8</th>\n",
       "      <td>9</td>\n",
       "      <td>Russia</td>\n",
       "      <td>146</td>\n",
       "      <td>146</td>\n",
       "      <td>149</td>\n",
       "    </tr>\n",
       "    <tr>\n",
       "      <th>9</th>\n",
       "      <td>10</td>\n",
       "      <td>Mexico</td>\n",
       "      <td>103</td>\n",
       "      <td>127</td>\n",
       "      <td>148</td>\n",
       "    </tr>\n",
       "    <tr>\n",
       "      <th>10</th>\n",
       "      <td>NaN</td>\n",
       "      <td>World total</td>\n",
       "      <td>6127</td>\n",
       "      <td>7349</td>\n",
       "      <td>8501</td>\n",
       "    </tr>\n",
       "    <tr>\n",
       "      <th>11</th>\n",
       "      <td>Notes: .mw-parser-output .reflist{font-size:90...</td>\n",
       "      <td>Notes: .mw-parser-output .reflist{font-size:90...</td>\n",
       "      <td>Notes: .mw-parser-output .reflist{font-size:90...</td>\n",
       "      <td>Notes: .mw-parser-output .reflist{font-size:90...</td>\n",
       "      <td>Notes: .mw-parser-output .reflist{font-size:90...</td>\n",
       "    </tr>\n",
       "  </tbody>\n",
       "</table>\n",
       "</div>"
      ],
      "text/plain": [
       "        World population (millions, UN estimates)[15]  \\\n",
       "                                                    #   \n",
       "0                                                   1   \n",
       "1                                                   2   \n",
       "2                                                   3   \n",
       "3                                                   4   \n",
       "4                                                   5   \n",
       "5                                                   6   \n",
       "6                                                   7   \n",
       "7                                                   8   \n",
       "8                                                   9   \n",
       "9                                                  10   \n",
       "10                                                NaN   \n",
       "11  Notes: .mw-parser-output .reflist{font-size:90...   \n",
       "\n",
       "                                                       \\\n",
       "                      Top ten most populous countries   \n",
       "0                                            China[B]   \n",
       "1                                               India   \n",
       "2                                       United States   \n",
       "3                                           Indonesia   \n",
       "4                                            Pakistan   \n",
       "5                                              Brazil   \n",
       "6                                             Nigeria   \n",
       "7                                          Bangladesh   \n",
       "8                                              Russia   \n",
       "9                                              Mexico   \n",
       "10                                        World total   \n",
       "11  Notes: .mw-parser-output .reflist{font-size:90...   \n",
       "\n",
       "                                                       \\\n",
       "                                                 2000   \n",
       "0                                                1270   \n",
       "1                                                1053   \n",
       "2                                                 283   \n",
       "3                                                 212   \n",
       "4                                                 136   \n",
       "5                                                 176   \n",
       "6                                                 123   \n",
       "7                                                 131   \n",
       "8                                                 146   \n",
       "9                                                 103   \n",
       "10                                               6127   \n",
       "11  Notes: .mw-parser-output .reflist{font-size:90...   \n",
       "\n",
       "                                                       \\\n",
       "                                                 2015   \n",
       "0                                                1376   \n",
       "1                                                1311   \n",
       "2                                                 322   \n",
       "3                                                 258   \n",
       "4                                                 208   \n",
       "5                                                 206   \n",
       "6                                                 182   \n",
       "7                                                 161   \n",
       "8                                                 146   \n",
       "9                                                 127   \n",
       "10                                               7349   \n",
       "11  Notes: .mw-parser-output .reflist{font-size:90...   \n",
       "\n",
       "                                                       \n",
       "                                              2030[A]  \n",
       "0                                                1416  \n",
       "1                                                1528  \n",
       "2                                                 356  \n",
       "3                                                 295  \n",
       "4                                                 245  \n",
       "5                                                 228  \n",
       "6                                                 263  \n",
       "7                                                 186  \n",
       "8                                                 149  \n",
       "9                                                 148  \n",
       "10                                               8501  \n",
       "11  Notes: .mw-parser-output .reflist{font-size:90...  "
      ]
     },
     "execution_count": 82,
     "metadata": {},
     "output_type": "execute_result"
    }
   ],
   "source": [
    "tables[0]"
   ]
  },
  {
   "cell_type": "code",
   "execution_count": 83,
   "id": "edf5da62",
   "metadata": {},
   "outputs": [
    {
     "data": {
      "text/html": [
       "<div>\n",
       "<style scoped>\n",
       "    .dataframe tbody tr th:only-of-type {\n",
       "        vertical-align: middle;\n",
       "    }\n",
       "\n",
       "    .dataframe tbody tr th {\n",
       "        vertical-align: top;\n",
       "    }\n",
       "\n",
       "    .dataframe thead th {\n",
       "        text-align: right;\n",
       "    }\n",
       "</style>\n",
       "<table border=\"1\" class=\"dataframe\">\n",
       "  <thead>\n",
       "    <tr style=\"text-align: right;\">\n",
       "      <th></th>\n",
       "      <th>Continent</th>\n",
       "      <th>Density(inhabitants/km2)</th>\n",
       "      <th>Population(millions)</th>\n",
       "      <th>Most populous country</th>\n",
       "      <th>Most populous city (metropolitan area)</th>\n",
       "    </tr>\n",
       "  </thead>\n",
       "  <tbody>\n",
       "    <tr>\n",
       "      <th>0</th>\n",
       "      <td>Asia</td>\n",
       "      <td>104.1</td>\n",
       "      <td>4641</td>\n",
       "      <td>1,439,323,000[note 1] – China</td>\n",
       "      <td>37,393,000/13,929,000 – Greater Tokyo Area/Tok...</td>\n",
       "    </tr>\n",
       "    <tr>\n",
       "      <th>1</th>\n",
       "      <td>Africa</td>\n",
       "      <td>44.4</td>\n",
       "      <td>1340</td>\n",
       "      <td>0206,139,000 – Nigeria</td>\n",
       "      <td>20,900,000 – Cairo[18]</td>\n",
       "    </tr>\n",
       "    <tr>\n",
       "      <th>2</th>\n",
       "      <td>Europe</td>\n",
       "      <td>73.4</td>\n",
       "      <td>747</td>\n",
       "      <td>0145,934,000 – Russia;approx. 110 million in E...</td>\n",
       "      <td>16,855,000/12,537,000 – Moscow metropolitan ar...</td>\n",
       "    </tr>\n",
       "    <tr>\n",
       "      <th>3</th>\n",
       "      <td>Latin America</td>\n",
       "      <td>24.1</td>\n",
       "      <td>653</td>\n",
       "      <td>0212,559,000 – Brazil</td>\n",
       "      <td>22,043,000/12,176,000 – São Paulo Metro Area/S...</td>\n",
       "    </tr>\n",
       "    <tr>\n",
       "      <th>4</th>\n",
       "      <td>Northern America[note 2]</td>\n",
       "      <td>14.9</td>\n",
       "      <td>368</td>\n",
       "      <td>0331,002,000 – United States</td>\n",
       "      <td>23,724,000/8,323,000 – New York metropolitan a...</td>\n",
       "    </tr>\n",
       "    <tr>\n",
       "      <th>5</th>\n",
       "      <td>Oceania</td>\n",
       "      <td>5</td>\n",
       "      <td>42</td>\n",
       "      <td>0025,499,000 – Australia</td>\n",
       "      <td>4,925,000 – Sydney</td>\n",
       "    </tr>\n",
       "    <tr>\n",
       "      <th>6</th>\n",
       "      <td>Antarctica</td>\n",
       "      <td>~0</td>\n",
       "      <td>0.004[17]</td>\n",
       "      <td>N/A[note 3]</td>\n",
       "      <td>1,258 – McMurdo Station</td>\n",
       "    </tr>\n",
       "  </tbody>\n",
       "</table>\n",
       "</div>"
      ],
      "text/plain": [
       "                  Continent Density(inhabitants/km2) Population(millions)  \\\n",
       "0                      Asia                    104.1                 4641   \n",
       "1                    Africa                     44.4                 1340   \n",
       "2                    Europe                     73.4                  747   \n",
       "3             Latin America                     24.1                  653   \n",
       "4  Northern America[note 2]                     14.9                  368   \n",
       "5                   Oceania                        5                   42   \n",
       "6                Antarctica                       ~0            0.004[17]   \n",
       "\n",
       "                               Most populous country  \\\n",
       "0                      1,439,323,000[note 1] – China   \n",
       "1                             0206,139,000 – Nigeria   \n",
       "2  0145,934,000 – Russia;approx. 110 million in E...   \n",
       "3                              0212,559,000 – Brazil   \n",
       "4                       0331,002,000 – United States   \n",
       "5                           0025,499,000 – Australia   \n",
       "6                                        N/A[note 3]   \n",
       "\n",
       "              Most populous city (metropolitan area)  \n",
       "0  37,393,000/13,929,000 – Greater Tokyo Area/Tok...  \n",
       "1                             20,900,000 – Cairo[18]  \n",
       "2  16,855,000/12,537,000 – Moscow metropolitan ar...  \n",
       "3  22,043,000/12,176,000 – São Paulo Metro Area/S...  \n",
       "4  23,724,000/8,323,000 – New York metropolitan a...  \n",
       "5                                 4,925,000 – Sydney  \n",
       "6                            1,258 – McMurdo Station  "
      ]
     },
     "execution_count": 83,
     "metadata": {},
     "output_type": "execute_result"
    }
   ],
   "source": [
    "tables[1]"
   ]
  },
  {
   "cell_type": "code",
   "execution_count": 84,
   "id": "7dbddcfd",
   "metadata": {},
   "outputs": [
    {
     "data": {
      "text/plain": [
       "Index(['Continent', 'Density(inhabitants/km2)', 'Population(millions)',\n",
       "       'Most populous country', 'Most populous city (metropolitan area)'],\n",
       "      dtype='object')"
      ]
     },
     "execution_count": 84,
     "metadata": {},
     "output_type": "execute_result"
    }
   ],
   "source": [
    "tables[1].columns"
   ]
  },
  {
   "cell_type": "code",
   "execution_count": 85,
   "id": "e4a4c37a",
   "metadata": {},
   "outputs": [],
   "source": [
    "world_topten=tables[1]"
   ]
  },
  {
   "cell_type": "code",
   "execution_count": 86,
   "id": "ec816a3b",
   "metadata": {},
   "outputs": [
    {
     "ename": "KeyError",
     "evalue": "'World population (millions, UN estimates)[15]'",
     "output_type": "error",
     "traceback": [
      "\u001b[1;31m---------------------------------------------------------------------------\u001b[0m",
      "\u001b[1;31mKeyError\u001b[0m                                  Traceback (most recent call last)",
      "\u001b[1;32m~\\anaconda3\\lib\\site-packages\\pandas\\core\\indexes\\base.py\u001b[0m in \u001b[0;36mget_loc\u001b[1;34m(self, key, method, tolerance)\u001b[0m\n\u001b[0;32m   3079\u001b[0m             \u001b[1;32mtry\u001b[0m\u001b[1;33m:\u001b[0m\u001b[1;33m\u001b[0m\u001b[1;33m\u001b[0m\u001b[0m\n\u001b[1;32m-> 3080\u001b[1;33m                 \u001b[1;32mreturn\u001b[0m \u001b[0mself\u001b[0m\u001b[1;33m.\u001b[0m\u001b[0m_engine\u001b[0m\u001b[1;33m.\u001b[0m\u001b[0mget_loc\u001b[0m\u001b[1;33m(\u001b[0m\u001b[0mcasted_key\u001b[0m\u001b[1;33m)\u001b[0m\u001b[1;33m\u001b[0m\u001b[1;33m\u001b[0m\u001b[0m\n\u001b[0m\u001b[0;32m   3081\u001b[0m             \u001b[1;32mexcept\u001b[0m \u001b[0mKeyError\u001b[0m \u001b[1;32mas\u001b[0m \u001b[0merr\u001b[0m\u001b[1;33m:\u001b[0m\u001b[1;33m\u001b[0m\u001b[1;33m\u001b[0m\u001b[0m\n",
      "\u001b[1;32mpandas\\_libs\\index.pyx\u001b[0m in \u001b[0;36mpandas._libs.index.IndexEngine.get_loc\u001b[1;34m()\u001b[0m\n",
      "\u001b[1;32mpandas\\_libs\\index.pyx\u001b[0m in \u001b[0;36mpandas._libs.index.IndexEngine.get_loc\u001b[1;34m()\u001b[0m\n",
      "\u001b[1;32mpandas\\_libs\\hashtable_class_helper.pxi\u001b[0m in \u001b[0;36mpandas._libs.hashtable.PyObjectHashTable.get_item\u001b[1;34m()\u001b[0m\n",
      "\u001b[1;32mpandas\\_libs\\hashtable_class_helper.pxi\u001b[0m in \u001b[0;36mpandas._libs.hashtable.PyObjectHashTable.get_item\u001b[1;34m()\u001b[0m\n",
      "\u001b[1;31mKeyError\u001b[0m: 'World population (millions, UN estimates)[15]'",
      "\nThe above exception was the direct cause of the following exception:\n",
      "\u001b[1;31mKeyError\u001b[0m                                  Traceback (most recent call last)",
      "\u001b[1;32m<ipython-input-86-ee4394be0c5a>\u001b[0m in \u001b[0;36m<module>\u001b[1;34m\u001b[0m\n\u001b[1;32m----> 1\u001b[1;33m \u001b[0mworld_topten\u001b[0m\u001b[1;33m[\u001b[0m\u001b[1;34m'World population (millions, UN estimates)[15]'\u001b[0m\u001b[1;33m]\u001b[0m\u001b[1;33m\u001b[0m\u001b[1;33m\u001b[0m\u001b[0m\n\u001b[0m",
      "\u001b[1;32m~\\anaconda3\\lib\\site-packages\\pandas\\core\\frame.py\u001b[0m in \u001b[0;36m__getitem__\u001b[1;34m(self, key)\u001b[0m\n\u001b[0;32m   3022\u001b[0m             \u001b[1;32mif\u001b[0m \u001b[0mself\u001b[0m\u001b[1;33m.\u001b[0m\u001b[0mcolumns\u001b[0m\u001b[1;33m.\u001b[0m\u001b[0mnlevels\u001b[0m \u001b[1;33m>\u001b[0m \u001b[1;36m1\u001b[0m\u001b[1;33m:\u001b[0m\u001b[1;33m\u001b[0m\u001b[1;33m\u001b[0m\u001b[0m\n\u001b[0;32m   3023\u001b[0m                 \u001b[1;32mreturn\u001b[0m \u001b[0mself\u001b[0m\u001b[1;33m.\u001b[0m\u001b[0m_getitem_multilevel\u001b[0m\u001b[1;33m(\u001b[0m\u001b[0mkey\u001b[0m\u001b[1;33m)\u001b[0m\u001b[1;33m\u001b[0m\u001b[1;33m\u001b[0m\u001b[0m\n\u001b[1;32m-> 3024\u001b[1;33m             \u001b[0mindexer\u001b[0m \u001b[1;33m=\u001b[0m \u001b[0mself\u001b[0m\u001b[1;33m.\u001b[0m\u001b[0mcolumns\u001b[0m\u001b[1;33m.\u001b[0m\u001b[0mget_loc\u001b[0m\u001b[1;33m(\u001b[0m\u001b[0mkey\u001b[0m\u001b[1;33m)\u001b[0m\u001b[1;33m\u001b[0m\u001b[1;33m\u001b[0m\u001b[0m\n\u001b[0m\u001b[0;32m   3025\u001b[0m             \u001b[1;32mif\u001b[0m \u001b[0mis_integer\u001b[0m\u001b[1;33m(\u001b[0m\u001b[0mindexer\u001b[0m\u001b[1;33m)\u001b[0m\u001b[1;33m:\u001b[0m\u001b[1;33m\u001b[0m\u001b[1;33m\u001b[0m\u001b[0m\n\u001b[0;32m   3026\u001b[0m                 \u001b[0mindexer\u001b[0m \u001b[1;33m=\u001b[0m \u001b[1;33m[\u001b[0m\u001b[0mindexer\u001b[0m\u001b[1;33m]\u001b[0m\u001b[1;33m\u001b[0m\u001b[1;33m\u001b[0m\u001b[0m\n",
      "\u001b[1;32m~\\anaconda3\\lib\\site-packages\\pandas\\core\\indexes\\base.py\u001b[0m in \u001b[0;36mget_loc\u001b[1;34m(self, key, method, tolerance)\u001b[0m\n\u001b[0;32m   3080\u001b[0m                 \u001b[1;32mreturn\u001b[0m \u001b[0mself\u001b[0m\u001b[1;33m.\u001b[0m\u001b[0m_engine\u001b[0m\u001b[1;33m.\u001b[0m\u001b[0mget_loc\u001b[0m\u001b[1;33m(\u001b[0m\u001b[0mcasted_key\u001b[0m\u001b[1;33m)\u001b[0m\u001b[1;33m\u001b[0m\u001b[1;33m\u001b[0m\u001b[0m\n\u001b[0;32m   3081\u001b[0m             \u001b[1;32mexcept\u001b[0m \u001b[0mKeyError\u001b[0m \u001b[1;32mas\u001b[0m \u001b[0merr\u001b[0m\u001b[1;33m:\u001b[0m\u001b[1;33m\u001b[0m\u001b[1;33m\u001b[0m\u001b[0m\n\u001b[1;32m-> 3082\u001b[1;33m                 \u001b[1;32mraise\u001b[0m \u001b[0mKeyError\u001b[0m\u001b[1;33m(\u001b[0m\u001b[0mkey\u001b[0m\u001b[1;33m)\u001b[0m \u001b[1;32mfrom\u001b[0m \u001b[0merr\u001b[0m\u001b[1;33m\u001b[0m\u001b[1;33m\u001b[0m\u001b[0m\n\u001b[0m\u001b[0;32m   3083\u001b[0m \u001b[1;33m\u001b[0m\u001b[0m\n\u001b[0;32m   3084\u001b[0m         \u001b[1;32mif\u001b[0m \u001b[0mtolerance\u001b[0m \u001b[1;32mis\u001b[0m \u001b[1;32mnot\u001b[0m \u001b[1;32mNone\u001b[0m\u001b[1;33m:\u001b[0m\u001b[1;33m\u001b[0m\u001b[1;33m\u001b[0m\u001b[0m\n",
      "\u001b[1;31mKeyError\u001b[0m: 'World population (millions, UN estimates)[15]'"
     ]
    }
   ],
   "source": [
    "world_topten['World population (millions, UN estimates)[15]']"
   ]
  },
  {
   "cell_type": "code",
   "execution_count": null,
   "id": "b7119f23",
   "metadata": {},
   "outputs": [],
   "source": [
    "world_topten=world_topten.drop(11,axis=0)"
   ]
  },
  {
   "cell_type": "code",
   "execution_count": null,
   "id": "38e8b74c",
   "metadata": {},
   "outputs": [],
   "source": [
    "import pandas as pd"
   ]
  },
  {
   "cell_type": "code",
   "execution_count": null,
   "id": "6530c12d",
   "metadata": {},
   "outputs": [],
   "source": [
    "df=pd.read_excel('C:\\\\Users\\\\DELL\\\\Desktop\\\\UNZIP_ME_FOR_NOTEBOOKS\\\\03-Pandas\\\\my_excel_file.xlsx',sheet_name='First_Sheet')"
   ]
  },
  {
   "cell_type": "code",
   "execution_count": null,
   "id": "cbf5f697",
   "metadata": {},
   "outputs": [],
   "source": [
    "df"
   ]
  },
  {
   "cell_type": "code",
   "execution_count": null,
   "id": "3f4c705f",
   "metadata": {},
   "outputs": [],
   "source": [
    "wb=pd.ExcelFile('C:\\\\Users\\\\DELL\\\\Desktop\\\\UNZIP_ME_FOR_NOTEBOOKS\\\\03-Pandas\\\\my_excel_file.xlsx')"
   ]
  },
  {
   "cell_type": "code",
   "execution_count": null,
   "id": "ad1e1a93",
   "metadata": {},
   "outputs": [],
   "source": [
    "wb.sheet_names"
   ]
  },
  {
   "cell_type": "code",
   "execution_count": null,
   "id": "52bc22d1",
   "metadata": {},
   "outputs": [],
   "source": [
    "excel_sheet_dict=pd.read_excel('C:\\\\Users\\\\DELL\\\\Desktop\\\\UNZIP_ME_FOR_NOTEBOOKS\\\\03-Pandas\\\\my_excel_file.xlsx',sheet_name=None)"
   ]
  },
  {
   "cell_type": "code",
   "execution_count": null,
   "id": "664d1bf6",
   "metadata": {},
   "outputs": [],
   "source": [
    "type(excel_sheet_dict)"
   ]
  },
  {
   "cell_type": "code",
   "execution_count": null,
   "id": "69a9a1c4",
   "metadata": {},
   "outputs": [],
   "source": [
    "excel_sheet_dict.keys()"
   ]
  },
  {
   "cell_type": "code",
   "execution_count": null,
   "id": "15399062",
   "metadata": {},
   "outputs": [],
   "source": [
    "excel_sheet_dict['First_Sheet']"
   ]
  },
  {
   "cell_type": "code",
   "execution_count": null,
   "id": "0e7c47f0",
   "metadata": {},
   "outputs": [],
   "source": [
    "excel_sheet_dict"
   ]
  },
  {
   "cell_type": "code",
   "execution_count": null,
   "id": "afb56128",
   "metadata": {},
   "outputs": [],
   "source": [
    "our_df= excel_sheet_dict"
   ]
  },
  {
   "cell_type": "code",
   "execution_count": null,
   "id": "b57a43fb",
   "metadata": {},
   "outputs": [],
   "source": [
    "our_df"
   ]
  },
  {
   "cell_type": "code",
   "execution_count": null,
   "id": "c4bdcd48",
   "metadata": {},
   "outputs": [],
   "source": [
    "our_df.to_excel('C:\\\\Users\\\\DELL\\\\Desktop\\\\UNZIP_ME_FOR_NOTEBOOKS\\\\03-Pandas\\\\example.xlsx',sheet_name='First_Sheet',index=False)"
   ]
  },
  {
   "cell_type": "markdown",
   "id": "30c8f23d",
   "metadata": {},
   "source": [
    "Pivot tables"
   ]
  },
  {
   "cell_type": "code",
   "execution_count": 88,
   "id": "6b2e74ec",
   "metadata": {},
   "outputs": [],
   "source": [
    "import pandas as pd\n",
    "import numpy as np"
   ]
  },
  {
   "cell_type": "code",
   "execution_count": 89,
   "id": "16ce89a2",
   "metadata": {},
   "outputs": [],
   "source": [
    "df=pd.read_csv('C:\\\\Users\\\\DELL\\\\Desktop\\\\UNZIP_ME_FOR_NOTEBOOKS\\\\03-Pandas\\\\Sales_Funnel_CRM.csv')"
   ]
  },
  {
   "cell_type": "code",
   "execution_count": 90,
   "id": "df91bb9b",
   "metadata": {},
   "outputs": [
    {
     "data": {
      "text/html": [
       "<div>\n",
       "<style scoped>\n",
       "    .dataframe tbody tr th:only-of-type {\n",
       "        vertical-align: middle;\n",
       "    }\n",
       "\n",
       "    .dataframe tbody tr th {\n",
       "        vertical-align: top;\n",
       "    }\n",
       "\n",
       "    .dataframe thead th {\n",
       "        text-align: right;\n",
       "    }\n",
       "</style>\n",
       "<table border=\"1\" class=\"dataframe\">\n",
       "  <thead>\n",
       "    <tr style=\"text-align: right;\">\n",
       "      <th></th>\n",
       "      <th>Account Number</th>\n",
       "      <th>Company</th>\n",
       "      <th>Contact</th>\n",
       "      <th>Account Manager</th>\n",
       "      <th>Product</th>\n",
       "      <th>Licenses</th>\n",
       "      <th>Sale Price</th>\n",
       "      <th>Status</th>\n",
       "    </tr>\n",
       "  </thead>\n",
       "  <tbody>\n",
       "    <tr>\n",
       "      <th>0</th>\n",
       "      <td>2123398</td>\n",
       "      <td>Google</td>\n",
       "      <td>Larry Pager</td>\n",
       "      <td>Edward Thorp</td>\n",
       "      <td>Analytics</td>\n",
       "      <td>150</td>\n",
       "      <td>2100000</td>\n",
       "      <td>Presented</td>\n",
       "    </tr>\n",
       "    <tr>\n",
       "      <th>1</th>\n",
       "      <td>2123398</td>\n",
       "      <td>Google</td>\n",
       "      <td>Larry Pager</td>\n",
       "      <td>Edward Thorp</td>\n",
       "      <td>Prediction</td>\n",
       "      <td>150</td>\n",
       "      <td>700000</td>\n",
       "      <td>Presented</td>\n",
       "    </tr>\n",
       "    <tr>\n",
       "      <th>2</th>\n",
       "      <td>2123398</td>\n",
       "      <td>Google</td>\n",
       "      <td>Larry Pager</td>\n",
       "      <td>Edward Thorp</td>\n",
       "      <td>Tracking</td>\n",
       "      <td>300</td>\n",
       "      <td>350000</td>\n",
       "      <td>Under Review</td>\n",
       "    </tr>\n",
       "    <tr>\n",
       "      <th>3</th>\n",
       "      <td>2192650</td>\n",
       "      <td>BOBO</td>\n",
       "      <td>Larry Pager</td>\n",
       "      <td>Edward Thorp</td>\n",
       "      <td>Analytics</td>\n",
       "      <td>150</td>\n",
       "      <td>2450000</td>\n",
       "      <td>Lost</td>\n",
       "    </tr>\n",
       "    <tr>\n",
       "      <th>4</th>\n",
       "      <td>420496</td>\n",
       "      <td>IKEA</td>\n",
       "      <td>Elon Tusk</td>\n",
       "      <td>Edward Thorp</td>\n",
       "      <td>Analytics</td>\n",
       "      <td>300</td>\n",
       "      <td>4550000</td>\n",
       "      <td>Won</td>\n",
       "    </tr>\n",
       "    <tr>\n",
       "      <th>5</th>\n",
       "      <td>636685</td>\n",
       "      <td>Tesla Inc.</td>\n",
       "      <td>Elon Tusk</td>\n",
       "      <td>Edward Thorp</td>\n",
       "      <td>Analytics</td>\n",
       "      <td>300</td>\n",
       "      <td>2800000</td>\n",
       "      <td>Under Review</td>\n",
       "    </tr>\n",
       "    <tr>\n",
       "      <th>6</th>\n",
       "      <td>636685</td>\n",
       "      <td>Tesla Inc.</td>\n",
       "      <td>Elon Tusk</td>\n",
       "      <td>Edward Thorp</td>\n",
       "      <td>Prediction</td>\n",
       "      <td>150</td>\n",
       "      <td>700000</td>\n",
       "      <td>Presented</td>\n",
       "    </tr>\n",
       "    <tr>\n",
       "      <th>7</th>\n",
       "      <td>1216870</td>\n",
       "      <td>Microsoft</td>\n",
       "      <td>Will Grates</td>\n",
       "      <td>Edward Thorp</td>\n",
       "      <td>Tracking</td>\n",
       "      <td>300</td>\n",
       "      <td>350000</td>\n",
       "      <td>Under Review</td>\n",
       "    </tr>\n",
       "    <tr>\n",
       "      <th>8</th>\n",
       "      <td>2200450</td>\n",
       "      <td>Walmart</td>\n",
       "      <td>Will Grates</td>\n",
       "      <td>Edward Thorp</td>\n",
       "      <td>Analytics</td>\n",
       "      <td>150</td>\n",
       "      <td>2450000</td>\n",
       "      <td>Lost</td>\n",
       "    </tr>\n",
       "    <tr>\n",
       "      <th>9</th>\n",
       "      <td>405886</td>\n",
       "      <td>Apple</td>\n",
       "      <td>Cindy Phoner</td>\n",
       "      <td>Claude Shannon</td>\n",
       "      <td>Analytics</td>\n",
       "      <td>300</td>\n",
       "      <td>4550000</td>\n",
       "      <td>Won</td>\n",
       "    </tr>\n",
       "    <tr>\n",
       "      <th>10</th>\n",
       "      <td>470248</td>\n",
       "      <td>Exxon Mobile</td>\n",
       "      <td>Cindy Phoner</td>\n",
       "      <td>Claude Shannon</td>\n",
       "      <td>Analytics</td>\n",
       "      <td>150</td>\n",
       "      <td>2100000</td>\n",
       "      <td>Presented</td>\n",
       "    </tr>\n",
       "    <tr>\n",
       "      <th>11</th>\n",
       "      <td>698032</td>\n",
       "      <td>ATT</td>\n",
       "      <td>Cindy Phoner</td>\n",
       "      <td>Claude Shannon</td>\n",
       "      <td>Tracking</td>\n",
       "      <td>150</td>\n",
       "      <td>350000</td>\n",
       "      <td>Under Review</td>\n",
       "    </tr>\n",
       "    <tr>\n",
       "      <th>12</th>\n",
       "      <td>698032</td>\n",
       "      <td>ATT</td>\n",
       "      <td>Cindy Phoner</td>\n",
       "      <td>Claude Shannon</td>\n",
       "      <td>Prediction</td>\n",
       "      <td>150</td>\n",
       "      <td>700000</td>\n",
       "      <td>Presented</td>\n",
       "    </tr>\n",
       "    <tr>\n",
       "      <th>13</th>\n",
       "      <td>902797</td>\n",
       "      <td>CVS Health</td>\n",
       "      <td>Emma Gordian</td>\n",
       "      <td>Claude Shannon</td>\n",
       "      <td>Tracking</td>\n",
       "      <td>450</td>\n",
       "      <td>490000</td>\n",
       "      <td>Won</td>\n",
       "    </tr>\n",
       "    <tr>\n",
       "      <th>14</th>\n",
       "      <td>2046943</td>\n",
       "      <td>Salesforce</td>\n",
       "      <td>Emma Gordian</td>\n",
       "      <td>Claude Shannon</td>\n",
       "      <td>Analytics</td>\n",
       "      <td>750</td>\n",
       "      <td>7000000</td>\n",
       "      <td>Won</td>\n",
       "    </tr>\n",
       "    <tr>\n",
       "      <th>15</th>\n",
       "      <td>2169499</td>\n",
       "      <td>Cisco</td>\n",
       "      <td>Emma Gordian</td>\n",
       "      <td>Claude Shannon</td>\n",
       "      <td>Analytics</td>\n",
       "      <td>300</td>\n",
       "      <td>4550000</td>\n",
       "      <td>Lost</td>\n",
       "    </tr>\n",
       "    <tr>\n",
       "      <th>16</th>\n",
       "      <td>2169499</td>\n",
       "      <td>Cisco</td>\n",
       "      <td>Emma Gordian</td>\n",
       "      <td>Claude Shannon</td>\n",
       "      <td>GPS Positioning</td>\n",
       "      <td>300</td>\n",
       "      <td>350000</td>\n",
       "      <td>Presented</td>\n",
       "    </tr>\n",
       "  </tbody>\n",
       "</table>\n",
       "</div>"
      ],
      "text/plain": [
       "    Account Number       Company       Contact Account Manager  \\\n",
       "0          2123398        Google   Larry Pager    Edward Thorp   \n",
       "1          2123398        Google   Larry Pager    Edward Thorp   \n",
       "2          2123398        Google   Larry Pager    Edward Thorp   \n",
       "3          2192650          BOBO   Larry Pager    Edward Thorp   \n",
       "4           420496          IKEA     Elon Tusk    Edward Thorp   \n",
       "5           636685    Tesla Inc.     Elon Tusk    Edward Thorp   \n",
       "6           636685    Tesla Inc.     Elon Tusk    Edward Thorp   \n",
       "7          1216870     Microsoft   Will Grates    Edward Thorp   \n",
       "8          2200450       Walmart   Will Grates    Edward Thorp   \n",
       "9           405886         Apple  Cindy Phoner  Claude Shannon   \n",
       "10          470248  Exxon Mobile  Cindy Phoner  Claude Shannon   \n",
       "11          698032           ATT  Cindy Phoner  Claude Shannon   \n",
       "12          698032           ATT  Cindy Phoner  Claude Shannon   \n",
       "13          902797    CVS Health  Emma Gordian  Claude Shannon   \n",
       "14         2046943    Salesforce  Emma Gordian  Claude Shannon   \n",
       "15         2169499         Cisco  Emma Gordian  Claude Shannon   \n",
       "16         2169499         Cisco  Emma Gordian  Claude Shannon   \n",
       "\n",
       "            Product  Licenses  Sale Price        Status  \n",
       "0         Analytics       150     2100000     Presented  \n",
       "1        Prediction       150      700000     Presented  \n",
       "2          Tracking       300      350000  Under Review  \n",
       "3         Analytics       150     2450000          Lost  \n",
       "4         Analytics       300     4550000           Won  \n",
       "5         Analytics       300     2800000  Under Review  \n",
       "6        Prediction       150      700000     Presented  \n",
       "7          Tracking       300      350000  Under Review  \n",
       "8         Analytics       150     2450000          Lost  \n",
       "9         Analytics       300     4550000           Won  \n",
       "10        Analytics       150     2100000     Presented  \n",
       "11         Tracking       150      350000  Under Review  \n",
       "12       Prediction       150      700000     Presented  \n",
       "13         Tracking       450      490000           Won  \n",
       "14        Analytics       750     7000000           Won  \n",
       "15        Analytics       300     4550000          Lost  \n",
       "16  GPS Positioning       300      350000     Presented  "
      ]
     },
     "execution_count": 90,
     "metadata": {},
     "output_type": "execute_result"
    }
   ],
   "source": [
    "df"
   ]
  },
  {
   "cell_type": "code",
   "execution_count": 91,
   "id": "4ad6eca9",
   "metadata": {},
   "outputs": [
    {
     "name": "stdout",
     "output_type": "stream",
     "text": [
      "Help on function pivot in module pandas.core.reshape.pivot:\n",
      "\n",
      "pivot(data: 'DataFrame', index: Union[Hashable, NoneType, Sequence[Union[Hashable, NoneType]]] = None, columns: Union[Hashable, NoneType, Sequence[Union[Hashable, NoneType]]] = None, values: Union[Hashable, NoneType, Sequence[Union[Hashable, NoneType]]] = None) -> 'DataFrame'\n",
      "    Return reshaped DataFrame organized by given index / column values.\n",
      "    \n",
      "    Reshape data (produce a \"pivot\" table) based on column values. Uses\n",
      "    unique values from specified `index` / `columns` to form axes of the\n",
      "    resulting DataFrame. This function does not support data\n",
      "    aggregation, multiple values will result in a MultiIndex in the\n",
      "    columns. See the :ref:`User Guide <reshaping>` for more on reshaping.\n",
      "    \n",
      "    Parameters\n",
      "    ----------\n",
      "    data : DataFrame\n",
      "    index : str or object or a list of str, optional\n",
      "        Column to use to make new frame's index. If None, uses\n",
      "        existing index.\n",
      "    \n",
      "        .. versionchanged:: 1.1.0\n",
      "           Also accept list of index names.\n",
      "    \n",
      "    columns : str or object or a list of str\n",
      "        Column to use to make new frame's columns.\n",
      "    \n",
      "        .. versionchanged:: 1.1.0\n",
      "           Also accept list of columns names.\n",
      "    \n",
      "    values : str, object or a list of the previous, optional\n",
      "        Column(s) to use for populating new frame's values. If not\n",
      "        specified, all remaining columns will be used and the result will\n",
      "        have hierarchically indexed columns.\n",
      "    \n",
      "    Returns\n",
      "    -------\n",
      "    DataFrame\n",
      "        Returns reshaped DataFrame.\n",
      "    \n",
      "    Raises\n",
      "    ------\n",
      "    ValueError:\n",
      "        When there are any `index`, `columns` combinations with multiple\n",
      "        values. `DataFrame.pivot_table` when you need to aggregate.\n",
      "    \n",
      "    See Also\n",
      "    --------\n",
      "    DataFrame.pivot_table : Generalization of pivot that can handle\n",
      "        duplicate values for one index/column pair.\n",
      "    DataFrame.unstack : Pivot based on the index values instead of a\n",
      "        column.\n",
      "    wide_to_long : Wide panel to long format. Less flexible but more\n",
      "        user-friendly than melt.\n",
      "    \n",
      "    Notes\n",
      "    -----\n",
      "    For finer-tuned control, see hierarchical indexing documentation along\n",
      "    with the related stack/unstack methods.\n",
      "    \n",
      "    Examples\n",
      "    --------\n",
      "    >>> df = pd.DataFrame({'foo': ['one', 'one', 'one', 'two', 'two',\n",
      "    ...                            'two'],\n",
      "    ...                    'bar': ['A', 'B', 'C', 'A', 'B', 'C'],\n",
      "    ...                    'baz': [1, 2, 3, 4, 5, 6],\n",
      "    ...                    'zoo': ['x', 'y', 'z', 'q', 'w', 't']})\n",
      "    >>> df\n",
      "        foo   bar  baz  zoo\n",
      "    0   one   A    1    x\n",
      "    1   one   B    2    y\n",
      "    2   one   C    3    z\n",
      "    3   two   A    4    q\n",
      "    4   two   B    5    w\n",
      "    5   two   C    6    t\n",
      "    \n",
      "    >>> df.pivot(index='foo', columns='bar', values='baz')\n",
      "    bar  A   B   C\n",
      "    foo\n",
      "    one  1   2   3\n",
      "    two  4   5   6\n",
      "    \n",
      "    >>> df.pivot(index='foo', columns='bar')['baz']\n",
      "    bar  A   B   C\n",
      "    foo\n",
      "    one  1   2   3\n",
      "    two  4   5   6\n",
      "    \n",
      "    >>> df.pivot(index='foo', columns='bar', values=['baz', 'zoo'])\n",
      "          baz       zoo\n",
      "    bar   A  B  C   A  B  C\n",
      "    foo\n",
      "    one   1  2  3   x  y  z\n",
      "    two   4  5  6   q  w  t\n",
      "    \n",
      "    You could also assign a list of column names or a list of index names.\n",
      "    \n",
      "    >>> df = pd.DataFrame({\n",
      "    ...        \"lev1\": [1, 1, 1, 2, 2, 2],\n",
      "    ...        \"lev2\": [1, 1, 2, 1, 1, 2],\n",
      "    ...        \"lev3\": [1, 2, 1, 2, 1, 2],\n",
      "    ...        \"lev4\": [1, 2, 3, 4, 5, 6],\n",
      "    ...        \"values\": [0, 1, 2, 3, 4, 5]})\n",
      "    >>> df\n",
      "        lev1 lev2 lev3 lev4 values\n",
      "    0   1    1    1    1    0\n",
      "    1   1    1    2    2    1\n",
      "    2   1    2    1    3    2\n",
      "    3   2    1    2    4    3\n",
      "    4   2    1    1    5    4\n",
      "    5   2    2    2    6    5\n",
      "    \n",
      "    >>> df.pivot(index=\"lev1\", columns=[\"lev2\", \"lev3\"],values=\"values\")\n",
      "    lev2    1         2\n",
      "    lev3    1    2    1    2\n",
      "    lev1\n",
      "    1     0.0  1.0  2.0  NaN\n",
      "    2     4.0  3.0  NaN  5.0\n",
      "    \n",
      "    >>> df.pivot(index=[\"lev1\", \"lev2\"], columns=[\"lev3\"],values=\"values\")\n",
      "          lev3    1    2\n",
      "    lev1  lev2\n",
      "       1     1  0.0  1.0\n",
      "             2  2.0  NaN\n",
      "       2     1  4.0  3.0\n",
      "             2  NaN  5.0\n",
      "    \n",
      "    A ValueError is raised if there are any duplicates.\n",
      "    \n",
      "    >>> df = pd.DataFrame({\"foo\": ['one', 'one', 'two', 'two'],\n",
      "    ...                    \"bar\": ['A', 'A', 'B', 'C'],\n",
      "    ...                    \"baz\": [1, 2, 3, 4]})\n",
      "    >>> df\n",
      "       foo bar  baz\n",
      "    0  one   A    1\n",
      "    1  one   A    2\n",
      "    2  two   B    3\n",
      "    3  two   C    4\n",
      "    \n",
      "    Notice that the first two rows are the same for our `index`\n",
      "    and `columns` arguments.\n",
      "    \n",
      "    >>> df.pivot(index='foo', columns='bar', values='baz')\n",
      "    Traceback (most recent call last):\n",
      "       ...\n",
      "    ValueError: Index contains duplicate entries, cannot reshape\n",
      "\n"
     ]
    }
   ],
   "source": [
    "help(pd.pivot)"
   ]
  },
  {
   "cell_type": "code",
   "execution_count": 96,
   "id": "67886eda",
   "metadata": {},
   "outputs": [],
   "source": [
    "licenses=df[['Company','Product','Licenses']]"
   ]
  },
  {
   "cell_type": "code",
   "execution_count": 100,
   "id": "cf1282ee",
   "metadata": {},
   "outputs": [
    {
     "data": {
      "text/html": [
       "<div>\n",
       "<style scoped>\n",
       "    .dataframe tbody tr th:only-of-type {\n",
       "        vertical-align: middle;\n",
       "    }\n",
       "\n",
       "    .dataframe tbody tr th {\n",
       "        vertical-align: top;\n",
       "    }\n",
       "\n",
       "    .dataframe thead th {\n",
       "        text-align: right;\n",
       "    }\n",
       "</style>\n",
       "<table border=\"1\" class=\"dataframe\">\n",
       "  <thead>\n",
       "    <tr style=\"text-align: right;\">\n",
       "      <th>Product</th>\n",
       "      <th>Analytics</th>\n",
       "      <th>GPS Positioning</th>\n",
       "      <th>Prediction</th>\n",
       "      <th>Tracking</th>\n",
       "    </tr>\n",
       "    <tr>\n",
       "      <th>Company</th>\n",
       "      <th></th>\n",
       "      <th></th>\n",
       "      <th></th>\n",
       "      <th></th>\n",
       "    </tr>\n",
       "  </thead>\n",
       "  <tbody>\n",
       "    <tr>\n",
       "      <th>Google</th>\n",
       "      <td>150.0</td>\n",
       "      <td>NaN</td>\n",
       "      <td>150.0</td>\n",
       "      <td>300.0</td>\n",
       "    </tr>\n",
       "    <tr>\n",
       "      <th>ATT</th>\n",
       "      <td>NaN</td>\n",
       "      <td>NaN</td>\n",
       "      <td>150.0</td>\n",
       "      <td>150.0</td>\n",
       "    </tr>\n",
       "    <tr>\n",
       "      <th>Apple</th>\n",
       "      <td>300.0</td>\n",
       "      <td>NaN</td>\n",
       "      <td>NaN</td>\n",
       "      <td>NaN</td>\n",
       "    </tr>\n",
       "    <tr>\n",
       "      <th>BOBO</th>\n",
       "      <td>150.0</td>\n",
       "      <td>NaN</td>\n",
       "      <td>NaN</td>\n",
       "      <td>NaN</td>\n",
       "    </tr>\n",
       "    <tr>\n",
       "      <th>CVS Health</th>\n",
       "      <td>NaN</td>\n",
       "      <td>NaN</td>\n",
       "      <td>NaN</td>\n",
       "      <td>450.0</td>\n",
       "    </tr>\n",
       "    <tr>\n",
       "      <th>Cisco</th>\n",
       "      <td>300.0</td>\n",
       "      <td>300.0</td>\n",
       "      <td>NaN</td>\n",
       "      <td>NaN</td>\n",
       "    </tr>\n",
       "    <tr>\n",
       "      <th>Exxon Mobile</th>\n",
       "      <td>150.0</td>\n",
       "      <td>NaN</td>\n",
       "      <td>NaN</td>\n",
       "      <td>NaN</td>\n",
       "    </tr>\n",
       "    <tr>\n",
       "      <th>IKEA</th>\n",
       "      <td>300.0</td>\n",
       "      <td>NaN</td>\n",
       "      <td>NaN</td>\n",
       "      <td>NaN</td>\n",
       "    </tr>\n",
       "    <tr>\n",
       "      <th>Microsoft</th>\n",
       "      <td>NaN</td>\n",
       "      <td>NaN</td>\n",
       "      <td>NaN</td>\n",
       "      <td>300.0</td>\n",
       "    </tr>\n",
       "    <tr>\n",
       "      <th>Salesforce</th>\n",
       "      <td>750.0</td>\n",
       "      <td>NaN</td>\n",
       "      <td>NaN</td>\n",
       "      <td>NaN</td>\n",
       "    </tr>\n",
       "    <tr>\n",
       "      <th>Tesla Inc.</th>\n",
       "      <td>300.0</td>\n",
       "      <td>NaN</td>\n",
       "      <td>150.0</td>\n",
       "      <td>NaN</td>\n",
       "    </tr>\n",
       "    <tr>\n",
       "      <th>Walmart</th>\n",
       "      <td>150.0</td>\n",
       "      <td>NaN</td>\n",
       "      <td>NaN</td>\n",
       "      <td>NaN</td>\n",
       "    </tr>\n",
       "  </tbody>\n",
       "</table>\n",
       "</div>"
      ],
      "text/plain": [
       "Product       Analytics  GPS Positioning  Prediction  Tracking\n",
       "Company                                                       \n",
       " Google           150.0              NaN       150.0     300.0\n",
       "ATT                 NaN              NaN       150.0     150.0\n",
       "Apple             300.0              NaN         NaN       NaN\n",
       "BOBO              150.0              NaN         NaN       NaN\n",
       "CVS Health          NaN              NaN         NaN     450.0\n",
       "Cisco             300.0            300.0         NaN       NaN\n",
       "Exxon Mobile      150.0              NaN         NaN       NaN\n",
       "IKEA              300.0              NaN         NaN       NaN\n",
       "Microsoft           NaN              NaN         NaN     300.0\n",
       "Salesforce        750.0              NaN         NaN       NaN\n",
       "Tesla Inc.        300.0              NaN       150.0       NaN\n",
       "Walmart           150.0              NaN         NaN       NaN"
      ]
     },
     "execution_count": 100,
     "metadata": {},
     "output_type": "execute_result"
    }
   ],
   "source": [
    "pd.pivot(data=licenses,index='Company',columns='Product',values='Licenses')"
   ]
  },
  {
   "cell_type": "code",
   "execution_count": 101,
   "id": "0a0eea93",
   "metadata": {},
   "outputs": [
    {
     "data": {
      "text/html": [
       "<div>\n",
       "<style scoped>\n",
       "    .dataframe tbody tr th:only-of-type {\n",
       "        vertical-align: middle;\n",
       "    }\n",
       "\n",
       "    .dataframe tbody tr th {\n",
       "        vertical-align: top;\n",
       "    }\n",
       "\n",
       "    .dataframe thead th {\n",
       "        text-align: right;\n",
       "    }\n",
       "</style>\n",
       "<table border=\"1\" class=\"dataframe\">\n",
       "  <thead>\n",
       "    <tr style=\"text-align: right;\">\n",
       "      <th></th>\n",
       "      <th>Account Number</th>\n",
       "      <th>Licenses</th>\n",
       "      <th>Sale Price</th>\n",
       "    </tr>\n",
       "    <tr>\n",
       "      <th>Company</th>\n",
       "      <th></th>\n",
       "      <th></th>\n",
       "      <th></th>\n",
       "    </tr>\n",
       "  </thead>\n",
       "  <tbody>\n",
       "    <tr>\n",
       "      <th>Google</th>\n",
       "      <td>6370194</td>\n",
       "      <td>600</td>\n",
       "      <td>3150000</td>\n",
       "    </tr>\n",
       "    <tr>\n",
       "      <th>ATT</th>\n",
       "      <td>1396064</td>\n",
       "      <td>300</td>\n",
       "      <td>1050000</td>\n",
       "    </tr>\n",
       "    <tr>\n",
       "      <th>Apple</th>\n",
       "      <td>405886</td>\n",
       "      <td>300</td>\n",
       "      <td>4550000</td>\n",
       "    </tr>\n",
       "    <tr>\n",
       "      <th>BOBO</th>\n",
       "      <td>2192650</td>\n",
       "      <td>150</td>\n",
       "      <td>2450000</td>\n",
       "    </tr>\n",
       "    <tr>\n",
       "      <th>CVS Health</th>\n",
       "      <td>902797</td>\n",
       "      <td>450</td>\n",
       "      <td>490000</td>\n",
       "    </tr>\n",
       "    <tr>\n",
       "      <th>Cisco</th>\n",
       "      <td>4338998</td>\n",
       "      <td>600</td>\n",
       "      <td>4900000</td>\n",
       "    </tr>\n",
       "    <tr>\n",
       "      <th>Exxon Mobile</th>\n",
       "      <td>470248</td>\n",
       "      <td>150</td>\n",
       "      <td>2100000</td>\n",
       "    </tr>\n",
       "    <tr>\n",
       "      <th>IKEA</th>\n",
       "      <td>420496</td>\n",
       "      <td>300</td>\n",
       "      <td>4550000</td>\n",
       "    </tr>\n",
       "    <tr>\n",
       "      <th>Microsoft</th>\n",
       "      <td>1216870</td>\n",
       "      <td>300</td>\n",
       "      <td>350000</td>\n",
       "    </tr>\n",
       "    <tr>\n",
       "      <th>Salesforce</th>\n",
       "      <td>2046943</td>\n",
       "      <td>750</td>\n",
       "      <td>7000000</td>\n",
       "    </tr>\n",
       "    <tr>\n",
       "      <th>Tesla Inc.</th>\n",
       "      <td>1273370</td>\n",
       "      <td>450</td>\n",
       "      <td>3500000</td>\n",
       "    </tr>\n",
       "    <tr>\n",
       "      <th>Walmart</th>\n",
       "      <td>2200450</td>\n",
       "      <td>150</td>\n",
       "      <td>2450000</td>\n",
       "    </tr>\n",
       "  </tbody>\n",
       "</table>\n",
       "</div>"
      ],
      "text/plain": [
       "              Account Number  Licenses  Sale Price\n",
       "Company                                           \n",
       " Google              6370194       600     3150000\n",
       "ATT                  1396064       300     1050000\n",
       "Apple                 405886       300     4550000\n",
       "BOBO                 2192650       150     2450000\n",
       "CVS Health            902797       450      490000\n",
       "Cisco                4338998       600     4900000\n",
       "Exxon Mobile          470248       150     2100000\n",
       "IKEA                  420496       300     4550000\n",
       "Microsoft            1216870       300      350000\n",
       "Salesforce           2046943       750     7000000\n",
       "Tesla Inc.           1273370       450     3500000\n",
       "Walmart              2200450       150     2450000"
      ]
     },
     "execution_count": 101,
     "metadata": {},
     "output_type": "execute_result"
    }
   ],
   "source": [
    "pd.pivot_table(df,index=\"Company\",aggfunc='sum')"
   ]
  },
  {
   "cell_type": "code",
   "execution_count": 102,
   "id": "0b603fca",
   "metadata": {},
   "outputs": [
    {
     "data": {
      "text/html": [
       "<div>\n",
       "<style scoped>\n",
       "    .dataframe tbody tr th:only-of-type {\n",
       "        vertical-align: middle;\n",
       "    }\n",
       "\n",
       "    .dataframe tbody tr th {\n",
       "        vertical-align: top;\n",
       "    }\n",
       "\n",
       "    .dataframe thead th {\n",
       "        text-align: right;\n",
       "    }\n",
       "</style>\n",
       "<table border=\"1\" class=\"dataframe\">\n",
       "  <thead>\n",
       "    <tr style=\"text-align: right;\">\n",
       "      <th></th>\n",
       "      <th>Account Number</th>\n",
       "      <th>Licenses</th>\n",
       "      <th>Sale Price</th>\n",
       "    </tr>\n",
       "    <tr>\n",
       "      <th>Company</th>\n",
       "      <th></th>\n",
       "      <th></th>\n",
       "      <th></th>\n",
       "    </tr>\n",
       "  </thead>\n",
       "  <tbody>\n",
       "    <tr>\n",
       "      <th>Google</th>\n",
       "      <td>6370194</td>\n",
       "      <td>600</td>\n",
       "      <td>3150000</td>\n",
       "    </tr>\n",
       "    <tr>\n",
       "      <th>ATT</th>\n",
       "      <td>1396064</td>\n",
       "      <td>300</td>\n",
       "      <td>1050000</td>\n",
       "    </tr>\n",
       "    <tr>\n",
       "      <th>Apple</th>\n",
       "      <td>405886</td>\n",
       "      <td>300</td>\n",
       "      <td>4550000</td>\n",
       "    </tr>\n",
       "    <tr>\n",
       "      <th>BOBO</th>\n",
       "      <td>2192650</td>\n",
       "      <td>150</td>\n",
       "      <td>2450000</td>\n",
       "    </tr>\n",
       "    <tr>\n",
       "      <th>CVS Health</th>\n",
       "      <td>902797</td>\n",
       "      <td>450</td>\n",
       "      <td>490000</td>\n",
       "    </tr>\n",
       "    <tr>\n",
       "      <th>Cisco</th>\n",
       "      <td>4338998</td>\n",
       "      <td>600</td>\n",
       "      <td>4900000</td>\n",
       "    </tr>\n",
       "    <tr>\n",
       "      <th>Exxon Mobile</th>\n",
       "      <td>470248</td>\n",
       "      <td>150</td>\n",
       "      <td>2100000</td>\n",
       "    </tr>\n",
       "    <tr>\n",
       "      <th>IKEA</th>\n",
       "      <td>420496</td>\n",
       "      <td>300</td>\n",
       "      <td>4550000</td>\n",
       "    </tr>\n",
       "    <tr>\n",
       "      <th>Microsoft</th>\n",
       "      <td>1216870</td>\n",
       "      <td>300</td>\n",
       "      <td>350000</td>\n",
       "    </tr>\n",
       "    <tr>\n",
       "      <th>Salesforce</th>\n",
       "      <td>2046943</td>\n",
       "      <td>750</td>\n",
       "      <td>7000000</td>\n",
       "    </tr>\n",
       "    <tr>\n",
       "      <th>Tesla Inc.</th>\n",
       "      <td>1273370</td>\n",
       "      <td>450</td>\n",
       "      <td>3500000</td>\n",
       "    </tr>\n",
       "    <tr>\n",
       "      <th>Walmart</th>\n",
       "      <td>2200450</td>\n",
       "      <td>150</td>\n",
       "      <td>2450000</td>\n",
       "    </tr>\n",
       "  </tbody>\n",
       "</table>\n",
       "</div>"
      ],
      "text/plain": [
       "              Account Number  Licenses  Sale Price\n",
       "Company                                           \n",
       " Google              6370194       600     3150000\n",
       "ATT                  1396064       300     1050000\n",
       "Apple                 405886       300     4550000\n",
       "BOBO                 2192650       150     2450000\n",
       "CVS Health            902797       450      490000\n",
       "Cisco                4338998       600     4900000\n",
       "Exxon Mobile          470248       150     2100000\n",
       "IKEA                  420496       300     4550000\n",
       "Microsoft            1216870       300      350000\n",
       "Salesforce           2046943       750     7000000\n",
       "Tesla Inc.           1273370       450     3500000\n",
       "Walmart              2200450       150     2450000"
      ]
     },
     "execution_count": 102,
     "metadata": {},
     "output_type": "execute_result"
    }
   ],
   "source": [
    "df.groupby('Company').sum()"
   ]
  },
  {
   "cell_type": "code",
   "execution_count": 107,
   "id": "1a43057b",
   "metadata": {},
   "outputs": [
    {
     "data": {
      "text/html": [
       "<div>\n",
       "<style scoped>\n",
       "    .dataframe tbody tr th:only-of-type {\n",
       "        vertical-align: middle;\n",
       "    }\n",
       "\n",
       "    .dataframe tbody tr th {\n",
       "        vertical-align: top;\n",
       "    }\n",
       "\n",
       "    .dataframe thead th {\n",
       "        text-align: right;\n",
       "    }\n",
       "</style>\n",
       "<table border=\"1\" class=\"dataframe\">\n",
       "  <thead>\n",
       "    <tr style=\"text-align: right;\">\n",
       "      <th></th>\n",
       "      <th>Licenses</th>\n",
       "      <th>Sale Price</th>\n",
       "    </tr>\n",
       "    <tr>\n",
       "      <th>Company</th>\n",
       "      <th></th>\n",
       "      <th></th>\n",
       "    </tr>\n",
       "  </thead>\n",
       "  <tbody>\n",
       "    <tr>\n",
       "      <th>Google</th>\n",
       "      <td>600</td>\n",
       "      <td>3150000</td>\n",
       "    </tr>\n",
       "    <tr>\n",
       "      <th>ATT</th>\n",
       "      <td>300</td>\n",
       "      <td>1050000</td>\n",
       "    </tr>\n",
       "    <tr>\n",
       "      <th>Apple</th>\n",
       "      <td>300</td>\n",
       "      <td>4550000</td>\n",
       "    </tr>\n",
       "    <tr>\n",
       "      <th>BOBO</th>\n",
       "      <td>150</td>\n",
       "      <td>2450000</td>\n",
       "    </tr>\n",
       "    <tr>\n",
       "      <th>CVS Health</th>\n",
       "      <td>450</td>\n",
       "      <td>490000</td>\n",
       "    </tr>\n",
       "    <tr>\n",
       "      <th>Cisco</th>\n",
       "      <td>600</td>\n",
       "      <td>4900000</td>\n",
       "    </tr>\n",
       "    <tr>\n",
       "      <th>Exxon Mobile</th>\n",
       "      <td>150</td>\n",
       "      <td>2100000</td>\n",
       "    </tr>\n",
       "    <tr>\n",
       "      <th>IKEA</th>\n",
       "      <td>300</td>\n",
       "      <td>4550000</td>\n",
       "    </tr>\n",
       "    <tr>\n",
       "      <th>Microsoft</th>\n",
       "      <td>300</td>\n",
       "      <td>350000</td>\n",
       "    </tr>\n",
       "    <tr>\n",
       "      <th>Salesforce</th>\n",
       "      <td>750</td>\n",
       "      <td>7000000</td>\n",
       "    </tr>\n",
       "    <tr>\n",
       "      <th>Tesla Inc.</th>\n",
       "      <td>450</td>\n",
       "      <td>3500000</td>\n",
       "    </tr>\n",
       "    <tr>\n",
       "      <th>Walmart</th>\n",
       "      <td>150</td>\n",
       "      <td>2450000</td>\n",
       "    </tr>\n",
       "  </tbody>\n",
       "</table>\n",
       "</div>"
      ],
      "text/plain": [
       "              Licenses  Sale Price\n",
       "Company                           \n",
       " Google            600     3150000\n",
       "ATT                300     1050000\n",
       "Apple              300     4550000\n",
       "BOBO               150     2450000\n",
       "CVS Health         450      490000\n",
       "Cisco              600     4900000\n",
       "Exxon Mobile       150     2100000\n",
       "IKEA               300     4550000\n",
       "Microsoft          300      350000\n",
       "Salesforce         750     7000000\n",
       "Tesla Inc.         450     3500000\n",
       "Walmart            150     2450000"
      ]
     },
     "execution_count": 107,
     "metadata": {},
     "output_type": "execute_result"
    }
   ],
   "source": [
    "pd.pivot_table(df,index=\"Company\",aggfunc='sum',values=['Licenses','Sale Price'])"
   ]
  },
  {
   "cell_type": "code",
   "execution_count": 108,
   "id": "ca312926",
   "metadata": {},
   "outputs": [
    {
     "data": {
      "text/html": [
       "<div>\n",
       "<style scoped>\n",
       "    .dataframe tbody tr th:only-of-type {\n",
       "        vertical-align: middle;\n",
       "    }\n",
       "\n",
       "    .dataframe tbody tr th {\n",
       "        vertical-align: top;\n",
       "    }\n",
       "\n",
       "    .dataframe thead th {\n",
       "        text-align: right;\n",
       "    }\n",
       "</style>\n",
       "<table border=\"1\" class=\"dataframe\">\n",
       "  <thead>\n",
       "    <tr style=\"text-align: right;\">\n",
       "      <th></th>\n",
       "      <th>Account Number</th>\n",
       "      <th>Company</th>\n",
       "      <th>Contact</th>\n",
       "      <th>Account Manager</th>\n",
       "      <th>Product</th>\n",
       "      <th>Licenses</th>\n",
       "      <th>Sale Price</th>\n",
       "      <th>Status</th>\n",
       "    </tr>\n",
       "  </thead>\n",
       "  <tbody>\n",
       "    <tr>\n",
       "      <th>0</th>\n",
       "      <td>2123398</td>\n",
       "      <td>Google</td>\n",
       "      <td>Larry Pager</td>\n",
       "      <td>Edward Thorp</td>\n",
       "      <td>Analytics</td>\n",
       "      <td>150</td>\n",
       "      <td>2100000</td>\n",
       "      <td>Presented</td>\n",
       "    </tr>\n",
       "    <tr>\n",
       "      <th>1</th>\n",
       "      <td>2123398</td>\n",
       "      <td>Google</td>\n",
       "      <td>Larry Pager</td>\n",
       "      <td>Edward Thorp</td>\n",
       "      <td>Prediction</td>\n",
       "      <td>150</td>\n",
       "      <td>700000</td>\n",
       "      <td>Presented</td>\n",
       "    </tr>\n",
       "    <tr>\n",
       "      <th>2</th>\n",
       "      <td>2123398</td>\n",
       "      <td>Google</td>\n",
       "      <td>Larry Pager</td>\n",
       "      <td>Edward Thorp</td>\n",
       "      <td>Tracking</td>\n",
       "      <td>300</td>\n",
       "      <td>350000</td>\n",
       "      <td>Under Review</td>\n",
       "    </tr>\n",
       "    <tr>\n",
       "      <th>3</th>\n",
       "      <td>2192650</td>\n",
       "      <td>BOBO</td>\n",
       "      <td>Larry Pager</td>\n",
       "      <td>Edward Thorp</td>\n",
       "      <td>Analytics</td>\n",
       "      <td>150</td>\n",
       "      <td>2450000</td>\n",
       "      <td>Lost</td>\n",
       "    </tr>\n",
       "    <tr>\n",
       "      <th>4</th>\n",
       "      <td>420496</td>\n",
       "      <td>IKEA</td>\n",
       "      <td>Elon Tusk</td>\n",
       "      <td>Edward Thorp</td>\n",
       "      <td>Analytics</td>\n",
       "      <td>300</td>\n",
       "      <td>4550000</td>\n",
       "      <td>Won</td>\n",
       "    </tr>\n",
       "    <tr>\n",
       "      <th>5</th>\n",
       "      <td>636685</td>\n",
       "      <td>Tesla Inc.</td>\n",
       "      <td>Elon Tusk</td>\n",
       "      <td>Edward Thorp</td>\n",
       "      <td>Analytics</td>\n",
       "      <td>300</td>\n",
       "      <td>2800000</td>\n",
       "      <td>Under Review</td>\n",
       "    </tr>\n",
       "    <tr>\n",
       "      <th>6</th>\n",
       "      <td>636685</td>\n",
       "      <td>Tesla Inc.</td>\n",
       "      <td>Elon Tusk</td>\n",
       "      <td>Edward Thorp</td>\n",
       "      <td>Prediction</td>\n",
       "      <td>150</td>\n",
       "      <td>700000</td>\n",
       "      <td>Presented</td>\n",
       "    </tr>\n",
       "    <tr>\n",
       "      <th>7</th>\n",
       "      <td>1216870</td>\n",
       "      <td>Microsoft</td>\n",
       "      <td>Will Grates</td>\n",
       "      <td>Edward Thorp</td>\n",
       "      <td>Tracking</td>\n",
       "      <td>300</td>\n",
       "      <td>350000</td>\n",
       "      <td>Under Review</td>\n",
       "    </tr>\n",
       "    <tr>\n",
       "      <th>8</th>\n",
       "      <td>2200450</td>\n",
       "      <td>Walmart</td>\n",
       "      <td>Will Grates</td>\n",
       "      <td>Edward Thorp</td>\n",
       "      <td>Analytics</td>\n",
       "      <td>150</td>\n",
       "      <td>2450000</td>\n",
       "      <td>Lost</td>\n",
       "    </tr>\n",
       "    <tr>\n",
       "      <th>9</th>\n",
       "      <td>405886</td>\n",
       "      <td>Apple</td>\n",
       "      <td>Cindy Phoner</td>\n",
       "      <td>Claude Shannon</td>\n",
       "      <td>Analytics</td>\n",
       "      <td>300</td>\n",
       "      <td>4550000</td>\n",
       "      <td>Won</td>\n",
       "    </tr>\n",
       "    <tr>\n",
       "      <th>10</th>\n",
       "      <td>470248</td>\n",
       "      <td>Exxon Mobile</td>\n",
       "      <td>Cindy Phoner</td>\n",
       "      <td>Claude Shannon</td>\n",
       "      <td>Analytics</td>\n",
       "      <td>150</td>\n",
       "      <td>2100000</td>\n",
       "      <td>Presented</td>\n",
       "    </tr>\n",
       "    <tr>\n",
       "      <th>11</th>\n",
       "      <td>698032</td>\n",
       "      <td>ATT</td>\n",
       "      <td>Cindy Phoner</td>\n",
       "      <td>Claude Shannon</td>\n",
       "      <td>Tracking</td>\n",
       "      <td>150</td>\n",
       "      <td>350000</td>\n",
       "      <td>Under Review</td>\n",
       "    </tr>\n",
       "    <tr>\n",
       "      <th>12</th>\n",
       "      <td>698032</td>\n",
       "      <td>ATT</td>\n",
       "      <td>Cindy Phoner</td>\n",
       "      <td>Claude Shannon</td>\n",
       "      <td>Prediction</td>\n",
       "      <td>150</td>\n",
       "      <td>700000</td>\n",
       "      <td>Presented</td>\n",
       "    </tr>\n",
       "    <tr>\n",
       "      <th>13</th>\n",
       "      <td>902797</td>\n",
       "      <td>CVS Health</td>\n",
       "      <td>Emma Gordian</td>\n",
       "      <td>Claude Shannon</td>\n",
       "      <td>Tracking</td>\n",
       "      <td>450</td>\n",
       "      <td>490000</td>\n",
       "      <td>Won</td>\n",
       "    </tr>\n",
       "    <tr>\n",
       "      <th>14</th>\n",
       "      <td>2046943</td>\n",
       "      <td>Salesforce</td>\n",
       "      <td>Emma Gordian</td>\n",
       "      <td>Claude Shannon</td>\n",
       "      <td>Analytics</td>\n",
       "      <td>750</td>\n",
       "      <td>7000000</td>\n",
       "      <td>Won</td>\n",
       "    </tr>\n",
       "    <tr>\n",
       "      <th>15</th>\n",
       "      <td>2169499</td>\n",
       "      <td>Cisco</td>\n",
       "      <td>Emma Gordian</td>\n",
       "      <td>Claude Shannon</td>\n",
       "      <td>Analytics</td>\n",
       "      <td>300</td>\n",
       "      <td>4550000</td>\n",
       "      <td>Lost</td>\n",
       "    </tr>\n",
       "    <tr>\n",
       "      <th>16</th>\n",
       "      <td>2169499</td>\n",
       "      <td>Cisco</td>\n",
       "      <td>Emma Gordian</td>\n",
       "      <td>Claude Shannon</td>\n",
       "      <td>GPS Positioning</td>\n",
       "      <td>300</td>\n",
       "      <td>350000</td>\n",
       "      <td>Presented</td>\n",
       "    </tr>\n",
       "  </tbody>\n",
       "</table>\n",
       "</div>"
      ],
      "text/plain": [
       "    Account Number       Company       Contact Account Manager  \\\n",
       "0          2123398        Google   Larry Pager    Edward Thorp   \n",
       "1          2123398        Google   Larry Pager    Edward Thorp   \n",
       "2          2123398        Google   Larry Pager    Edward Thorp   \n",
       "3          2192650          BOBO   Larry Pager    Edward Thorp   \n",
       "4           420496          IKEA     Elon Tusk    Edward Thorp   \n",
       "5           636685    Tesla Inc.     Elon Tusk    Edward Thorp   \n",
       "6           636685    Tesla Inc.     Elon Tusk    Edward Thorp   \n",
       "7          1216870     Microsoft   Will Grates    Edward Thorp   \n",
       "8          2200450       Walmart   Will Grates    Edward Thorp   \n",
       "9           405886         Apple  Cindy Phoner  Claude Shannon   \n",
       "10          470248  Exxon Mobile  Cindy Phoner  Claude Shannon   \n",
       "11          698032           ATT  Cindy Phoner  Claude Shannon   \n",
       "12          698032           ATT  Cindy Phoner  Claude Shannon   \n",
       "13          902797    CVS Health  Emma Gordian  Claude Shannon   \n",
       "14         2046943    Salesforce  Emma Gordian  Claude Shannon   \n",
       "15         2169499         Cisco  Emma Gordian  Claude Shannon   \n",
       "16         2169499         Cisco  Emma Gordian  Claude Shannon   \n",
       "\n",
       "            Product  Licenses  Sale Price        Status  \n",
       "0         Analytics       150     2100000     Presented  \n",
       "1        Prediction       150      700000     Presented  \n",
       "2          Tracking       300      350000  Under Review  \n",
       "3         Analytics       150     2450000          Lost  \n",
       "4         Analytics       300     4550000           Won  \n",
       "5         Analytics       300     2800000  Under Review  \n",
       "6        Prediction       150      700000     Presented  \n",
       "7          Tracking       300      350000  Under Review  \n",
       "8         Analytics       150     2450000          Lost  \n",
       "9         Analytics       300     4550000           Won  \n",
       "10        Analytics       150     2100000     Presented  \n",
       "11         Tracking       150      350000  Under Review  \n",
       "12       Prediction       150      700000     Presented  \n",
       "13         Tracking       450      490000           Won  \n",
       "14        Analytics       750     7000000           Won  \n",
       "15        Analytics       300     4550000          Lost  \n",
       "16  GPS Positioning       300      350000     Presented  "
      ]
     },
     "execution_count": 108,
     "metadata": {},
     "output_type": "execute_result"
    }
   ],
   "source": [
    "df"
   ]
  },
  {
   "cell_type": "code",
   "execution_count": 114,
   "id": "2ab62c34",
   "metadata": {},
   "outputs": [
    {
     "data": {
      "text/html": [
       "<div>\n",
       "<style scoped>\n",
       "    .dataframe tbody tr th:only-of-type {\n",
       "        vertical-align: middle;\n",
       "    }\n",
       "\n",
       "    .dataframe tbody tr th {\n",
       "        vertical-align: top;\n",
       "    }\n",
       "\n",
       "    .dataframe thead tr th {\n",
       "        text-align: left;\n",
       "    }\n",
       "\n",
       "    .dataframe thead tr:last-of-type th {\n",
       "        text-align: right;\n",
       "    }\n",
       "</style>\n",
       "<table border=\"1\" class=\"dataframe\">\n",
       "  <thead>\n",
       "    <tr>\n",
       "      <th></th>\n",
       "      <th></th>\n",
       "      <th colspan=\"4\" halign=\"left\">sum</th>\n",
       "    </tr>\n",
       "    <tr>\n",
       "      <th></th>\n",
       "      <th></th>\n",
       "      <th colspan=\"4\" halign=\"left\">Sale Price</th>\n",
       "    </tr>\n",
       "    <tr>\n",
       "      <th></th>\n",
       "      <th>Product</th>\n",
       "      <th>Analytics</th>\n",
       "      <th>GPS Positioning</th>\n",
       "      <th>Prediction</th>\n",
       "      <th>Tracking</th>\n",
       "    </tr>\n",
       "    <tr>\n",
       "      <th>Account Manager</th>\n",
       "      <th>Contact</th>\n",
       "      <th></th>\n",
       "      <th></th>\n",
       "      <th></th>\n",
       "      <th></th>\n",
       "    </tr>\n",
       "  </thead>\n",
       "  <tbody>\n",
       "    <tr>\n",
       "      <th rowspan=\"2\" valign=\"top\">Claude Shannon</th>\n",
       "      <th>Cindy Phoner</th>\n",
       "      <td>6650000.0</td>\n",
       "      <td>NaN</td>\n",
       "      <td>700000.0</td>\n",
       "      <td>350000.0</td>\n",
       "    </tr>\n",
       "    <tr>\n",
       "      <th>Emma Gordian</th>\n",
       "      <td>11550000.0</td>\n",
       "      <td>350000.0</td>\n",
       "      <td>NaN</td>\n",
       "      <td>490000.0</td>\n",
       "    </tr>\n",
       "    <tr>\n",
       "      <th rowspan=\"3\" valign=\"top\">Edward Thorp</th>\n",
       "      <th>Elon Tusk</th>\n",
       "      <td>7350000.0</td>\n",
       "      <td>NaN</td>\n",
       "      <td>700000.0</td>\n",
       "      <td>NaN</td>\n",
       "    </tr>\n",
       "    <tr>\n",
       "      <th>Larry Pager</th>\n",
       "      <td>4550000.0</td>\n",
       "      <td>NaN</td>\n",
       "      <td>700000.0</td>\n",
       "      <td>350000.0</td>\n",
       "    </tr>\n",
       "    <tr>\n",
       "      <th>Will Grates</th>\n",
       "      <td>2450000.0</td>\n",
       "      <td>NaN</td>\n",
       "      <td>NaN</td>\n",
       "      <td>350000.0</td>\n",
       "    </tr>\n",
       "  </tbody>\n",
       "</table>\n",
       "</div>"
      ],
      "text/plain": [
       "                                     sum                                     \n",
       "                              Sale Price                                     \n",
       "Product                        Analytics GPS Positioning Prediction  Tracking\n",
       "Account Manager Contact                                                      \n",
       "Claude Shannon  Cindy Phoner   6650000.0             NaN   700000.0  350000.0\n",
       "                Emma Gordian  11550000.0        350000.0        NaN  490000.0\n",
       "Edward Thorp    Elon Tusk      7350000.0             NaN   700000.0       NaN\n",
       "                Larry Pager    4550000.0             NaN   700000.0  350000.0\n",
       "                Will Grates    2450000.0             NaN        NaN  350000.0"
      ]
     },
     "execution_count": 114,
     "metadata": {},
     "output_type": "execute_result"
    }
   ],
   "source": [
    "pd.pivot_table(df,index=[\"Account Manager\",\"Contact\"],values=[\"Sale Price\"],columns=[\"Product\"],aggfunc=[np.sum])"
   ]
  },
  {
   "cell_type": "code",
   "execution_count": 115,
   "id": "24d18d51",
   "metadata": {},
   "outputs": [
    {
     "data": {
      "text/html": [
       "<div>\n",
       "<style scoped>\n",
       "    .dataframe tbody tr th:only-of-type {\n",
       "        vertical-align: middle;\n",
       "    }\n",
       "\n",
       "    .dataframe tbody tr th {\n",
       "        vertical-align: top;\n",
       "    }\n",
       "\n",
       "    .dataframe thead tr th {\n",
       "        text-align: left;\n",
       "    }\n",
       "\n",
       "    .dataframe thead tr:last-of-type th {\n",
       "        text-align: right;\n",
       "    }\n",
       "</style>\n",
       "<table border=\"1\" class=\"dataframe\">\n",
       "  <thead>\n",
       "    <tr>\n",
       "      <th></th>\n",
       "      <th></th>\n",
       "      <th colspan=\"4\" halign=\"left\">sum</th>\n",
       "    </tr>\n",
       "    <tr>\n",
       "      <th></th>\n",
       "      <th></th>\n",
       "      <th colspan=\"4\" halign=\"left\">Sale Price</th>\n",
       "    </tr>\n",
       "    <tr>\n",
       "      <th></th>\n",
       "      <th>Product</th>\n",
       "      <th>Analytics</th>\n",
       "      <th>GPS Positioning</th>\n",
       "      <th>Prediction</th>\n",
       "      <th>Tracking</th>\n",
       "    </tr>\n",
       "    <tr>\n",
       "      <th>Account Manager</th>\n",
       "      <th>Contact</th>\n",
       "      <th></th>\n",
       "      <th></th>\n",
       "      <th></th>\n",
       "      <th></th>\n",
       "    </tr>\n",
       "  </thead>\n",
       "  <tbody>\n",
       "    <tr>\n",
       "      <th rowspan=\"2\" valign=\"top\">Claude Shannon</th>\n",
       "      <th>Cindy Phoner</th>\n",
       "      <td>6650000</td>\n",
       "      <td>0</td>\n",
       "      <td>700000</td>\n",
       "      <td>350000</td>\n",
       "    </tr>\n",
       "    <tr>\n",
       "      <th>Emma Gordian</th>\n",
       "      <td>11550000</td>\n",
       "      <td>350000</td>\n",
       "      <td>0</td>\n",
       "      <td>490000</td>\n",
       "    </tr>\n",
       "    <tr>\n",
       "      <th rowspan=\"3\" valign=\"top\">Edward Thorp</th>\n",
       "      <th>Elon Tusk</th>\n",
       "      <td>7350000</td>\n",
       "      <td>0</td>\n",
       "      <td>700000</td>\n",
       "      <td>0</td>\n",
       "    </tr>\n",
       "    <tr>\n",
       "      <th>Larry Pager</th>\n",
       "      <td>4550000</td>\n",
       "      <td>0</td>\n",
       "      <td>700000</td>\n",
       "      <td>350000</td>\n",
       "    </tr>\n",
       "    <tr>\n",
       "      <th>Will Grates</th>\n",
       "      <td>2450000</td>\n",
       "      <td>0</td>\n",
       "      <td>0</td>\n",
       "      <td>350000</td>\n",
       "    </tr>\n",
       "  </tbody>\n",
       "</table>\n",
       "</div>"
      ],
      "text/plain": [
       "                                    sum                                    \n",
       "                             Sale Price                                    \n",
       "Product                       Analytics GPS Positioning Prediction Tracking\n",
       "Account Manager Contact                                                    \n",
       "Claude Shannon  Cindy Phoner    6650000               0     700000   350000\n",
       "                Emma Gordian   11550000          350000          0   490000\n",
       "Edward Thorp    Elon Tusk       7350000               0     700000        0\n",
       "                Larry Pager     4550000               0     700000   350000\n",
       "                Will Grates     2450000               0          0   350000"
      ]
     },
     "execution_count": 115,
     "metadata": {},
     "output_type": "execute_result"
    }
   ],
   "source": [
    "pd.pivot_table(df,index=[\"Account Manager\",\"Contact\"],values=[\"Sale Price\"],columns=[\"Product\"],aggfunc=[np.sum],fill_value=0)"
   ]
  },
  {
   "cell_type": "code",
   "execution_count": 116,
   "id": "e12cc448",
   "metadata": {},
   "outputs": [
    {
     "data": {
      "text/html": [
       "<div>\n",
       "<style scoped>\n",
       "    .dataframe tbody tr th:only-of-type {\n",
       "        vertical-align: middle;\n",
       "    }\n",
       "\n",
       "    .dataframe tbody tr th {\n",
       "        vertical-align: top;\n",
       "    }\n",
       "\n",
       "    .dataframe thead tr th {\n",
       "        text-align: left;\n",
       "    }\n",
       "\n",
       "    .dataframe thead tr:last-of-type th {\n",
       "        text-align: right;\n",
       "    }\n",
       "</style>\n",
       "<table border=\"1\" class=\"dataframe\">\n",
       "  <thead>\n",
       "    <tr>\n",
       "      <th></th>\n",
       "      <th></th>\n",
       "      <th colspan=\"4\" halign=\"left\">sum</th>\n",
       "      <th colspan=\"4\" halign=\"left\">mean</th>\n",
       "    </tr>\n",
       "    <tr>\n",
       "      <th></th>\n",
       "      <th></th>\n",
       "      <th colspan=\"4\" halign=\"left\">Sale Price</th>\n",
       "      <th colspan=\"4\" halign=\"left\">Sale Price</th>\n",
       "    </tr>\n",
       "    <tr>\n",
       "      <th></th>\n",
       "      <th>Product</th>\n",
       "      <th>Analytics</th>\n",
       "      <th>GPS Positioning</th>\n",
       "      <th>Prediction</th>\n",
       "      <th>Tracking</th>\n",
       "      <th>Analytics</th>\n",
       "      <th>GPS Positioning</th>\n",
       "      <th>Prediction</th>\n",
       "      <th>Tracking</th>\n",
       "    </tr>\n",
       "    <tr>\n",
       "      <th>Account Manager</th>\n",
       "      <th>Contact</th>\n",
       "      <th></th>\n",
       "      <th></th>\n",
       "      <th></th>\n",
       "      <th></th>\n",
       "      <th></th>\n",
       "      <th></th>\n",
       "      <th></th>\n",
       "      <th></th>\n",
       "    </tr>\n",
       "  </thead>\n",
       "  <tbody>\n",
       "    <tr>\n",
       "      <th rowspan=\"2\" valign=\"top\">Claude Shannon</th>\n",
       "      <th>Cindy Phoner</th>\n",
       "      <td>6650000</td>\n",
       "      <td>0</td>\n",
       "      <td>700000</td>\n",
       "      <td>350000</td>\n",
       "      <td>3325000</td>\n",
       "      <td>0</td>\n",
       "      <td>700000</td>\n",
       "      <td>350000</td>\n",
       "    </tr>\n",
       "    <tr>\n",
       "      <th>Emma Gordian</th>\n",
       "      <td>11550000</td>\n",
       "      <td>350000</td>\n",
       "      <td>0</td>\n",
       "      <td>490000</td>\n",
       "      <td>5775000</td>\n",
       "      <td>350000</td>\n",
       "      <td>0</td>\n",
       "      <td>490000</td>\n",
       "    </tr>\n",
       "    <tr>\n",
       "      <th rowspan=\"3\" valign=\"top\">Edward Thorp</th>\n",
       "      <th>Elon Tusk</th>\n",
       "      <td>7350000</td>\n",
       "      <td>0</td>\n",
       "      <td>700000</td>\n",
       "      <td>0</td>\n",
       "      <td>3675000</td>\n",
       "      <td>0</td>\n",
       "      <td>700000</td>\n",
       "      <td>0</td>\n",
       "    </tr>\n",
       "    <tr>\n",
       "      <th>Larry Pager</th>\n",
       "      <td>4550000</td>\n",
       "      <td>0</td>\n",
       "      <td>700000</td>\n",
       "      <td>350000</td>\n",
       "      <td>2275000</td>\n",
       "      <td>0</td>\n",
       "      <td>700000</td>\n",
       "      <td>350000</td>\n",
       "    </tr>\n",
       "    <tr>\n",
       "      <th>Will Grates</th>\n",
       "      <td>2450000</td>\n",
       "      <td>0</td>\n",
       "      <td>0</td>\n",
       "      <td>350000</td>\n",
       "      <td>2450000</td>\n",
       "      <td>0</td>\n",
       "      <td>0</td>\n",
       "      <td>350000</td>\n",
       "    </tr>\n",
       "  </tbody>\n",
       "</table>\n",
       "</div>"
      ],
      "text/plain": [
       "                                    sum                                      \\\n",
       "                             Sale Price                                       \n",
       "Product                       Analytics GPS Positioning Prediction Tracking   \n",
       "Account Manager Contact                                                       \n",
       "Claude Shannon  Cindy Phoner    6650000               0     700000   350000   \n",
       "                Emma Gordian   11550000          350000          0   490000   \n",
       "Edward Thorp    Elon Tusk       7350000               0     700000        0   \n",
       "                Larry Pager     4550000               0     700000   350000   \n",
       "                Will Grates     2450000               0          0   350000   \n",
       "\n",
       "                                   mean                                      \n",
       "                             Sale Price                                      \n",
       "Product                       Analytics GPS Positioning Prediction Tracking  \n",
       "Account Manager Contact                                                      \n",
       "Claude Shannon  Cindy Phoner    3325000               0     700000   350000  \n",
       "                Emma Gordian    5775000          350000          0   490000  \n",
       "Edward Thorp    Elon Tusk       3675000               0     700000        0  \n",
       "                Larry Pager     2275000               0     700000   350000  \n",
       "                Will Grates     2450000               0          0   350000  "
      ]
     },
     "execution_count": 116,
     "metadata": {},
     "output_type": "execute_result"
    }
   ],
   "source": [
    "# Can add multiple agg functions\n",
    "pd.pivot_table(df,index=[\"Account Manager\",\"Contact\"],values=[\"Sale Price\"],columns=[\"Product\"],\n",
    "               aggfunc=[np.sum,np.mean],fill_value=0)"
   ]
  },
  {
   "cell_type": "code",
   "execution_count": 117,
   "id": "6810a4e1",
   "metadata": {},
   "outputs": [
    {
     "data": {
      "text/html": [
       "<div>\n",
       "<style scoped>\n",
       "    .dataframe tbody tr th:only-of-type {\n",
       "        vertical-align: middle;\n",
       "    }\n",
       "\n",
       "    .dataframe tbody tr th {\n",
       "        vertical-align: top;\n",
       "    }\n",
       "\n",
       "    .dataframe thead tr th {\n",
       "        text-align: left;\n",
       "    }\n",
       "\n",
       "    .dataframe thead tr:last-of-type th {\n",
       "        text-align: right;\n",
       "    }\n",
       "</style>\n",
       "<table border=\"1\" class=\"dataframe\">\n",
       "  <thead>\n",
       "    <tr>\n",
       "      <th></th>\n",
       "      <th></th>\n",
       "      <th colspan=\"8\" halign=\"left\">sum</th>\n",
       "    </tr>\n",
       "    <tr>\n",
       "      <th></th>\n",
       "      <th></th>\n",
       "      <th colspan=\"4\" halign=\"left\">Licenses</th>\n",
       "      <th colspan=\"4\" halign=\"left\">Sale Price</th>\n",
       "    </tr>\n",
       "    <tr>\n",
       "      <th></th>\n",
       "      <th>Product</th>\n",
       "      <th>Analytics</th>\n",
       "      <th>GPS Positioning</th>\n",
       "      <th>Prediction</th>\n",
       "      <th>Tracking</th>\n",
       "      <th>Analytics</th>\n",
       "      <th>GPS Positioning</th>\n",
       "      <th>Prediction</th>\n",
       "      <th>Tracking</th>\n",
       "    </tr>\n",
       "    <tr>\n",
       "      <th>Account Manager</th>\n",
       "      <th>Contact</th>\n",
       "      <th></th>\n",
       "      <th></th>\n",
       "      <th></th>\n",
       "      <th></th>\n",
       "      <th></th>\n",
       "      <th></th>\n",
       "      <th></th>\n",
       "      <th></th>\n",
       "    </tr>\n",
       "  </thead>\n",
       "  <tbody>\n",
       "    <tr>\n",
       "      <th rowspan=\"2\" valign=\"top\">Claude Shannon</th>\n",
       "      <th>Cindy Phoner</th>\n",
       "      <td>450</td>\n",
       "      <td>0</td>\n",
       "      <td>150</td>\n",
       "      <td>150</td>\n",
       "      <td>6650000</td>\n",
       "      <td>0</td>\n",
       "      <td>700000</td>\n",
       "      <td>350000</td>\n",
       "    </tr>\n",
       "    <tr>\n",
       "      <th>Emma Gordian</th>\n",
       "      <td>1050</td>\n",
       "      <td>300</td>\n",
       "      <td>0</td>\n",
       "      <td>450</td>\n",
       "      <td>11550000</td>\n",
       "      <td>350000</td>\n",
       "      <td>0</td>\n",
       "      <td>490000</td>\n",
       "    </tr>\n",
       "    <tr>\n",
       "      <th rowspan=\"3\" valign=\"top\">Edward Thorp</th>\n",
       "      <th>Elon Tusk</th>\n",
       "      <td>600</td>\n",
       "      <td>0</td>\n",
       "      <td>150</td>\n",
       "      <td>0</td>\n",
       "      <td>7350000</td>\n",
       "      <td>0</td>\n",
       "      <td>700000</td>\n",
       "      <td>0</td>\n",
       "    </tr>\n",
       "    <tr>\n",
       "      <th>Larry Pager</th>\n",
       "      <td>300</td>\n",
       "      <td>0</td>\n",
       "      <td>150</td>\n",
       "      <td>300</td>\n",
       "      <td>4550000</td>\n",
       "      <td>0</td>\n",
       "      <td>700000</td>\n",
       "      <td>350000</td>\n",
       "    </tr>\n",
       "    <tr>\n",
       "      <th>Will Grates</th>\n",
       "      <td>150</td>\n",
       "      <td>0</td>\n",
       "      <td>0</td>\n",
       "      <td>300</td>\n",
       "      <td>2450000</td>\n",
       "      <td>0</td>\n",
       "      <td>0</td>\n",
       "      <td>350000</td>\n",
       "    </tr>\n",
       "  </tbody>\n",
       "</table>\n",
       "</div>"
      ],
      "text/plain": [
       "                                   sum                                      \\\n",
       "                              Licenses                                       \n",
       "Product                      Analytics GPS Positioning Prediction Tracking   \n",
       "Account Manager Contact                                                      \n",
       "Claude Shannon  Cindy Phoner       450               0        150      150   \n",
       "                Emma Gordian      1050             300          0      450   \n",
       "Edward Thorp    Elon Tusk          600               0        150        0   \n",
       "                Larry Pager        300               0        150      300   \n",
       "                Will Grates        150               0          0      300   \n",
       "\n",
       "                                                                             \n",
       "                             Sale Price                                      \n",
       "Product                       Analytics GPS Positioning Prediction Tracking  \n",
       "Account Manager Contact                                                      \n",
       "Claude Shannon  Cindy Phoner    6650000               0     700000   350000  \n",
       "                Emma Gordian   11550000          350000          0   490000  \n",
       "Edward Thorp    Elon Tusk       7350000               0     700000        0  \n",
       "                Larry Pager     4550000               0     700000   350000  \n",
       "                Will Grates     2450000               0          0   350000  "
      ]
     },
     "execution_count": 117,
     "metadata": {},
     "output_type": "execute_result"
    }
   ],
   "source": [
    "# Can add on multiple columns\n",
    "pd.pivot_table(df,index=[\"Account Manager\",\"Contact\"],values=[\"Sale Price\",\"Licenses\"],columns=[\"Product\"],\n",
    "               aggfunc=[np.sum],fill_value=0)"
   ]
  },
  {
   "cell_type": "code",
   "execution_count": 118,
   "id": "5f89d99b",
   "metadata": {},
   "outputs": [
    {
     "data": {
      "text/html": [
       "<div>\n",
       "<style scoped>\n",
       "    .dataframe tbody tr th:only-of-type {\n",
       "        vertical-align: middle;\n",
       "    }\n",
       "\n",
       "    .dataframe tbody tr th {\n",
       "        vertical-align: top;\n",
       "    }\n",
       "\n",
       "    .dataframe thead tr th {\n",
       "        text-align: left;\n",
       "    }\n",
       "\n",
       "    .dataframe thead tr:last-of-type th {\n",
       "        text-align: right;\n",
       "    }\n",
       "</style>\n",
       "<table border=\"1\" class=\"dataframe\">\n",
       "  <thead>\n",
       "    <tr>\n",
       "      <th></th>\n",
       "      <th></th>\n",
       "      <th>sum</th>\n",
       "    </tr>\n",
       "    <tr>\n",
       "      <th></th>\n",
       "      <th></th>\n",
       "      <th>Sale Price</th>\n",
       "    </tr>\n",
       "    <tr>\n",
       "      <th>Account Manager</th>\n",
       "      <th>Status</th>\n",
       "      <th></th>\n",
       "    </tr>\n",
       "  </thead>\n",
       "  <tbody>\n",
       "    <tr>\n",
       "      <th rowspan=\"4\" valign=\"top\">Claude Shannon</th>\n",
       "      <th>Lost</th>\n",
       "      <td>4550000</td>\n",
       "    </tr>\n",
       "    <tr>\n",
       "      <th>Presented</th>\n",
       "      <td>3150000</td>\n",
       "    </tr>\n",
       "    <tr>\n",
       "      <th>Under Review</th>\n",
       "      <td>350000</td>\n",
       "    </tr>\n",
       "    <tr>\n",
       "      <th>Won</th>\n",
       "      <td>12040000</td>\n",
       "    </tr>\n",
       "    <tr>\n",
       "      <th rowspan=\"4\" valign=\"top\">Edward Thorp</th>\n",
       "      <th>Lost</th>\n",
       "      <td>4900000</td>\n",
       "    </tr>\n",
       "    <tr>\n",
       "      <th>Presented</th>\n",
       "      <td>3500000</td>\n",
       "    </tr>\n",
       "    <tr>\n",
       "      <th>Under Review</th>\n",
       "      <td>3500000</td>\n",
       "    </tr>\n",
       "    <tr>\n",
       "      <th>Won</th>\n",
       "      <td>4550000</td>\n",
       "    </tr>\n",
       "    <tr>\n",
       "      <th>All</th>\n",
       "      <th></th>\n",
       "      <td>36540000</td>\n",
       "    </tr>\n",
       "  </tbody>\n",
       "</table>\n",
       "</div>"
      ],
      "text/plain": [
       "                                    sum\n",
       "                             Sale Price\n",
       "Account Manager Status                 \n",
       "Claude Shannon  Lost            4550000\n",
       "                Presented       3150000\n",
       "                Under Review     350000\n",
       "                Won            12040000\n",
       "Edward Thorp    Lost            4900000\n",
       "                Presented       3500000\n",
       "                Under Review    3500000\n",
       "                Won             4550000\n",
       "All                            36540000"
      ]
     },
     "execution_count": 118,
     "metadata": {},
     "output_type": "execute_result"
    }
   ],
   "source": [
    "pd.pivot_table(df,index=[\"Account Manager\",\"Status\"],values=[\"Sale Price\"],\n",
    "               aggfunc=[np.sum],fill_value=0,margins=True)"
   ]
  },
  {
   "cell_type": "code",
   "execution_count": null,
   "id": "0d33b029",
   "metadata": {},
   "outputs": [],
   "source": []
  }
 ],
 "metadata": {
  "kernelspec": {
   "display_name": "Python 3",
   "language": "python",
   "name": "python3"
  },
  "language_info": {
   "codemirror_mode": {
    "name": "ipython",
    "version": 3
   },
   "file_extension": ".py",
   "mimetype": "text/x-python",
   "name": "python",
   "nbconvert_exporter": "python",
   "pygments_lexer": "ipython3",
   "version": "3.8.8"
  }
 },
 "nbformat": 4,
 "nbformat_minor": 5
}
